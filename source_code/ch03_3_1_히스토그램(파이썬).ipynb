{
 "cells": [
  {
   "cell_type": "markdown",
   "id": "f7b6ee76",
   "metadata": {},
   "source": [
    "# 빈도표 만들기"
   ]
  },
  {
   "cell_type": "code",
   "execution_count": 1,
   "id": "dc120f96",
   "metadata": {},
   "outputs": [
    {
     "name": "stdout",
     "output_type": "stream",
     "text": [
      "[1, 2, 3, 4, 5]\n"
     ]
    }
   ],
   "source": [
    "data = [1, 3, 3, 2, 3, 4, 2, 4, 5, 3]\n",
    "\n",
    "keys = list(set(data))\n",
    "print(keys)"
   ]
  },
  {
   "cell_type": "code",
   "execution_count": 2,
   "id": "c94bd1b8",
   "metadata": {},
   "outputs": [
    {
     "name": "stdout",
     "output_type": "stream",
     "text": [
      "[1, 2, 3, 4, 5]\n"
     ]
    }
   ],
   "source": [
    "keys.sort()\n",
    "print(keys)"
   ]
  },
  {
   "cell_type": "code",
   "execution_count": 3,
   "id": "b0a58852",
   "metadata": {},
   "outputs": [
    {
     "name": "stdout",
     "output_type": "stream",
     "text": [
      "{1: 0, 2: 0, 3: 0, 4: 0, 5: 0}\n"
     ]
    }
   ],
   "source": [
    "data_freq = {}\n",
    "for key in keys:\n",
    "    data_freq[key] = 0\n",
    "print(data_freq)"
   ]
  },
  {
   "cell_type": "code",
   "execution_count": 4,
   "id": "bdfd39bb",
   "metadata": {},
   "outputs": [
    {
     "name": "stdout",
     "output_type": "stream",
     "text": [
      "{1: 1, 2: 2, 3: 4, 4: 2, 5: 1}\n"
     ]
    }
   ],
   "source": [
    "for value in data:\n",
    "    data_freq[value] += 1\n",
    "print(data_freq)"
   ]
  },
  {
   "cell_type": "code",
   "execution_count": 5,
   "id": "24943192",
   "metadata": {},
   "outputs": [],
   "source": [
    "def count_freq(data):\n",
    "    \"\"\"\n",
    "    데이터 리스트를 빈도 딕셔너리로 변환\n",
    "    입력값: 리스트 data\n",
    "    출력값: 딕셔너리 data_freq\n",
    "    \"\"\"\n",
    "    data_freq = {}\n",
    "    keys = list(set(data))\n",
    "    keys.sort()\n",
    "    for key in keys:\n",
    "        data_freq[key] = 0\n",
    "    \n",
    "    for value in data:\n",
    "        data_freq[value] += 1\n",
    "    \n",
    "    return data_freq"
   ]
  },
  {
   "cell_type": "code",
   "execution_count": 6,
   "id": "9a0ae543",
   "metadata": {},
   "outputs": [],
   "source": [
    "data = [1, 3, 3, 2, 3, 4, 2, 4, 5, 3]"
   ]
  },
  {
   "cell_type": "code",
   "execution_count": 7,
   "id": "fac853e8",
   "metadata": {},
   "outputs": [
    {
     "name": "stdout",
     "output_type": "stream",
     "text": [
      "{1: 1, 2: 2, 3: 4, 4: 2, 5: 1}\n"
     ]
    }
   ],
   "source": [
    "data_freq = count_freq(data)\n",
    "print(data_freq)"
   ]
  },
  {
   "cell_type": "markdown",
   "id": "552547e9",
   "metadata": {},
   "source": [
    "# 비율표 만들기"
   ]
  },
  {
   "cell_type": "code",
   "execution_count": 8,
   "id": "25b22ebb",
   "metadata": {},
   "outputs": [],
   "source": [
    "def freq2ratio(dic):\n",
    "    \"\"\"\n",
    "    빈도 딕셔너리를 비율 딕셔너리로 변환\n",
    "    입력값: 빈도 딕셔너리 dic\n",
    "    출력값: 비율 딕셔너리 res\n",
    "    \"\"\"\n",
    "    n = sum(dic.values())\n",
    "    res = {}\n",
    "    for key in dic.keys():\n",
    "        val = dic[key]\n",
    "        res[key] = val/n\n",
    "    return res"
   ]
  },
  {
   "cell_type": "code",
   "execution_count": 9,
   "id": "4372c8d7",
   "metadata": {},
   "outputs": [
    {
     "name": "stdout",
     "output_type": "stream",
     "text": [
      "{1: 0.1, 2: 0.2, 3: 0.4, 4: 0.2, 5: 0.1}\n"
     ]
    }
   ],
   "source": [
    "data_ratio = freq2ratio(data_freq)\n",
    "print(data_ratio)"
   ]
  },
  {
   "cell_type": "code",
   "execution_count": 10,
   "id": "82a5a7ae",
   "metadata": {},
   "outputs": [
    {
     "data": {
      "image/png": "[encoded data removed]",
      "text/plain": [
       "<Figure size 432x288 with 1 Axes>"
      ]
     },
     "metadata": {
      "needs_background": "light"
     },
     "output_type": "display_data"
    }
   ],
   "source": [
    "import matplotlib.pyplot as plt\n",
    "\n",
    "plt.hist(data, bins=5, color='green')\n",
    "plt.show()"
   ]
  },
  {
   "cell_type": "code",
   "execution_count": null,
   "id": "b700ec56",
   "metadata": {},
   "outputs": [],
   "source": []
  }
 ],
 "metadata": {
  "kernelspec": {
   "display_name": "Python 3 (ipykernel)",
   "language": "python",
   "name": "python3"
  },
  "language_info": {
   "codemirror_mode": {
    "name": "ipython",
    "version": 3
   },
   "file_extension": ".py",
   "mimetype": "text/x-python",
   "name": "python",
   "nbconvert_exporter": "python",
   "pygments_lexer": "ipython3",
   "version": "3.9.12"
  }
 },
 "nbformat": 4,
 "nbformat_minor": 5
}
