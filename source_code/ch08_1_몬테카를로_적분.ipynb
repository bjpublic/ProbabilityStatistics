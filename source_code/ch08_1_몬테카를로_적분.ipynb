{
 "cells": [
  {
   "cell_type": "code",
   "execution_count": 1,
   "id": "2e05e16e",
   "metadata": {},
   "outputs": [],
   "source": [
    "def seq(start, stop, step):\n",
    "    \"\"\"\n",
    "    수열 만들기\n",
    "    입력값: start(시작 값), stop(끝 값), step(한 스텝당 증가 수)\n",
    "    출력값: res(리스트)\n",
    "    \"\"\"\n",
    "    res = []\n",
    "    current = start\n",
    "    while current < stop:\n",
    "        res.append(current)\n",
    "        current += step\n",
    "    return res"
   ]
  },
  {
   "cell_type": "code",
   "execution_count": 2,
   "id": "433ca92b",
   "metadata": {},
   "outputs": [],
   "source": [
    "def gamma_function(alpha, x):\n",
    "    \"\"\"\n",
    "    감마 함수\n",
    "    입력값: alpha, x\n",
    "    출력값: res(실수)\n",
    "    \"\"\"\n",
    "    e = 2.7182818284\n",
    "    res = (x**(alpha-1))*(e**(-x))\n",
    "    return res \n",
    "\n",
    "def gamma(alpha):\n",
    "    \"\"\"\n",
    "    감마\n",
    "    입력값: alpha\n",
    "    출력값: res(실수)\n",
    "    \"\"\"\n",
    "    a = 0\n",
    "    b = 100\n",
    "    x_list = seq(0.0001, 100, 0.001)\n",
    "    gamma_list = []\n",
    "    for x in x_list:\n",
    "        y = gamma_function(alpha, x)\n",
    "        gamma_list.append(y)\n",
    "    res = ((b-a)/len(x_list))*sum(gamma_list)\n",
    "    return res    "
   ]
  },
  {
   "cell_type": "code",
   "execution_count": 3,
   "id": "5772ce1f",
   "metadata": {},
   "outputs": [
    {
     "data": {
      "text/plain": [
       "2.0000000001182547"
      ]
     },
     "execution_count": 3,
     "metadata": {},
     "output_type": "execute_result"
    }
   ],
   "source": [
    "gamma(3)"
   ]
  },
  {
   "cell_type": "code",
   "execution_count": 4,
   "id": "d06a5bfe",
   "metadata": {},
   "outputs": [
    {
     "data": {
      "text/plain": [
       "1.3293403872810194"
      ]
     },
     "execution_count": 4,
     "metadata": {},
     "output_type": "execute_result"
    }
   ],
   "source": [
    "gamma(2.5)"
   ]
  },
  {
   "cell_type": "code",
   "execution_count": 5,
   "id": "9bc6725a",
   "metadata": {},
   "outputs": [
    {
     "data": {
      "text/plain": [
       "120.00000001562647"
      ]
     },
     "execution_count": 5,
     "metadata": {},
     "output_type": "execute_result"
    }
   ],
   "source": [
    "gamma(6)"
   ]
  },
  {
   "cell_type": "code",
   "execution_count": null,
   "id": "8bc7771e",
   "metadata": {},
   "outputs": [],
   "source": []
  }
 ],
 "metadata": {
  "kernelspec": {
   "display_name": "Python 3 (ipykernel)",
   "language": "python",
   "name": "python3"
  },
  "language_info": {
   "codemirror_mode": {
    "name": "ipython",
    "version": 3
   },
   "file_extension": ".py",
   "mimetype": "text/x-python",
   "name": "python",
   "nbconvert_exporter": "python",
   "pygments_lexer": "ipython3",
   "version": "3.9.4"
  }
 },
 "nbformat": 4,
 "nbformat_minor": 5
}
