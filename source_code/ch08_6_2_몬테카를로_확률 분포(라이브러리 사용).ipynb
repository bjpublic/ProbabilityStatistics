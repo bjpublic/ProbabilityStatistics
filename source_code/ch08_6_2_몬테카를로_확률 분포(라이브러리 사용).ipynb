{
 "cells": [
  {
   "cell_type": "markdown",
   "id": "a803a33d",
   "metadata": {},
   "source": [
    "# 균일 분포(이산형)"
   ]
  },
  {
   "cell_type": "markdown",
   "id": "54f19d93",
   "metadata": {},
   "source": [
    "### low = a\n",
    "### high = b"
   ]
  },
  {
   "cell_type": "code",
   "execution_count": 37,
   "id": "72e059b7",
   "metadata": {},
   "outputs": [],
   "source": [
    "import numpy as np\n",
    "import matplotlib.pyplot as plt"
   ]
  },
  {
   "cell_type": "code",
   "execution_count": 38,
   "id": "54dc52b3",
   "metadata": {},
   "outputs": [
    {
     "name": "stdout",
     "output_type": "stream",
     "text": [
      "[1 2 2 1 8 9 3 9 1 6]\n"
     ]
    }
   ],
   "source": [
    "np.random.seed(2022)\n",
    "\n",
    "a = 1\n",
    "b = 11\n",
    "x = np.random.randint(low=a, high=b, size=10)\n",
    "print(x)"
   ]
  },
  {
   "cell_type": "code",
   "execution_count": 39,
   "id": "ae735314",
   "metadata": {},
   "outputs": [
    {
     "data": {
      "image/png": "[encoded data removed]",
      "text/plain": [
       "<Figure size 432x288 with 1 Axes>"
      ]
     },
     "metadata": {
      "needs_background": "light"
     },
     "output_type": "display_data"
    }
   ],
   "source": [
    "plt.hist(x)\n",
    "plt.show()"
   ]
  },
  {
   "cell_type": "code",
   "execution_count": 35,
   "id": "7b77d921",
   "metadata": {},
   "outputs": [
    {
     "name": "stdout",
     "output_type": "stream",
     "text": [
      "[ 1  2  2  1  8  9  3  9  1  6 10  2  4  9  1  4  7  9  1  2  3  1  6  8\n",
      "  6  2  8  6  6  5  9  3  4  2  1  5  6  1  8  6  6  9  3  5  1 10  5 10\n",
      "  9  9  1  4 10  6  3  2  8  3  2  8 10  7  7  8  3 10  2 10  5  1  5  5\n",
      "  8  9  8  2  3 10  6  8  9  1  7  9  9  4  5  4  2  3  7  3  8  7  4  8\n",
      "  6  4  4  4  9  8  2  4 10  3  8  7  4  2 10  3  3  5  3  1  7  5  4  9\n",
      "  4  1 10 10  4  6  8  5  6  3  8  1  1  6  3  9  4  4  1  1  7  8  4  1\n",
      "  3  6  1  9  6  7  8  5 10  6  4  6  5  9 10 10  2  6  2  4  6  2  9  4\n",
      "  3  3  5  9  9  2  4 10  8  9  7  4  4  2 10  7  4  3  5  8 10  3  1  8\n",
      "  2  9  3  5  1  6  9  2  9  1  4  3  6  7 10  2  6  8  3  4  1  4  3  1\n",
      "  2  2  5  6  9  4  8 10  2  4  7  2  9  5  6  5  5  7  5  8 10  3  2  7\n",
      "  7  3  3  6 10  2  9  4  4  6  1  5  4  2  1  5 10  4  5  6  9  5  7 10\n",
      "  1  5  5  6  8  6  4  4  1  3  6  7  8  9  3  3 10  1  3  1  5  5  5  8\n",
      "  4  6  4  2  5  1  6  3  7  8  6  6 10  1  7 10  6  9  1  7  2  3 10  3\n",
      "  7  4  8  3  7  9  5  6  6  5  5  6  6  7  4  9  7  2  6  4 10  6  7 10\n",
      "  6  1  4  1  6  1 10  7  1  9  7  9  5  7  3  1 10  6  1  5  1  3 10  5\n",
      "  4 10  4  4 10  1  2  1  6  7 10  7  9  1  3  9  7  7  5  8  7  4  6  3\n",
      "  6  5  8  1 10  6  2  5  2  8  1 10  6 10 10  4  2  9  9  7  5  1  2  5\n",
      "  2  9  7  2  8  8  8  5  5  2  7  6  7  7  6  8  6  5  4  5  2  7  6  9\n",
      "  9  5  4  5  5  6  1  7  4  1  5  5 10 10  9  4  4  7  3  7  3  5  5  2\n",
      "  4  5  2  7  8  9  7  7  1  6  6  6  1  6  1  8  6  2  4  4  3  6  1  2\n",
      "  3  6  8  3  4 10  2  4  8  4  4  5  1  8  1  9  3  8  1 10  5  7  5  5\n",
      "  3  8  9  6  5  4  6  4  9  3  8  9  8  4  4  5  2  1  9  4  6  8  9 10\n",
      "  5  3  1  1  7  9  8  3  7 10  2  3  7  7  8  1  8 10  5  4  9  4  7  1\n",
      "  7  1 10  2  2  2  4  7  4  9  6  4  2  3  1  1  6  8  4  9  6  3  8  5\n",
      "  5  9  5  7  4  5  3  8  5  2  9 10 10  1  5  5  7  1  8  9  5  3  9  1\n",
      "  7 10  8  8  9  4  6  6  9  3  9  5  9  2  6  9  9  8  4  9  9 10  7  6\n",
      "  4  1  9 10  8  8  9  8  8  1  7  2  9  9  4  1  2  9  1  6  8  1 10  5\n",
      " 10  2  5  2  5  7  5  3  8  6  1  8  9  1  8  2  9  2  9  9  2  6  9  5\n",
      "  7  4  5  9  1 10  5  7  8  8 10  9  2  7  6  1  1  8  2  1  7  1  8 10\n",
      " 10  1  3  1  4  4  1  3  6  3  5  3  7  8  3  8  1  4  4  9  7  3  4  8\n",
      "  3  5  7  2  4  4  3  9  7  2  9  3 10  5  2  9  3  5  7 10  3  1  7  1\n",
      "  3  7  9  1  6  8  9  4 10  8  6  6  3  6  2  9  3  4 10  2  6  6  2  5\n",
      "  8  9  5  7  4 10  1  6  4  7  2  9  4  2 10  2  8  7  4  2  1  8  7  5\n",
      "  5  8  3  9  8  4  8 10  9  1  5  4  4 10  9 10  3  5  5  4  8  4 10  1\n",
      "  4  6  1  5 10  3  7  3  4  9 10  8  7  4 10  4  3  2  6  7  3  7  1  3\n",
      "  2  8  8  3  9  6  3  3  5  5  2 10  9  7  3  3  4  9  9  1  8  4  2  8\n",
      "  4  6  1  1  1 10  9  4  3  1  2  4  2  2  5  1  1  4  2  5  6  5  9 10\n",
      "  8 10  6  2  7  8 10  1  5  2 10  4  6 10  4  7  1 10  7  3  3  8  8  9\n",
      " 10  9  2  8  1  5  2  6  8  6  6  6  1  2 10  9  5  8  5  4  8 10  8  1\n",
      "  6  2 10  3  2  1  8  3 10  6  5  4  1  6 10  8  1  2  6  6  7  6  5  8\n",
      "  8 10  5 10  7  7  1  7  7  5  7 10  1  5  5  9  6  2  5  3  4  8  9  3\n",
      "  1  3  8  5  2  8  5  8  4  4  2  1 10  7  8  7]\n"
     ]
    }
   ],
   "source": [
    "np.random.seed(2022)\n",
    "\n",
    "a = 1\n",
    "b = 11\n",
    "x = np.random.randint(low=a, high=b, size=1000)\n",
    "print(x)"
   ]
  },
  {
   "cell_type": "code",
   "execution_count": 36,
   "id": "4650212f",
   "metadata": {},
   "outputs": [
    {
     "data": {
      "image/png": "[encoded data removed]",
      "text/plain": [
       "<Figure size 432x288 with 1 Axes>"
      ]
     },
     "metadata": {
      "needs_background": "light"
     },
     "output_type": "display_data"
    }
   ],
   "source": [
    "plt.hist(x)\n",
    "plt.show()"
   ]
  },
  {
   "cell_type": "markdown",
   "id": "7df91531",
   "metadata": {},
   "source": [
    "# 베르누이 분포"
   ]
  },
  {
   "cell_type": "code",
   "execution_count": 40,
   "id": "f6c4a06d",
   "metadata": {},
   "outputs": [],
   "source": [
    "import numpy as np\n",
    "import matplotlib.pyplot as plt"
   ]
  },
  {
   "cell_type": "code",
   "execution_count": 53,
   "id": "4307c942",
   "metadata": {},
   "outputs": [
    {
     "name": "stdout",
     "output_type": "stream",
     "text": [
      "[0 0 0 0 0 0 1 0 1 1]\n"
     ]
    }
   ],
   "source": [
    "np.random.seed(2022)\n",
    "\n",
    "n = 1\n",
    "p = 0.3\n",
    "x = np.random.binomial(n=n, p=p, size=10)\n",
    "print(x)"
   ]
  },
  {
   "cell_type": "code",
   "execution_count": 52,
   "id": "232fe869",
   "metadata": {},
   "outputs": [
    {
     "data": {
      "image/png": "[encoded data removed]",
      "text/plain": [
       "<Figure size 432x288 with 1 Axes>"
      ]
     },
     "metadata": {
      "needs_background": "light"
     },
     "output_type": "display_data"
    }
   ],
   "source": [
    "plt.hist(x)\n",
    "plt.show()"
   ]
  },
  {
   "cell_type": "code",
   "execution_count": 54,
   "id": "22111357",
   "metadata": {},
   "outputs": [
    {
     "name": "stdout",
     "output_type": "stream",
     "text": [
      "[0 0 0 0 0 0 1 0 1 1 1 1 1 1 0 0 0 0 1 0 1 0 0 1 0 0 1 0 0 0 0 0 1 0 1 0 1\n",
      " 1 0 1 0 0 0 0 0 0 0 0 0 1 0 1 0 0 0 0 1 0 0 1 0 0 0 0 0 0 1 0 0 1 0 1 0 0\n",
      " 1 0 1 0 1 0 0 1 0 0 0 1 0 1 0 0 0 0 1 0 0 1 0 0 0 0 0 0 1 0 0 1 0 1 0 1 0\n",
      " 1 0 0 0 0 0 1 0 1 0 0 1 0 0 1 1 1 1 0 1 1 0 0 0 0 0 1 0 1 0 0 0 0 0 0 0 0\n",
      " 0 0 0 1 0 0 0 1 1 1 0 1 0 0 1 0 0 0 0 0 0 0 1 1 0 1 1 0 0 1 1 1 0 0 0 0 1\n",
      " 1 0 0 0 1 1 1 0 1 0 0 0 0 1 0 0 0 0 0 1 0 0 1 0 0 0 1 0 0 1 0 0 0 1 0 1 0\n",
      " 1 0 0 0 1 1 0 1 1 1 0 0 1 0 0 0 1 0 0 0 0 1 0 1 1 1 0 1 1 0 0 0 0 0 1 1 0\n",
      " 0 1 0 0 0 1 1 0 0 1 0 1 1 1 0 0 0 0 0 0 0 0 0 0 1 0 0 0 0 0 0 0 0 0 0 1 0\n",
      " 1 0 0 1 0 0 1 1 1 0 1 0 0 1 0 1 0 1 1 1 0 0 1 0 1 0 0 0 0 0 0 1 0 0 1 1 0\n",
      " 0 1 0 1 0 0 1 1 0 1 0 0 0 1 0 0 0 1 1 0 1 1 0 0 0 1 1 0 0 1 0 0 0 0 0 0 0\n",
      " 0 0 0 0 0 1 1 1 0 0 0 0 0 0 1 0 0 0 0 0 1 0 0 1 0 1 0 1 0 0 0 0 0 0 0 0 1\n",
      " 0 0 1 0 0 0 0 0 0 0 0 1 1 1 0 0 0 0 1 1 1 0 0 0 0 0 0 0 0 0 0 0 0 0 1 0 1\n",
      " 0 0 1 1 0 0 0 0 0 0 1 1 0 0 0 0 0 0 1 1 1 0 1 1 1 0 0 0 1 0 0 1 0 1 1 0 0\n",
      " 0 0 0 1 0 0 0 0 1 0 1 0 1 0 0 0 0 1 0 0 0 0 0 0 0 0 1 1 0 0 0 1 0 1 0 0 1\n",
      " 0 0 1 1 0 1 1 1 0 0 1 0 0 0 1 0 1 1 0 0 0 0 0 0 0 0 0 0 0 1 0 1 0 1 1 0 0\n",
      " 1 0 1 0 0 0 0 1 1 0 0 0 0 0 0 0 0 0 1 0 0 0 1 0 0 0 0 0 0 0 1 0 0 0 1 0 0\n",
      " 1 0 0 0 0 0 1 0 1 1 1 0 1 0 0 1 0 1 0 0 0 0 0 0 1 0 0 0 1 0 0 1 0 1 0 0 0\n",
      " 0 0 1 0 0 0 0 0 0 0 1 0 0 0 0 0 0 0 0 0 0 0 0 0 0 0 0 1 1 0 1 0 1 1 0 0 0\n",
      " 0 1 0 0 0 1 0 0 1 0 0 0 1 0 0 1 1 0 1 0 0 0 0 0 0 0 0 0 0 1 0 0 0 1 0 1 1\n",
      " 1 0 1 0 1 0 0 0 1 0 0 1 0 0 1 1 0 0 1 0 0 1 1 0 0 0 0 1 1 1 0 0 0 0 0 0 0\n",
      " 0 1 0 1 1 0 0 0 1 0 0 0 0 1 0 0 1 0 0 0 1 0 0 1 0 1 0 0 1 1 1 1 0 1 0 0 0\n",
      " 0 0 1 0 0 0 0 0 0 0 1 0 0 0 1 0 1 1 1 1 1 0 0 0 0 0 1 1 0 0 1 1 0 0 1 0 0\n",
      " 1 0 0 1 1 0 1 1 0 1 0 0 0 0 0 0 0 0 0 1 0 0 0 1 1 0 0 0 0 0 1 0 0 0 1 1 0\n",
      " 1 0 0 0 0 0 0 0 0 0 0 0 0 0 0 0 0 0 0 0 1 1 0 0 0 0 0 0 0 1 1 0 0 0 1 0 1\n",
      " 1 0 0 0 0 0 1 0 1 1 0 0 0 0 0 1 0 1 0 0 0 0 0 0 1 1 0 0 1 0 1 0 0 0 0 0 0\n",
      " 1 1 0 0 0 0 0 1 0 1 0 0 0 0 0 1 0 1 0 0 1 0 1 0 1 0 1 0 0 1 0 0 0 1 0 0 0\n",
      " 1 0 0 0 0 0 0 0 0 1 1 1 1 0 0 1 1 1 0 0 1 0 0 0 1 0 0 0 1 0 0 0 0 0 0 0 1\n",
      " 0]\n"
     ]
    }
   ],
   "source": [
    "np.random.seed(2022)\n",
    "\n",
    "n = 1\n",
    "p = 0.3\n",
    "x = np.random.binomial(n=n, p=p, size=1000)\n",
    "print(x)"
   ]
  },
  {
   "cell_type": "code",
   "execution_count": 55,
   "id": "cb7cffd9",
   "metadata": {},
   "outputs": [
    {
     "data": {
      "image/png": "[encoded data removed]",
      "text/plain": [
       "<Figure size 432x288 with 1 Axes>"
      ]
     },
     "metadata": {
      "needs_background": "light"
     },
     "output_type": "display_data"
    }
   ],
   "source": [
    "plt.hist(x)\n",
    "plt.show()"
   ]
  },
  {
   "cell_type": "markdown",
   "id": "edca537b",
   "metadata": {},
   "source": [
    "# 이항 분포"
   ]
  },
  {
   "cell_type": "code",
   "execution_count": 56,
   "id": "3a2834ee",
   "metadata": {},
   "outputs": [],
   "source": [
    "import numpy as np\n",
    "import matplotlib.pyplot as plt"
   ]
  },
  {
   "cell_type": "code",
   "execution_count": 42,
   "id": "57b85cad",
   "metadata": {},
   "outputs": [
    {
     "name": "stdout",
     "output_type": "stream",
     "text": [
      "[0 3 1 1 4 3 5 3 5 4]\n"
     ]
    }
   ],
   "source": [
    "np.random.seed(2022)\n",
    "\n",
    "n = 10\n",
    "p = 0.3\n",
    "x = np.random.binomial(n=n, p=p, size=10)\n",
    "print(x)"
   ]
  },
  {
   "cell_type": "code",
   "execution_count": 43,
   "id": "ccc61728",
   "metadata": {},
   "outputs": [
    {
     "data": {
      "image/png": "[encoded data removed]",
      "text/plain": [
       "<Figure size 432x288 with 1 Axes>"
      ]
     },
     "metadata": {
      "needs_background": "light"
     },
     "output_type": "display_data"
    }
   ],
   "source": [
    "plt.hist(x)\n",
    "plt.show()"
   ]
  },
  {
   "cell_type": "code",
   "execution_count": 48,
   "id": "fb4422a1",
   "metadata": {},
   "outputs": [
    {
     "name": "stdout",
     "output_type": "stream",
     "text": [
      "[0 3 1 1 4 3 5 3 5 4 4 4 4 6 2 3 2 3 6 1 4 2 2 4 0 3 5 3 2 3 3 2 6 1 4 2 4\n",
      " 5 2 6 1 1 2 2 3 4 4 3 1 5 1 4 1 2 2 2 5 0 3 5 2 0 4 2 3 3 6 1 1 6 3 5 3 3\n",
      " 5 4 4 1 6 2 2 4 2 2 0 4 3 5 3 1 3 2 5 3 1 5 4 0 1 0 3 3 4 2 1 5 3 4 3 4 2\n",
      " 4 2 2 3 2 2 4 0 5 3 2 5 3 1 4 4 4 6 2 6 4 3 2 1 2 2 4 2 5 1 3 2 3 3 2 0 1\n",
      " 2 4 3 6 1 1 3 5 4 5 2 5 2 3 4 1 3 3 1 2 2 3 5 9 2 6 4 2 2 4 4 5 3 3 3 3 4\n",
      " 7 1 2 2 5 5 4 3 4 1 3 2 1 5 1 4 2 4 3 5 3 2 8 2 4 2 7 2 3 4 3 1 1 5 1 6 2\n",
      " 4 3 2 3 6 4 2 5 4 5 2 3 4 3 1 2 4 3 1 3 2 4 3 4 5 4 3 5 4 2 2 2 4 3 4 4 2\n",
      " 2 5 3 3 2 5 4 4 3 5 2 4 5 5 2 3 2 2 3 2 1 1 1 4 5 4 0 3 1 1 4 0 2 2 3 4 3\n",
      " 5 2 2 4 3 2 4 4 5 0 4 1 3 6 3 5 3 4 6 4 2 3 5 2 4 1 3 3 3 3 1 6 3 4 4 4 4\n",
      " 3 5 1 4 2 2 4 5 1 4 2 4 4 4 3 3 3 5 5 3 4 5 2 1 0 4 4 2 1 6 2 2 3 3 2 2 2\n",
      " 2 2 2 2 2 4 4 4 3 3 2 2 3 0 5 2 2 3 2 2 4 1 3 4 4 5 4 5 3 4 3 3 1 1 3 1 5\n",
      " 4 4 5 3 3 2 2 3 0 3 0 6 4 4 2 3 2 1 4 5 4 3 3 3 3 2 3 2 2 1 3 2 3 3 5 2 5\n",
      " 3 0 4 4 1 3 2 4 3 2 4 4 3 3 4 0 3 0 4 4 4 2 6 4 4 2 2 3 6 1 2 4 1 5 5 4 3\n",
      " 2 3 1 5 1 3 3 2 4 3 4 4 4 2 1 4 3 5 2 3 0 3 2 2 2 2 4 4 2 1 3 5 4 4 2 3 4\n",
      " 2 1 4 4 2 7 5 4 2 3 5 1 3 3 4 1 4 6 3 1 2 2 1 2 3 3 1 0 0 4 3 4 4 6 5 1 4\n",
      " 4 3 4 2 0 3 2 4 4 0 1 2 2 0 3 0 2 3 4 2 0 3 4 3 3 2 2 1 2 2 5 3 2 2 4 0 4\n",
      " 6 1 1 2 3 3 6 2 4 4 6 3 4 2 3 5 4 4 3 3 3 3 1 3 4 3 1 2 4 2 4 4 3 5 3 2 3\n",
      " 3 1 4 2 2 0 1 2 1 3 4 3 2 2 2 3 3 3 1 4 3 1 2 3 2 3 1 7 4 2 4 2 5 6 1 1 3\n",
      " 2 4 2 2 3 4 1 3 5 3 2 3 4 3 0 5 4 2 4 2 3 3 3 2 3 3 1 1 2 4 3 1 2 4 2 4 4\n",
      " 4 3 5 1 7 1 1 3 4 2 3 4 2 0 5 4 2 2 5 3 2 5 5 2 3 1 3 5 5 5 3 2 2 4 0 1 3\n",
      " 2 4 2 4 4 1 2 3 6 3 1 1 2 5 0 3 5 2 2 3 4 2 2 4 3 5 2 4 4 4 4 6 4 4 1 1 0\n",
      " 4 3 4 2 3 2 1 3 1 3 4 2 2 3 4 3 4 5 4 5 4 2 4 4 2 3 5 5 3 1 5 6 3 1 5 2 2\n",
      " 4 2 3 5 5 3 4 5 2 4 1 2 1 2 2 3 1 3 2 6 2 1 2 7 4 2 3 4 4 1 4 3 2 2 6 5 3\n",
      " 6 2 0 3 4 2 2 1 3 1 3 2 1 2 2 3 3 2 2 4 5 5 2 1 3 3 3 3 1 5 6 3 2 2 5 3 5\n",
      " 4 1 0 2 3 2 5 1 4 4 3 2 2 2 3 4 2 5 3 2 2 3 2 3 5 4 3 3 5 3 5 2 3 3 3 1 3\n",
      " 8 8 3 1 3 3 3 4 1 6 3 3 1 4 1 5 1 4 2 3 4 3 4 3 4 2 4 4 2 5 1 2 4 5 2 4 2\n",
      " 7 2 3 1 2 4 2 3 1 4 5 5 4 2 3 6 5 5 3 3 5 1 1 2 5 4 3 2 4 3 3 4 3 3 3 2 5\n",
      " 0]\n"
     ]
    }
   ],
   "source": [
    "np.random.seed(2022)\n",
    "\n",
    "n = 10\n",
    "p = 0.3\n",
    "x = np.random.binomial(n=n, p=p, size=1000)\n",
    "print(x)"
   ]
  },
  {
   "cell_type": "code",
   "execution_count": 49,
   "id": "99187ab3",
   "metadata": {},
   "outputs": [
    {
     "data": {
      "image/png": "[encoded data removed]",
      "text/plain": [
       "<Figure size 432x288 with 1 Axes>"
      ]
     },
     "metadata": {
      "needs_background": "light"
     },
     "output_type": "display_data"
    }
   ],
   "source": [
    "plt.hist(x)\n",
    "plt.show()"
   ]
  },
  {
   "cell_type": "markdown",
   "id": "f4811b22",
   "metadata": {},
   "source": [
    "# 포아송 분포"
   ]
  },
  {
   "cell_type": "code",
   "execution_count": 57,
   "id": "b883f651",
   "metadata": {},
   "outputs": [],
   "source": [
    "import numpy as np\n",
    "import matplotlib.pyplot as plt"
   ]
  },
  {
   "cell_type": "code",
   "execution_count": 84,
   "id": "4bf7efc8",
   "metadata": {},
   "outputs": [],
   "source": [
    "np.random.seed(2022)\n",
    "\n",
    "\n",
    "mu = 3\n",
    "x = np.random.poisson(lam = mu, size=10)"
   ]
  },
  {
   "cell_type": "code",
   "execution_count": 85,
   "id": "31d298c2",
   "metadata": {},
   "outputs": [
    {
     "data": {
      "image/png": "[encoded data removed]",
      "text/plain": [
       "<Figure size 432x288 with 1 Axes>"
      ]
     },
     "metadata": {
      "needs_background": "light"
     },
     "output_type": "display_data"
    }
   ],
   "source": [
    "plt.hist(x)\n",
    "plt.show()"
   ]
  },
  {
   "cell_type": "code",
   "execution_count": 103,
   "id": "3a2216d6",
   "metadata": {},
   "outputs": [
    {
     "name": "stdout",
     "output_type": "stream",
     "text": [
      "[ 0  2 10  4  3  0  3  4  6  0  3  2  1  1  2  1  3  3  2  6  3  3  0  4\n",
      "  3  2  0  1  4  5  2  2  1  5  6  2  3  2  3  0  1  3  4  2  2  2  2  5\n",
      "  6  3  1  5  2  3  4  3  5  2  4  5  5  3  3  6  2  4  4  4  5  3  0  3\n",
      "  0  1  2  1  4  3  3  4  8  2  3  8  5  5  7  1  3  3  2  1  2  5  3  4\n",
      "  2  7  2  2  6  2  1  4  1  5  2  2  2  5  2  3  5  0  1  6  1  3  5  2\n",
      "  3  6  2  3  2  1  3  5  2  6  2  3  3  2  3  0  0  6  5  4  1  1  1  3\n",
      "  0  4  1  4  2  3  4  6  5  2  2  2  5  2  3  1  2  3  3  2  3  0  4  2\n",
      "  2  2  2  3  3  4  3  2  0  3  3  4  2  3  2  3  5  1  5  2  1  3  2  3\n",
      "  1  1  4  2  5  5  0  0  4  1  1  3  8  6  0  4  3  6  2  1  2  4  3  3\n",
      "  3  5  3  2  2  2  2  4  4  4  4  0  2  2  3  3  3  4  5  3  4  4  3  1\n",
      "  3  6  4  4  3  1  3  9  2  1  5  4  2  1  2  0  5  1  2  0  2  3  4  2\n",
      "  7  6  3  5  4  0  2  4  7  2  3  5  2  4  2  2  2  2  5  4  3  0  7  1\n",
      "  6  5  2  1  4  1  3  6  3  2  4  2  2  3  3  1  4  4  5  7  3  2  3  3\n",
      "  2  4  2  3  3  4  1  4  2  3  3  2  1  5  4  2  4  7  1  2  3  0  1  4\n",
      "  2  6  2  0  3  2  0  4  3  6  2  3  3  6  2  2  4  4  1  5  6  2  1  3\n",
      "  3  2  4  0  6  2  4  1  2  2  4  5  2  2  5  5  4  4  6  3  2  2  1  3\n",
      "  2  2  4  0  3  5  5  3  5  3  3  5  1  4  4  2  3  7  1  3  3  2  3  3\n",
      "  1  1  1  4  3  2  5  5  3  5  1  3  8  0  5  3  2  3  7  5  1  3  3  6\n",
      "  1  1  7  1  5  3  2  2  3  5  2  4  4  3  5  3  2  3  3  2  1  2  1  4\n",
      "  6  4  5  1  0  1  1  1  1  1  5  2  4  3  3  2  4  4  5  0  2  4  2  2\n",
      "  4  2  4  2  3  1  4  2  5  3  2  1  2  7  2  3  3  4  2  4  3  4  0  1\n",
      "  3  2  5  2  2  1  3  7  2  4  3  2  1  2  2  5  1  2  5  3  4  1  3  6\n",
      "  2  3  4  5  4  7  3  1  2  4 10  3  2  5  3  4  1  3  0  3  8  0  2  1\n",
      "  1  4  1  1  0  5  2  2  3  5  4  3  2  4  4  2  6  1  5  2  3  3  1  4\n",
      "  4  4  2  2  3  2  5  4  7  6  3  3  2  3  4  1  6  1  2  5  2  1  3  1\n",
      "  0  2  2  5  3  5  3  2  6  2  3  1  2  5  5  3  2  2  4  3  2  1  1  0\n",
      "  2  2  2  1  1  1  9  4  2  0  3  4  1  3  4  1  7  5  0  3  2  4  7  2\n",
      "  2  2  7  3  2  5  3  1  0  3  1  7  3  0  3  6  3  3  8  5  2  5  2  1\n",
      "  2  1  3  3  1  4  4  2  4  4  1  1  2  4  2  3  3  1  0  5  2  3  2  4\n",
      "  7  0  4  2  5  6  1  3  2  3  1  1  1  1  3  4  4  5  3  2  5  0  2  6\n",
      "  0  3  4  2  3  1  2  4  4  2  2  5  4  3  0  1  5  2  2  3  4  2  4  2\n",
      "  3  5  2  2  2  4  3  3  3  1  3  1  4  0  1  0  5  9  3  3  1  1  1  2\n",
      "  3  1  0  1  2  4  2  7  3  4  3  4  4  4  2  2  5  3  5  1  2  2  2  5\n",
      "  2  1  2  3  2  5  1  3  2  4  5  2  4  1  5  3  3  2  1  5  4  6  1  4\n",
      "  6  2  1  1  7  4  1  7  2  4  3  4  4  5  3  3  1  5  3  1  2  2  2  3\n",
      "  4  1  1  8  4  5  2  4  4  6  3  1  3  3  3  2  3  2  2  1  3  1  2  2\n",
      "  5  1  0  1  5  2  1  4  2  3  3  0  6  1  3  5  3  2  4  7  4  2  4  1\n",
      "  2  2  1  4  1  3  4  3  2  2  2  1  4  4  5  3  7  6  3  3  4  3  0  1\n",
      "  2  4  3  1  1  3  1  2  1  2  1  5  2  3  3  4  3  3  4  3  2  1  3  2\n",
      "  2  6  3  2  5  4  3  5  3  1  1  2  4  2  3  3  3  3  2  2  1  5  3  0\n",
      "  2  3  5  3  2  3  3  3  2  3  6  4  3  1  5  6  4  4  4  2  1  5  4  2\n",
      "  2  8  6  4  4  4  6  6  4  1  1  1  2  2  2  0]\n"
     ]
    }
   ],
   "source": [
    "np.random.seed(2022)\n",
    "\n",
    "\n",
    "mu = 3\n",
    "x = np.random.poisson(lam = mu, size=1000)\n",
    "print(x)"
   ]
  },
  {
   "cell_type": "code",
   "execution_count": 102,
   "id": "9bf942b4",
   "metadata": {},
   "outputs": [
    {
     "data": {
      "image/png": "[encoded data removed]",
      "text/plain": [
       "<Figure size 432x288 with 1 Axes>"
      ]
     },
     "metadata": {
      "needs_background": "light"
     },
     "output_type": "display_data"
    }
   ],
   "source": [
    "plt.hist(x)\n",
    "plt.show()"
   ]
  },
  {
   "cell_type": "markdown",
   "id": "f5500585",
   "metadata": {},
   "source": [
    "# 기하분포"
   ]
  },
  {
   "cell_type": "code",
   "execution_count": 58,
   "id": "429b8ac7",
   "metadata": {},
   "outputs": [],
   "source": [
    "import numpy as np\n",
    "import matplotlib.pyplot as plt"
   ]
  },
  {
   "cell_type": "code",
   "execution_count": 86,
   "id": "7ea02ad8",
   "metadata": {},
   "outputs": [],
   "source": [
    "np.random.seed(2022)\n",
    "\n",
    "p = 0.2\n",
    "x = np.random.geometric(p=p, size=10)"
   ]
  },
  {
   "cell_type": "code",
   "execution_count": 87,
   "id": "76b49f86",
   "metadata": {},
   "outputs": [
    {
     "data": {
      "image/png": "[encoded data removed]",
      "text/plain": [
       "<Figure size 432x288 with 1 Axes>"
      ]
     },
     "metadata": {
      "needs_background": "light"
     },
     "output_type": "display_data"
    }
   ],
   "source": [
    "plt.hist(x)\n",
    "plt.show()"
   ]
  },
  {
   "cell_type": "code",
   "execution_count": 105,
   "id": "0ae14de7",
   "metadata": {},
   "outputs": [
    {
     "name": "stdout",
     "output_type": "stream",
     "text": [
      "[ 1  4  1  1  6  3 11  5 11  6  8  8  9 15  3  4  2  5 18  1  7  2  2  7\n",
      "  1  4  9  3  2  3  4  2 17  1  8  2  7 12  3 16  1  1  2  3  4  5  6  4\n",
      "  1 11  1  7  1  2  2  2 13  1  3 11  2  1  6  1  4  5 21  1  1 20  3  9\n",
      "  3  3 10  5  7  1 16  2  2  6  2  1  1  8  5 10  5  1  3  1 13  3  1 10\n",
      "  6  1  1  1  3  4  7  2  1 12  5  8  5  7  2  7  1  2  3  2  2  9  1 11\n",
      "  3  2 11  4  1  6  8  7 20  1 20  6  5  1  1  2  2  8  3 10  1  3  2  3\n",
      "  3  2  1  1  2  6  3 18  1  1  5 13  8 12  2 11  2  3  6  1  4  3  1  2\n",
      "  3  3 12 45  2 15  6  2  2  8  8 13  5  3  3  5  7 29  1  1  2 12 11  8\n",
      "  4  8  1  5  2  1 12  1  5  2  6  4 14  4  2 38  2  6  2 27  2  4  8  5\n",
      "  1  1 11  1 21  2  6  4  2  4 16  6  1 13  6 11  2  4  6  4  1  2  8  4\n",
      "  1  3  2  8  3  8 12  7  4 11  8  1  1  3  5  5  7  7  3  2 13  3  3  2\n",
      " 10  6  6  3  9  1  6 11  9  2  4  1  2  5  2  1  1  1  5 13  5  1  4  1\n",
      "  1  6  1  2  1  3  8  4  9  2  1  6  3  2  8  9 13  1  7  1  3 19  4  9\n",
      "  5  8 15  8  2  5 11  2  8  1  5  3  4  3  1 16  4  5  8  7  5  4 14  1\n",
      "  7  2  2  7 11  1  7  2  6  5  6  3  4  4 11  9  3  7  9  1  1  1  9  7\n",
      "  2  1 16  2  2  3  3  2  2  1  1  2  2  3  2  8  6  8  5  5  3  3  4  1\n",
      " 10  2  2  4  2  2  6  1  3  8  5  9  5 11  3  5  3  4  1  1  5  1 14  6\n",
      "  5 10  3  3  1  1  5  1  3  1 15  9  6  1  3  1  1  6 11  9  3  3  3  3\n",
      "  1  4  2  1  1  3  1  3  4 11  2 11  4  1  9  7  1  3  2  6  4  2  7  8\n",
      "  4  3  5  1  3  1  6  8  8  1 14  6  8  2  1  3 17  1  1  8  1 12 11  6\n",
      "  4  1  4  1 10  1  5  4  2  7  4  7  6  6  2  1  5  3  9  2  3  1  4  2\n",
      "  1  2  1  9  8  2  1  3 12  6  7  2  3  7  1  1  8  6  2 22  9  9  2  3\n",
      "  9  1  4  4  9  1  7 20  3  1  2  2  1  2  4  5  1  1  1  9  5  8  5 17\n",
      " 13  1  5  7  4  8  2  1  4  2  7  7  1  1  1  1  1  3  1  1  4  7  2  1\n",
      "  3  8  3  4  2  1  1  3  3 12  5  2  2  8  1  5 17  1  1  2  5  4 20  1\n",
      "  6  7 15  5  8  1  4 11  6  7  3  4  3  4  1  4  6  5  1  2  7  1  5  7\n",
      "  4 12  3  2  3  5  1  7  2  2  1  1  2  1  3  7  4  2  2  1  3  4  4  1\n",
      "  6  3  1  2  3  2  5  1 26  7  2  6  2  9 18  1  1  3  2  9  1  2  3  8\n",
      "  1  4 10  3  1  3  8  3  1 11  8  2  6  1  4  5  3  1  4  5  1  1  3  7\n",
      "  5  1  2  7  2  6  6  7  3 14  1 21  1  1  3  8  1  3  6  2  1 10  8  2\n",
      "  2 12  4  2 10  9  3  5  1  5  9 12 12  3  1  3  6  1  1  3  2  7  2  9\n",
      "  7  1  2  4 20  5  1  1  1 13  1  5 13  3  2  5  7  1  2  7  3 13  2  5\n",
      "  7  6  9 18  5  7  1  1  1  6  3  9  2  3  2  1  4  1  3  6  1  2  4  7\n",
      "  3  8 13  8 10  9  2  6  6  2  3 10 11  5  1 11 17  5  1 10  2  2  7  2\n",
      "  4 10 14  4  8 11  2  8  1  2  1  2  2  4  1  4  2 15  2  1  2 24  7  1\n",
      "  3  5  5  1  6  4  3  1 15 14  3 15  2  1  4  6  2  1  1  3  1  4  2  1\n",
      "  2  2  4  3  2  2  6 11 12  2  1  4  4  3  4  1 11 16  3  1  1 11  3  9\n",
      "  9  1  1  1  3  2 13  1  8  8  4  2  2  1  4  9  2 11  3  1  1  4  2  5\n",
      " 11  6  4  3 10  4  9  2  5  4  4  1  4 29 33  3  1  4  3  3  6  1 15  4\n",
      "  3  1  6  1 10  1  8  1  4  8  4  9  4  8  2  8  6  2  9  1  2  5  9  2\n",
      "  5  2 24  1  3  1  2  6  2  5  1  8 10 11  7  2  3 15 10 13  4  5 13  1\n",
      "  1  2 11  6  4  2  7  3  3  6  3  4  4  3  9  1]\n"
     ]
    }
   ],
   "source": [
    "np.random.seed(2022)\n",
    "\n",
    "p = 0.2\n",
    "x = np.random.geometric(p=p, size=1000)\n",
    "print(x)"
   ]
  },
  {
   "cell_type": "code",
   "execution_count": 106,
   "id": "44427d37",
   "metadata": {},
   "outputs": [
    {
     "data": {
      "image/png": "[encoded data removed]",
      "text/plain": [
       "<Figure size 432x288 with 1 Axes>"
      ]
     },
     "metadata": {
      "needs_background": "light"
     },
     "output_type": "display_data"
    }
   ],
   "source": [
    "plt.hist(x)\n",
    "plt.show()"
   ]
  },
  {
   "cell_type": "markdown",
   "id": "42505ef0",
   "metadata": {},
   "source": [
    "# 음이항 분포"
   ]
  },
  {
   "cell_type": "code",
   "execution_count": 60,
   "id": "6284290e",
   "metadata": {},
   "outputs": [],
   "source": [
    "import numpy as np\n",
    "import matplotlib.pyplot as plt"
   ]
  },
  {
   "cell_type": "code",
   "execution_count": 88,
   "id": "348b73b5",
   "metadata": {},
   "outputs": [],
   "source": [
    "np.random.seed(2022)\n",
    "\n",
    "n = 10\n",
    "p = 0.3\n",
    "x =np.random.negative_binomial(n=n, p=p, size=10)"
   ]
  },
  {
   "cell_type": "code",
   "execution_count": 89,
   "id": "06d5c39f",
   "metadata": {},
   "outputs": [
    {
     "data": {
      "image/png": "[encoded data removed]",
      "text/plain": [
       "<Figure size 432x288 with 1 Axes>"
      ]
     },
     "metadata": {
      "needs_background": "light"
     },
     "output_type": "display_data"
    }
   ],
   "source": [
    "plt.hist(x)\n",
    "plt.show()"
   ]
  },
  {
   "cell_type": "code",
   "execution_count": 108,
   "id": "a7db3212",
   "metadata": {},
   "outputs": [
    {
     "name": "stdout",
     "output_type": "stream",
     "text": [
      "[22 27 38 23 20 38 20  7 18 10 24 20 14 24 24 17 15 28 23 36 20 18 17 26\n",
      " 31 37 15  5 13 36 19 18 23 24 28 36 32 15 29 10 30 34 20 26 33 23 21 14\n",
      " 19 30 23 21 26 21 20 23 23 37 25 23 13 29 47 35 14 35 44 56 23 27 12 15\n",
      " 30 28 21 33 40 20 19  9 27 21 31 17 18 11 39 28 25 18 24 33 12 23 19 34\n",
      " 30 46 16 19  9 28 24 17 23 17 25 33 51 35 38 29 23 29 36 20 16 49 15 22\n",
      " 34 22 24 20 43 28 21 15 32 18 18 22 23 43 27 15 22 22 13 29 52 19 36 11\n",
      " 33 25 23 19 32 13 26 20 23 18 20 13 36 14  7 13 22 26 25 22 30 29 31 20\n",
      " 18 11 18 25 31 15 29 16 18 17 22 25 31 18 23 19 22 27 22 16 23 32 23 21\n",
      " 16 15 25 40 29 28 13 31 19 37 31 23 22 41 25 21 25 28 42 18 22 18 30 34\n",
      " 27 22 22 33 19 19 36 31 26 26  8 21 17 14 19 33 16 30 31 17 28 23 38 26\n",
      " 28 34 25 22 31 21 23 32 22 31 28 23 30 11 30 21 13 22 15 33 14 12 22 10\n",
      " 31 12 13 25 13 42 22 16 34 15 51 18 15 18 16 22 23 24 25 15 26 32 19 18\n",
      " 19 38 28 35 28 24 16 22 34 25 35 33 33 32 13 30 16 17 40 19 20 29 21 31\n",
      " 32 33 19 15 22 16 12 13 39 35 23 19 21 24 64  9 22 15 32 28 18 16 30 20\n",
      " 24 18 13 18 19 33 22 21 28 19 15 19 30 28 27  8 24 18 30 15 24 19 30 28\n",
      " 21 27 40 25 22  8 18 26 14 16 22  7 19 24 16 28 15 22 16 16 36 30 29 21\n",
      " 17 33 31 36 22 24 18 41 13 64 22 27 29 42 23 26 15 28 18 26 15 27 16 28\n",
      " 12 27 32 26 20 15 27 36 13 19 25 11 43 25 14  7 29 32 27 12 23 15 12 17\n",
      " 14 30 18 19 25 32 22 35 20 40 19 19 28 39 29 24 28  8 16 17 19 26 19 21\n",
      " 30 22 24 26 18 16 22 23 24 37  7 25 15 12 14 15 21 19 28 24 15 23 21 44\n",
      " 15 13 29 14 37 16 33 18 16 16 23 29 24 40 15 34 25 25 34 20 24 18 19 20\n",
      " 30 32 19 24 39 17 29 17 26 19 24 12 39 33 46 13 38 19 27  9 21 31 48 33\n",
      " 41 40 25 16 28 26 44 29 14 25 23 19 25  9 30 17 35 42 36 31 15 12 26 18\n",
      " 14 25 37 17 22 13 11 19 15 24 32 36 19 28 12 21 18 31 18 36 23 12 22 17\n",
      " 15 16 23 17 23 32 37 30 26 20 43 20 19 27 34 53 15 33 29 13 31 34 14 12\n",
      " 15 21 16 19 33 40 18 13 17 33 13 15 22 20 17 17 33 25 16 20 15 13 11 17\n",
      " 15 15 27 31 23 23 38 15 21 14 50 36 17 17 12 17 17 22 43 21 21 22 14 51\n",
      " 13 15 12 24 18 27 22 21 25 27 41 25 24 19 16 34 16 17 10 13 24 20 17 21\n",
      "  9 22 19 30 15 26 15 30 26 18 14 25 20 23 23 39 24 22 17 16 20  3 18 20\n",
      " 25 25 27 24 28 36 27 17 18 26 23 30 12 23 22 41 37 16 20 13  9 39 12 16\n",
      " 10 21 13  6 28 22 14 21 26 26 30 25 39 20 14 21 23 26 13 13 23 10 12 23\n",
      "  7 26 37 12 13 23 32 36 22 26 26 21 36 14 15 15 21 22 21 25 14 14 22 26\n",
      " 23 18 30 13 19  8 20 26 30 18 14 20 37 16 36 10 27 32 23 24  8 32 46 26\n",
      " 17 37 30 52 19 32 31 24 28 24 28 22 19 14 20 27 32 31 23 12  9 19 16 22\n",
      " 36 20 43 23 26 15 19 26 33 16 22 19 20 10 26 10 25 29 11 19 25 38 38 22\n",
      " 29 27 12 35 21 18 10 27 33 24 30 16 19 21 30 34 24 13 22 17 27 16 12 31\n",
      " 19 13 39 12 26 23 27 25 22  9 26 41 18 30 14 29 19 28 19 30 17 14 13 25\n",
      " 17 21 25 22 32 26 12 23 25 21 16 18 28 15 19 14 18 27 38  9 21 25 20 47\n",
      " 38 19 22 15 24 27 19 30 33 17 13 47 19 14 19 20 11 21 23 44 22 18 21 17\n",
      " 21 12 29 22 16 22 14 28 17  8 22 15 31 18 23 31 14 23 30 21 21 32 24 17\n",
      " 21 29 29 19 19 25 18 16 20 26 29 28 30 12 10 16 17 15 25 25 31 28 26 20\n",
      " 27 19 34 35 20 11 27 33 38  5 27 22 15 31 28 31]\n"
     ]
    }
   ],
   "source": [
    "np.random.seed(2022)\n",
    "\n",
    "n = 10\n",
    "p = 0.3\n",
    "x =np.random.negative_binomial(n=n, p=p, size=1000)\n",
    "print(x)"
   ]
  },
  {
   "cell_type": "code",
   "execution_count": 109,
   "id": "52abe844",
   "metadata": {},
   "outputs": [
    {
     "data": {
      "image/png": "[encoded data removed]",
      "text/plain": [
       "<Figure size 432x288 with 1 Axes>"
      ]
     },
     "metadata": {
      "needs_background": "light"
     },
     "output_type": "display_data"
    }
   ],
   "source": [
    "plt.hist(x)\n",
    "plt.show()"
   ]
  },
  {
   "cell_type": "markdown",
   "id": "c6a17139",
   "metadata": {},
   "source": [
    "# 균일 분포(연속형)"
   ]
  },
  {
   "cell_type": "markdown",
   "id": "328e2187",
   "metadata": {},
   "source": [
    "### low = a\n",
    "### high = b"
   ]
  },
  {
   "cell_type": "code",
   "execution_count": 61,
   "id": "821361ab",
   "metadata": {},
   "outputs": [],
   "source": [
    "import numpy as np\n",
    "import matplotlib.pyplot as plt"
   ]
  },
  {
   "cell_type": "code",
   "execution_count": 91,
   "id": "11be7258",
   "metadata": {},
   "outputs": [],
   "source": [
    "np.random.seed(2022)\n",
    "\n",
    "a = 1\n",
    "b = 2\n",
    "x = np.random.uniform(low=a, high=b, size=10)"
   ]
  },
  {
   "cell_type": "code",
   "execution_count": 92,
   "id": "5a41fc7b",
   "metadata": {},
   "outputs": [
    {
     "data": {
      "image/png": "[encoded data removed]",
      "text/plain": [
       "<Figure size 432x288 with 1 Axes>"
      ]
     },
     "metadata": {
      "needs_background": "light"
     },
     "output_type": "display_data"
    }
   ],
   "source": [
    "plt.hist(x)\n",
    "plt.show()"
   ]
  },
  {
   "cell_type": "code",
   "execution_count": 110,
   "id": "769bfcc6",
   "metadata": {},
   "outputs": [
    {
     "name": "stdout",
     "output_type": "stream",
     "text": [
      "[1.00935861 1.49905781 1.11338369 1.04997402 1.68540759 1.48698807\n",
      " 1.89765723 1.64745207 1.89696312 1.72113493 1.83135342 1.82756807\n",
      " 1.83357958 1.95704434 1.36804444 1.49483763 1.33950947 1.61942933\n",
      " 1.97752964 1.09643308 1.74420621 1.29249947 1.29867535 1.75247347\n",
      " 1.01866373 1.52373744 1.86443585 1.38884284 1.21219185 1.4751807\n",
      " 1.56467242 1.3494293  1.97590863 1.03782004 1.79426969 1.3578826\n",
      " 1.74796395 1.91450931 1.37266242 1.96488347 1.08138577 1.04245099\n",
      " 1.29679603 1.36370363 1.49025518 1.66851874 1.67341463 1.57210064\n",
      " 1.08059224 1.89833126 1.03838853 1.78219442 1.03665636 1.26718385\n",
      " 1.20522385 1.25889443 1.93261529 1.00812491 1.40347318 1.89410221\n",
      " 1.20420903 1.02177601 1.69716712 1.19102335 1.54643299 1.6032252\n",
      " 1.98879386 1.09244605 1.06428732 1.98795199 1.45210802 1.85391119\n",
      " 1.40144507 1.38820644 1.88440744 1.65197288 1.77679904 1.09632966\n",
      " 1.96616205 1.32226404 1.29316833 1.7016298  1.35827766 1.15817098\n",
      " 1.00823061 1.829995   1.62644515 1.87143827 1.62590732 1.1306377\n",
      " 1.45243009 1.19437469 1.94486322 1.41798054 1.0789647  1.86638456\n",
      " 1.68649838 1.01976159 1.07446144 1.02533677 1.44890881 1.50959214\n",
      " 1.77450016 1.28481375 1.07835499 1.91555213 1.64298086 1.81718075\n",
      " 1.63664319 1.77128562 1.20521456 1.74815598 1.16572019 1.27823222\n",
      " 1.3846324  1.25108737 1.24124747 1.8414677  1.02093155 1.8949185\n",
      " 1.43612983 1.26597978 1.90524417 1.55981551 1.10903118 1.7015135\n",
      " 1.8227112  1.73850624 1.987894   1.15918045 1.98807973 1.72628498\n",
      " 1.60009396 1.1583645  1.07333447 1.2175894  1.30428221 1.80702559\n",
      " 1.36506343 1.8687615  1.10291181 1.48055127 1.25392986 1.45698406\n",
      " 1.46753623 1.32820681 1.00412489 1.08907635 1.25235244 1.69530912\n",
      " 1.47908377 1.98061561 1.0964032  1.10310029 1.62892263 1.93774298\n",
      " 1.82272553 1.91981136 1.22591432 1.90380926 1.22260024 1.45125969\n",
      " 1.73205755 1.10571304 1.57932287 1.42616239 1.08025891 1.29913301\n",
      " 1.36610952 1.40659057 1.91703608 1.99994806 1.24392273 1.96266678\n",
      " 1.73102386 1.27621405 1.3446869  1.79388134 1.82753223 1.93698617\n",
      " 1.61132814 1.46762358 1.3970211  1.6058148  1.74797256 1.99820975\n",
      " 1.07437135 1.18108143 1.24375408 1.93029539 1.90738331 1.79152642\n",
      " 1.53715017 1.79155118 1.10298786 1.59755121 1.24111071 1.03797708\n",
      " 1.91625674 1.09554833 1.66402823 1.31968205 1.68517537 1.51888249\n",
      " 1.95214691 1.50434973 1.21521952 1.99976886 1.2248663  1.68071939\n",
      " 1.23748703 1.99747587 1.21249128 1.56673761 1.80799997 1.64370527\n",
      " 1.12812359 1.06745915 1.89983809 1.03921616 1.98895695 1.30581717\n",
      " 1.71834314 1.57372332 1.33115771 1.54318373 1.9681176  1.71286623\n",
      " 1.15277462 1.93258104 1.7083887  1.89778372 1.34950526 1.54533685\n",
      " 1.7011119  1.52773444 1.10848419 1.24501494 1.83065245 1.5486097\n",
      " 1.0572596  1.43171819 1.25854923 1.8243875  1.42011292 1.80267263\n",
      " 1.92133987 1.76646977 1.50445725 1.8938251  1.80271142 1.18721858\n",
      " 1.18089773 1.36329184 1.6499846  1.62704919 1.7823163  1.7571479\n",
      " 1.37924928 1.21997543 1.93882873 1.38567947 1.4362501  1.3472706\n",
      " 1.88366988 1.70947491 1.6774948  1.39980224 1.85772768 1.1497247\n",
      " 1.72463697 1.91101481 1.86235178 1.30561119 1.50037571 1.17060624\n",
      " 1.28201191 1.62844939 1.32590657 1.09860324 1.0461481  1.10024112\n",
      " 1.67095627 1.9328017  1.66557746 1.00985878 1.57564709 1.03012906\n",
      " 1.08123281 1.6955181  1.00814352 1.23163876 1.18934981 1.41183579\n",
      " 1.80452057 1.50864357 1.86471149 1.23965139 1.17604177 1.70570812\n",
      " 1.46034988 1.24109397 1.82156801 1.84947691 1.93441253 1.01810952\n",
      " 1.78692773 1.14492786 1.47293937 1.98411091 1.57330684 1.86094716\n",
      " 1.61032899 1.82000057 1.95792961 1.80825724 1.35329702 1.61617147\n",
      " 1.9048753  1.3494838  1.82159012 1.07601742 1.6100679  1.4615078\n",
      " 1.55218863 1.45152504 1.05946073 1.9708164  1.51601548 1.66431181\n",
      " 1.82256186 1.77179106 1.66181102 1.49600918 1.95151595 1.13686607\n",
      " 1.7842742  1.31533598 1.34701434 1.75206281 1.90822961 1.07368391\n",
      " 1.76955825 1.24524552 1.69814251 1.66200989 1.70697602 1.40295582\n",
      " 1.54032707 1.52446463 1.91262508 1.86380372 1.4126882  1.77278441\n",
      " 1.86059736 1.15544782 1.14652694 1.01114985 1.84053489 1.75363669\n",
      " 1.33595892 1.14854807 1.96707992 1.32359348 1.30992274 1.41081183\n",
      " 1.48487436 1.25245645 1.34779622 1.18941271 1.16187289 1.22338982\n",
      " 1.3048528  1.36023894 1.23055403 1.82398682 1.72889286 1.82637611\n",
      " 1.63206956 1.59091419 1.38267576 1.36728022 1.58617535 1.02303002\n",
      " 1.87202682 1.35473595 1.35104185 1.55833571 1.31102935 1.33913195\n",
      " 1.70005087 1.07607922 1.47374727 1.83067065 1.66344384 1.86293102\n",
      " 1.65632911 1.89653478 1.40285668 1.64969189 1.42843391 1.51494047\n",
      " 1.06950471 1.10006535 1.63650367 1.05968448 1.9470403  1.68111621\n",
      " 1.65462254 1.8745629  1.47146895 1.45630604 1.17776976 1.17150723\n",
      " 1.59946843 1.00733388 1.39213343 1.01447539 1.95955959 1.83569511\n",
      " 1.70645653 1.15586385 1.38667004 1.19711645 1.13178771 1.70866913\n",
      " 1.89577294 1.83764652 1.43416205 1.42480703 1.45669721 1.4536368\n",
      " 1.15598169 1.5296074  1.29831707 1.16811456 1.14550203 1.47162984\n",
      " 1.19433979 1.40218336 1.52224343 1.90491766 1.3002385  1.90934775\n",
      " 1.57332494 1.01665974 1.83680784 1.78445791 1.07151663 1.46378892\n",
      " 1.23456139 1.69720811 1.51382116 1.35268607 1.75069394 1.80412844\n",
      " 1.5837018  1.46641487 1.6575758  1.00706939 1.45915277 1.01905731\n",
      " 1.7091859  1.80388223 1.81718845 1.18433668 1.95269045 1.70088927\n",
      " 1.79161714 1.28285515 1.16786401 1.4677388  1.97519267 1.1217173\n",
      " 1.16472763 1.80753301 1.13402134 1.92361594 1.90555796 1.68808239\n",
      " 1.50198336 1.15792326 1.54215999 1.06312526 1.87773862 1.10556141\n",
      " 1.64846441 1.52903265 1.35171671 1.77186559 1.57992512 1.77930021\n",
      " 1.69361666 1.7122927  1.30643849 1.14349574 1.67231123 1.38870572\n",
      " 1.85928365 1.25597045 1.47322595 1.0039994  1.50951007 1.25926609\n",
      " 1.18238498 1.23342039 1.16325819 1.83494401 1.79263942 1.23892267\n",
      " 1.07629225 1.39302924 1.91654096 1.68002645 1.74575028 1.32502215\n",
      " 1.43833768 1.74350653 1.18817585 1.1413249  1.82181173 1.70056902\n",
      " 1.27834092 1.99112518 1.85575539 1.83999753 1.25718462 1.38745462\n",
      " 1.85147805 1.07028664 1.57340749 1.54434967 1.84033877 1.04250321\n",
      " 1.76873709 1.98619252 1.39358531 1.10184665 1.33386858 1.31231188\n",
      " 1.10059633 1.30647394 1.51715391 1.63400052 1.0891181  1.01733754\n",
      " 1.01949342 1.83719129 1.6151573  1.81291962 1.66203007 1.97506734\n",
      " 1.94118653 1.07291074 1.66127694 1.74152674 1.49254822 1.7964613\n",
      " 1.26347996 1.00311132 1.49934302 1.20317533 1.73816394 1.75682095\n",
      " 1.01122985 1.14683798 1.19161914 1.19429306 1.01355844 1.43522424\n",
      " 1.01739926 1.18113803 1.53577954 1.7856729  1.30377719 1.01105247\n",
      " 1.475882   1.80103379 1.41555853 1.57757849 1.23004536 1.16221603\n",
      " 1.03528553 1.37682519 1.37713998 1.93024422 1.59667214 1.32340132\n",
      " 1.26987149 1.79328432 1.00100244 1.65670496 1.97552611 1.08859376\n",
      " 1.12932528 1.29616755 1.60953963 1.55372107 1.98565751 1.18612333\n",
      " 1.71645173 1.76290358 1.96471575 1.61161887 1.80654294 1.19707237\n",
      " 1.5472938  1.89466835 1.67905233 1.75221376 1.45172774 1.54573973\n",
      " 1.39143895 1.55153167 1.09290831 1.5039839  1.71068626 1.60120956\n",
      " 1.03298247 1.22530739 1.74815813 1.16694515 1.64993132 1.75914312\n",
      " 1.57111921 1.92556071 1.477658   1.3341857  1.47004811 1.62311713\n",
      " 1.13409034 1.7594399  1.33985401 1.24367853 1.02353595 1.11546686\n",
      " 1.23280728 1.12855022 1.42069694 1.74722636 1.54558015 1.29417686\n",
      " 1.31096055 1.15264961 1.4476691  1.51621367 1.57307914 1.05088353\n",
      " 1.6958257  1.44517787 1.04971182 1.3553485  1.41671955 1.35551864\n",
      " 1.59592572 1.03406425 1.99628287 1.7445469  1.25216816 1.72023291\n",
      " 1.20169695 1.86114299 1.98138908 1.03485041 1.13584741 1.45565005\n",
      " 1.32171277 1.84104499 1.16869891 1.23841939 1.43312681 1.80022815\n",
      " 1.0819517  1.58633361 1.87349344 1.39129095 1.1803516  1.42461016\n",
      " 1.81630825 1.40077018 1.01999195 1.89289797 1.79541233 1.32455855\n",
      " 1.73754904 1.15506666 1.52962134 1.59854442 1.38304314 1.19174449\n",
      " 1.49959002 1.60463878 1.12734839 1.03380872 1.36166719 1.76718375\n",
      " 1.6421634  1.08393222 1.30122554 1.74569225 1.31431717 1.70429598\n",
      " 1.72546919 1.76123172 1.41361221 1.95017584 1.03233333 1.98971476\n",
      " 1.1345333  1.14648676 1.42759069 1.81840466 1.18095091 1.47627193\n",
      " 1.71926969 1.30903109 1.01962196 1.87919148 1.79237252 1.21636149\n",
      " 1.29549704 1.91589835 1.57504705 1.28915891 1.89162717 1.85138999\n",
      " 1.36325749 1.61877809 1.07798665 1.60509887 1.86252601 1.9209861\n",
      " 1.91905411 1.38289554 1.1585357  1.36854086 1.68576029 1.01695885\n",
      " 1.08966955 1.4843373  1.23187666 1.74813227 1.30944645 1.84607746\n",
      " 1.76075254 1.07267448 1.30007667 1.49007688 1.98823392 1.61122786\n",
      " 1.106089   1.05083934 1.19569227 1.93862632 1.01222349 1.623532\n",
      " 1.94147282 1.36599277 1.24184136 1.59096812 1.75091951 1.15047014\n",
      " 1.30502269 1.76370598 1.46215946 1.93923548 1.30045451 1.66888066\n",
      " 1.73804725 1.73179863 1.84651033 1.98059579 1.66005175 1.76966728\n",
      " 1.07236708 1.04387613 1.00219785 1.67596067 1.43925227 1.84824373\n",
      " 1.34726951 1.38296404 1.22714725 1.05865019 1.54199021 1.0428351\n",
      " 1.46778755 1.73040256 1.19865388 1.22009296 1.57952422 1.74469828\n",
      " 1.4807838  1.80665023 1.93679622 1.81707185 1.87955295 1.8384472\n",
      " 1.20086504 1.68776759 1.67601375 1.35359267 1.45816612 1.87198815\n",
      " 1.90175748 1.62716505 1.03683848 1.91303605 1.97590988 1.6253024\n",
      " 1.09793182 1.88947239 1.32970684 1.32061273 1.76780334 1.26072199\n",
      " 1.56182433 1.88694039 1.94694311 1.52520558 1.80503545 1.90549681\n",
      " 1.24700987 1.80416479 1.10470923 1.21938763 1.13410367 1.265998\n",
      " 1.22947712 1.56659978 1.05620764 1.58246514 1.34408136 1.96077154\n",
      " 1.27466504 1.12376855 1.23451391 1.99443244 1.74269015 1.17176032\n",
      " 1.4276132  1.66135452 1.6707307  1.14100862 1.71128962 1.50428341\n",
      " 1.38260785 1.15836802 1.9610575  1.95193552 1.41882478 1.96110328\n",
      " 1.33343285 1.01224468 1.54933631 1.68594353 1.27762464 1.16824705\n",
      " 1.14175671 1.48669451 1.0325392  1.49293637 1.26929528 1.03351074\n",
      " 1.2805772  1.20517828 1.57545083 1.42311298 1.32505802 1.32496538\n",
      " 1.69762998 1.91214458 1.92058893 1.20305552 1.14799588 1.58962891\n",
      " 1.5159753  1.43523729 1.52181233 1.02974712 1.91117059 1.96545927\n",
      " 1.47119489 1.17332089 1.18318078 1.90735869 1.3959005  1.85452459\n",
      " 1.84177497 1.10952979 1.02658033 1.15541756 1.42256162 1.29332617\n",
      " 1.93129657 1.06337777 1.82308226 1.79751167 1.55395051 1.23850245\n",
      " 1.32133563 1.1586006  1.53027398 1.84225739 1.32231988 1.89651729\n",
      " 1.4792941  1.15395546 1.19375033 1.52284623 1.20878961 1.64799783\n",
      " 1.91003437 1.7272138  1.55145385 1.42887175 1.86895858 1.53232001\n",
      " 1.85014373 1.24762476 1.6130638  1.55134313 1.54217359 1.13424972\n",
      " 1.50635896 1.99845018 1.99921403 1.42899546 1.08350572 1.52249558\n",
      " 1.42386392 1.39073567 1.7346966  1.08180228 1.9624924  1.54760477\n",
      " 1.42181162 1.09205625 1.67870045 1.06853691 1.87833173 1.09903455\n",
      " 1.79720944 1.19154477 1.50465042 1.81192267 1.589254   1.83434866\n",
      " 1.50908383 1.80810805 1.35725869 1.8218622  1.68425983 1.31596242\n",
      " 1.86328359 1.05848562 1.3268043  1.65404045 1.86562047 1.28014029\n",
      " 1.65652713 1.34552297 1.99410631 1.16541933 1.43171051 1.06025978\n",
      " 1.24379361 1.69184735 1.32376038 1.63409221 1.065269   1.80109458\n",
      " 1.8836165  1.90634268 1.75800854 1.32308823 1.41679444 1.95790486\n",
      " 1.8873388  1.94005856 1.54474983 1.64327144 1.94302018 1.07388955\n",
      " 1.11538585 1.28557862 1.9091257  1.67877595 1.49330984 1.32177065\n",
      " 1.78901779 1.3934039  1.45607402 1.68159254 1.4264331  1.57486441\n",
      " 1.5850144  1.36493197 1.85172913 1.00669788]\n"
     ]
    }
   ],
   "source": [
    "np.random.seed(2022)\n",
    "\n",
    "a = 1\n",
    "b = 2\n",
    "x = np.random.uniform(low=a, high=b, size=1000)\n",
    "print(x)"
   ]
  },
  {
   "cell_type": "code",
   "execution_count": 111,
   "id": "32eb90b9",
   "metadata": {},
   "outputs": [
    {
     "data": {
      "image/png": "[encoded data removed]",
      "text/plain": [
       "<Figure size 432x288 with 1 Axes>"
      ]
     },
     "metadata": {
      "needs_background": "light"
     },
     "output_type": "display_data"
    }
   ],
   "source": [
    "plt.hist(x)\n",
    "plt.show()"
   ]
  },
  {
   "cell_type": "markdown",
   "id": "7bedae77",
   "metadata": {},
   "source": [
    "# 정규 분포"
   ]
  },
  {
   "cell_type": "markdown",
   "id": "7139a982",
   "metadata": {},
   "source": [
    "### loc = 평균\n",
    "### scale = 분산"
   ]
  },
  {
   "cell_type": "code",
   "execution_count": 62,
   "id": "f53a47a1",
   "metadata": {},
   "outputs": [],
   "source": [
    "import numpy as np\n",
    "import matplotlib.pyplot as plt"
   ]
  },
  {
   "cell_type": "code",
   "execution_count": 93,
   "id": "cf8756a0",
   "metadata": {},
   "outputs": [],
   "source": [
    "np.random.seed(2022)\n",
    "\n",
    "mean = 100\n",
    "variance = 3\n",
    "x = np.random.normal(mean, variance, size=10)"
   ]
  },
  {
   "cell_type": "code",
   "execution_count": 94,
   "id": "c954ed94",
   "metadata": {},
   "outputs": [
    {
     "data": {
      "image/png": "[encoded data removed]",
      "text/plain": [
       "<Figure size 432x288 with 1 Axes>"
      ]
     },
     "metadata": {
      "needs_background": "light"
     },
     "output_type": "display_data"
    }
   ],
   "source": [
    "plt.hist(x)\n",
    "plt.show()"
   ]
  },
  {
   "cell_type": "code",
   "execution_count": 112,
   "id": "d324df73",
   "metadata": {},
   "outputs": [
    {
     "name": "stdout",
     "output_type": "stream",
     "text": [
      "[ 99.9984163   99.17529573  99.58214332 105.95405847 100.84632798\n",
      " 102.28242597 100.90294482 101.62089181 101.12049186 101.13344018\n",
      "  99.72936042  93.08217019 103.42828007  95.39303714  97.40874395\n",
      " 103.04963481 103.10189165  97.52652332 100.05671457  98.84996933\n",
      "  99.08744358 102.99187452  99.61817848  95.5723423   94.17728101\n",
      " 102.50094677  98.29834634 103.52346087 100.95720649 100.57261128\n",
      " 101.10781054  99.69655641  97.17457153  95.78757487 106.24194104\n",
      "  99.6390513  102.27937564 105.48229642  98.01781874  97.57658122\n",
      " 102.66340035  99.34765765  97.18142645 101.79861495 106.66933809\n",
      " 103.00001638 103.44902363  99.53327113  95.04827244  95.6346575\n",
      " 100.96228477 102.43404889  99.27758621 100.49536324  99.89949828\n",
      " 100.26359375 103.10243959  96.81752032  96.95924663  98.73930344\n",
      " 102.79645976 100.95197181  97.17258625 100.9638019   95.89133881\n",
      "  99.36049587  99.65576121 101.86710795 101.66573289  91.12770329\n",
      "  97.7785732  102.83374059 103.293964   101.48487516 103.78300644\n",
      " 101.90545327 101.97220005  97.65721596  98.44327583  97.65348487\n",
      "  95.78258458  98.04528559 101.87955125  98.57574044  95.07730362\n",
      "  98.65646882 100.39117169 102.65014947 100.98417374  98.09054363\n",
      " 101.67245659 102.26291965  96.64411051 100.98322414 102.8493908\n",
      "  98.18361569 102.76973609  98.986503    99.85946271  97.13062541\n",
      "  99.13931048  95.07647697  93.95652475  98.85796425 102.52210105\n",
      "  96.80203271 101.17761004  99.94875082 101.73990559 100.51243132\n",
      " 100.77239562  99.47573621  99.21337713  95.52302801  98.45897555\n",
      " 100.90696976  94.94489324 105.43064071  99.30567755  98.54911122\n",
      "  96.36796333  94.79393974  97.22719023 102.86249073 103.38954509\n",
      "  98.20866225  97.97442116 106.96506716 104.74885969  95.37841254\n",
      " 104.33850302 100.55282269 100.64239847  97.3855784   96.23805286\n",
      " 103.42209702 100.60504649 105.93352266 100.01830272 101.90253348\n",
      " 102.12970144  96.75766601 100.98498055  95.75665802 101.57621207\n",
      " 103.37825639 101.68927287 105.00304585 101.52631081  94.03234021\n",
      " 101.74213951 100.91266225 101.86179097  93.81982301 100.7781856\n",
      " 105.64288911  99.14744532  98.69094826 100.55389904 103.76772711\n",
      "  99.69685936  98.03443092 102.21738635  98.34953679 103.96992531\n",
      "  98.95218223 100.17394528 100.27504089 102.93084246 100.03317077\n",
      "  98.39473711 101.55358143  98.57282667  96.66871194 103.74721676\n",
      " 104.42367879 102.09753132 102.30282756  96.12577818  98.32937849\n",
      "  99.52728813 101.81454322  94.17787721  97.56982115 101.05399274\n",
      " 101.93047114  97.20593159 104.94953777 101.34533701 100.73528355\n",
      "  98.74578337 102.33793108  96.12382809 100.00442118 102.51392767\n",
      "  95.73367928  97.98895268  99.12777041 101.49567065 100.59078852\n",
      "  98.68398187 100.21187296 100.71205607  98.47489456  98.91683586\n",
      "  96.18342711 100.11982845 104.22166388  98.8459975  101.61659392\n",
      " 101.65447421  97.39446095  95.23109315  99.26966651 101.00180533\n",
      " 100.9218021   98.59228003 101.13755445 101.05023135  99.94129461\n",
      " 103.25085919 100.66023574 103.54293381 101.2215238  103.69267837\n",
      "  95.33683354  99.20029618 102.15113272  97.61019257 106.83362065\n",
      "  94.29979596 106.13689673 106.28623057 100.61271919 101.59439605\n",
      " 101.8922306   99.84289009 106.37015031  97.96236727 103.13675843\n",
      " 103.72748367  97.73766098  97.74763601 102.38324875 103.10791892\n",
      " 103.80106947  97.74662781 104.80599653 104.78171835 107.88210203\n",
      " 104.26541964  98.63474066  99.79221121 100.21746514 101.44890146\n",
      " 101.9453081   97.25994121  98.72107062  99.9196599  100.21272028\n",
      "  97.62589928  94.9403319   94.98524112  99.69358353  96.72924104\n",
      "  98.39715952  98.60409658  98.29365359  97.00727819  95.82128767\n",
      " 101.90791738  98.41326678 102.33815086 101.63978312 103.62823014\n",
      " 105.27067088  95.42079812  95.95198696  98.95884711 100.18810767\n",
      "  98.96553879 102.64929492 102.33567872  94.03592782  96.7448314\n",
      "  96.17617473  98.62158002 100.65048502 103.83142767  99.6958138\n",
      " 102.61265605 101.17659425 102.23003537 100.87916483 105.10874121\n",
      "  96.68465629 101.70018309  91.85598216  98.36660112 100.50637539\n",
      " 100.42727794 101.05462927 102.54254517 101.04958285  92.44782403\n",
      "  95.06862029  98.76561955  98.78915229  99.57402475  99.90536321\n",
      "  97.58748764 101.44733099  96.29051191  98.61202065 101.20779553\n",
      "  97.86875447  94.27217545  94.98479405  93.69961058  94.1154966\n",
      " 100.31303973  96.36268661  97.42258451  98.43373453  99.72061215\n",
      "  96.50892234  98.78229144  96.19486995 102.74159795 100.15060482\n",
      " 101.64648872  99.19651433  99.10997365 100.13502108 101.37359196\n",
      " 101.62637955  99.80379456  97.67831349 102.30083633  96.90311513\n",
      "  93.40809009 100.61846041 102.25827832 101.86150529  97.07592179\n",
      " 107.28747002  98.87728348  99.90464589 102.72506173 101.87587306\n",
      "  98.59026916 101.41654195 100.2374574  100.53509427  97.97734831\n",
      " 102.71634297  99.63113682  96.20247433 101.24618399  98.64141069\n",
      " 100.84457855 101.82114635  96.30357417 100.02143187  97.84396925\n",
      " 100.20806475 101.25904457 106.43838238 103.64589763  98.01142288\n",
      " 104.25056404 101.2163501  103.29963381 103.00935489  97.58888802\n",
      "  98.69090349  96.92722338 104.75742272  98.73491635 101.86257717\n",
      "  99.5141457   99.97377364  94.87711548 100.20237685  98.33131239\n",
      "  98.01185006 100.95917772  99.03567392  98.03137515 102.20661526\n",
      "  99.46102642  97.86514282 100.74134572 101.71530831  97.52634586\n",
      " 103.47416092 104.82582992  98.77797178  98.98019412  99.11340346\n",
      " 101.66892685 102.67778255 100.5232301  100.54748023  98.00526449\n",
      "  95.69638083 104.11965162 106.81883909  97.4516845   99.31891014\n",
      "  96.26653777  96.69534013  99.09675579  98.13586316 106.8081826\n",
      " 100.87154117 103.58411463 101.31898713 103.67784716 102.45584369\n",
      " 104.33516419  99.89103239  95.66726261  99.99041009 102.62474848\n",
      " 102.43407101  98.41364886  98.39977358  99.89168947  99.18662868\n",
      " 104.42315672 100.5539851  104.24675763  99.65976151 104.92591737\n",
      "  94.63831108  98.21370258  98.57240334  99.69549749  98.85117158\n",
      " 101.92268754  99.45095965  94.9802725  102.74785638 102.55763328\n",
      "  97.99312719  98.81788476  97.85029208 103.13775138 106.39801382\n",
      " 102.87063947 102.36343257 100.2977118  101.23949792  98.37439389\n",
      " 101.64500705 102.85353837 100.3419445  103.39056045 102.40703651\n",
      " 105.86157994  93.81387355 103.07213196  93.52798336 100.026618\n",
      "  97.28005968 102.26556052 104.71617971  97.92773862 101.5440355\n",
      " 103.71922636 102.15181673 102.27226576 100.37973838  93.77842351\n",
      "  99.16169788 106.83056532  98.33826261 101.14355436  98.38715021\n",
      "  96.38970524  97.74433944  98.54947296  98.95660115 104.62504531\n",
      "  98.51641934  94.55592086 101.20560772  97.44762911  98.61091621\n",
      " 102.64048151  91.47763561  98.18180971 100.29585151  98.46576841\n",
      " 105.48030527  99.56723631  98.65284234  94.55290987  96.86024479\n",
      "  98.6884923  100.27001002 102.55461275  97.12525086 101.18176901\n",
      "  99.02386226  99.5963401   96.68559275 102.72061777  98.5777495\n",
      "  98.47005694  98.062273   104.0821556   99.09073567 100.48254891\n",
      "  97.66338115  99.15985388 102.88650357  99.10705216  96.21395459\n",
      "  98.84867596 103.66999857  98.12338096 103.15989409  97.92002544\n",
      " 101.43243897 107.22458416 102.17162856  96.37991232  98.62648327\n",
      " 107.50374832  99.97059975 103.79736653  98.03393579  97.96432091\n",
      " 100.6955575  103.15942302  97.44390555 103.42189335  96.88987098\n",
      " 102.76600994 102.38734419 101.73691818  99.6666891  103.81895003\n",
      "  99.13152168  99.70264749  96.00177933  97.09872669 103.33122977\n",
      "  98.10868435 101.9495545  101.48330418  99.27063886  94.93198053\n",
      " 101.80391741 103.96485595  95.43548499 100.54152505  97.82556366\n",
      "  99.39792273 102.15451192  98.79539694  96.87105097  99.89844296\n",
      "  97.33941565 102.28300529  97.5330617  102.55086662  98.59546852\n",
      "  99.71541128  94.26632845  99.5057758  101.62817    101.547824\n",
      "  95.60742649  98.11102915 101.35604903 103.13302598  97.68352244\n",
      " 102.12087722  99.8172845  103.12139054  96.31183707 102.6759594\n",
      " 102.74809551 103.52420307 102.09166967 103.48040766  99.39287674\n",
      "  96.43369537  95.34601628  98.25432615 100.16033866 105.19765055\n",
      "  99.27331947  98.19537108  98.05714812 104.65111451 101.51156055\n",
      " 104.17867176  99.73814408 101.88072326  97.00379568  96.60888419\n",
      " 104.07686569 103.20787913  99.63924108 100.74876436 102.36560029\n",
      " 100.19243477 100.73088474  96.34933708  96.53440885  97.70028661\n",
      " 102.57387175 102.92505952 100.46735843 100.1123472  101.99213079\n",
      " 102.2320851   98.14345536  99.38906018  99.13938622  98.7869284\n",
      "  98.10318527 101.09687495  95.54458345 100.35055994  98.11343536\n",
      " 100.94249859  99.68107166  98.13599886  98.88360042  97.82729352\n",
      " 101.60643119 105.58093837  97.49628155  97.40503984 101.23412255\n",
      " 100.11285432 105.56682012  96.76478113  98.88830873 101.51492055\n",
      "  99.73330485 105.66779073 101.50383221  97.63762993  98.41649367\n",
      "  99.87154966  96.54154156  99.9765037   98.44504904  97.32942077\n",
      "  98.0124057   94.6941923  105.20669921  96.44101447  96.44289806\n",
      " 101.6208184  100.77720858 100.83692042  96.71312047  91.73217254\n",
      " 102.03946164  98.52867165 100.06824646  96.11848945  99.65774574\n",
      " 103.16621179  99.07030124  94.9190777   98.09623502 101.46349644\n",
      " 101.58928128  95.34573121 100.96023914  97.28661269  98.58000445\n",
      " 103.66066788 100.32380013 102.05160994  99.08066983  96.37534936\n",
      "  99.78311562 100.31163216  95.82262555 101.77360148  96.5101435\n",
      " 100.73843853 101.33260027  93.58799973 104.63841187 100.28682663\n",
      " 103.27435344  98.65458163 101.86662452 102.92792393 106.44764437\n",
      "  96.70252409 100.38022222 100.32986857 100.00420829 100.13777818\n",
      "  97.44910688  94.33785754  96.05458292  98.93086027 100.60001154\n",
      " 100.16565365 101.60936725  97.46242108  99.51363591  98.55163637\n",
      " 100.59987339  98.30069094 101.63735496 104.12054921 100.06143276\n",
      " 103.51666042 100.9387686  104.17119995 100.12297784 103.24814856\n",
      "  98.55949224  96.57552017 103.42861531 103.4962351   96.0690008\n",
      "  98.76830135 102.04827994  96.18038472 103.87030632  97.97625462\n",
      "  99.68572233 102.40188607  96.79235309 103.27863964  95.6908293\n",
      "  97.67648419 103.38862092 101.58077338  99.71275882 106.28244384\n",
      " 101.96227735  98.95862257  98.13204962 100.80836171 101.84992195\n",
      "  93.91249081  99.77149429  98.55504975 103.91774489 105.78617318\n",
      "  98.60036461 105.34692316  94.74574694  94.5736413  103.41545367\n",
      "  99.96714636  97.97337842  98.49310916  96.03339301  99.33167783\n",
      " 101.57667278 103.05080717 103.74636145  97.81041372 103.17691186\n",
      "  99.19252737  99.10920019  97.46290311  97.58081457 106.70050948\n",
      "  96.74808097 100.8242802  104.81178891  98.84736597 103.51948336\n",
      "  98.06848713 100.60893896 104.80775145 107.90754025 101.01642157\n",
      "  98.48519691 100.83950886 103.46130371 101.2859917   99.44445332\n",
      " 101.75739068  97.77278406 100.09034396  95.83689072 100.11841033\n",
      " 103.40384655  96.01428335 100.34145245 103.23366158  95.8791139\n",
      "  95.39987027  97.4628611  101.45230753  97.80074187 100.49215372\n",
      " 100.40569471  98.67049105 100.18758581 101.06575166 100.96966016\n",
      "  97.05470122 100.91429328  98.23175187 102.0970454  103.2525311\n",
      " 101.84813262 100.74301428 104.12233891 100.52609226 105.96974452\n",
      " 105.96947349 100.74088911  98.80754076 100.82627851  99.63469356\n",
      "  96.81539361 104.98001208 102.43574614 103.25035976  97.11934361\n",
      "  98.8122915  101.33198625 104.27803873 100.78386484  94.56779876\n",
      "  98.72462207  98.59371177  98.30444394 103.0144915   96.4794201\n",
      "  95.93220197  97.50838504  94.05597723  92.89275933 102.37889783\n",
      " 103.5377886  103.58325405 102.71179272 103.97165838  98.55430172\n",
      "  99.9450002  104.30834644  96.29201354  98.98940734 101.09236576\n",
      "  94.91435705  98.78391111 103.84513805 104.36262007 101.04681589\n",
      "  96.89133026  99.1236086  103.95725135  96.18871481 100.4647209\n",
      " 100.52254427  98.08410851 102.62787713  98.44788861 104.40519493\n",
      " 100.41834119 104.4458445   91.31244856  96.61795487  96.4946472\n",
      " 104.09703972  98.7791627  102.11681108  98.97864553  99.91218036\n",
      "  99.01297545  99.87373566 110.40723814 100.24151631 101.96108384\n",
      " 101.28468789 103.076679   100.73887217 103.78723871  96.18116806\n",
      "  94.33658251  98.31799009 101.89422202 102.84409382  98.05425973\n",
      " 101.536018    96.25105278  98.38869527 103.87790616 100.71151892\n",
      "  99.45367102  99.18230977  99.24498899 105.10242494  98.90880249\n",
      " 106.10747792 105.53257238 101.97859919  97.22741901  98.47083726\n",
      "  98.74613377  96.29297117 103.67844264 101.54467658  98.673665\n",
      " 104.65870207  98.47906454 102.3312667  103.49945841 101.24814431\n",
      " 101.00532349 103.31560816  99.56123197 101.90059899 100.47290065\n",
      " 100.26414743  99.93508819  99.57362063  94.16461201  96.24425011\n",
      "  95.12127982 106.07414507  98.85644573 103.50976891 101.90374557\n",
      "  95.8114483   99.44061101  97.74188645  98.92792607  98.12349361\n",
      " 104.96577821 105.86228829 102.08530888 104.15848551 100.47646015\n",
      "  96.67911441  97.43350293  97.44894001 102.09339102  98.80778372\n",
      "  95.94978787  97.35804341 103.68474749  98.98799859 100.43970489\n",
      "  96.01365523  99.25763423 101.75673869  98.94815201  97.47036541\n",
      "  95.05947671  99.66001641  99.97707823 101.86410106  99.17387228\n",
      " 100.00455296  95.14767411 101.96617063  99.59946793 100.8664913\n",
      " 102.43803743  96.59149928  97.19732677 102.15980631  95.735099\n",
      "  97.15757587  99.29975581  97.71303662  98.16399763 102.30878539\n",
      " 100.83118035 101.0789717  100.76240363  94.64650839 103.09056682\n",
      " 101.87928286  98.51589807  98.63305936 100.74468538  96.2227429\n",
      " 105.89216216  98.62794379 104.64836563 105.0626     104.12916501\n",
      " 101.54934379 102.01182969 101.26871144  99.67133911 102.7200162 ]\n"
     ]
    }
   ],
   "source": [
    "np.random.seed(2022)\n",
    "\n",
    "mean = 100\n",
    "variance = 3\n",
    "x = np.random.normal(mean, variance, size=1000)\n",
    "print(x)"
   ]
  },
  {
   "cell_type": "code",
   "execution_count": 113,
   "id": "cbfe682f",
   "metadata": {},
   "outputs": [
    {
     "data": {
      "image/png": "[encoded data removed]",
      "text/plain": [
       "<Figure size 432x288 with 1 Axes>"
      ]
     },
     "metadata": {
      "needs_background": "light"
     },
     "output_type": "display_data"
    }
   ],
   "source": [
    "plt.hist(x)\n",
    "plt.show()"
   ]
  },
  {
   "cell_type": "markdown",
   "id": "f2137735",
   "metadata": {},
   "source": [
    "# 감마 분포"
   ]
  },
  {
   "cell_type": "markdown",
   "id": "00312e3f",
   "metadata": {},
   "source": [
    "### shape = 알파\n",
    "### scale =  베타\n",
    "### size = 뽑을 갯수"
   ]
  },
  {
   "cell_type": "code",
   "execution_count": 1,
   "id": "16ad3689",
   "metadata": {},
   "outputs": [],
   "source": [
    "import numpy as np\n",
    "import matplotlib.pyplot as plt"
   ]
  },
  {
   "cell_type": "code",
   "execution_count": 2,
   "id": "cabd7dac",
   "metadata": {},
   "outputs": [
    {
     "name": "stdout",
     "output_type": "stream",
     "text": [
      "[ 9.33105273  8.19529161  8.74439192 20.80220759 10.69505072 11.86770673\n",
      "  8.94896823  2.49499146  6.07677963 14.4502384 ]\n"
     ]
    }
   ],
   "source": [
    "np.random.seed(2022)\n",
    "\n",
    "x = np.random.gamma(shape=5, scale=2, size=10)\n",
    "print(x)"
   ]
  },
  {
   "cell_type": "code",
   "execution_count": 5,
   "id": "e8493669",
   "metadata": {},
   "outputs": [
    {
     "data": {
      "image/png": "[encoded data removed]",
      "text/plain": [
       "<Figure size 432x288 with 1 Axes>"
      ]
     },
     "metadata": {
      "needs_background": "light"
     },
     "output_type": "display_data"
    }
   ],
   "source": [
    "x = np.random.gamma(shape=3, scale=2, size=1000)\n",
    "\n",
    "plt.hist(x, bins=20)\n",
    "plt.show()"
   ]
  },
  {
   "cell_type": "code",
   "execution_count": 117,
   "id": "a891e93f",
   "metadata": {},
   "outputs": [
    {
     "name": "stdout",
     "output_type": "stream",
     "text": [
      "[ 1.66598524  1.33636472  1.49323908  5.76615689  2.08621112  2.4660194\n",
      "  1.55289368  0.1103957   0.78176925  3.35361149  1.69119206  1.21914023\n",
      "  1.50769724  0.39515632  1.03640136  3.68920831  2.1902905   1.53946595\n",
      "  0.72249791  0.43170946  2.852565    5.31412046  0.95091657  0.82618741\n",
      "  3.09561646  1.40140938  0.72418888  2.56666518  3.63506896  1.4737785\n",
      "  2.1160109   2.94886667  1.62379063  1.78269221  0.67071203  1.18088526\n",
      "  3.18294457  2.11081162  0.45010933  1.40633689  2.49116031  0.02201708\n",
      "  3.52399789  2.39079517  2.66757551  0.84811283  0.43083742  0.95907071\n",
      "  0.31903901  1.1527807   2.1270745   0.97260802  0.59947476  2.12659374\n",
      "  3.21813523  1.0008463   1.60691761  0.71171978  0.1841593   1.22193547\n",
      "  3.00464502  0.63450702  2.5331206   1.89705037  2.02163856  1.45108607\n",
      "  1.08758082  2.08822349  1.38537715  1.11702414  0.73554553  3.22688444\n",
      "  0.93812745  6.81972548  4.31756439  1.91606219  0.51536965  3.61561606\n",
      "  1.67455531  2.76139418  2.12748303  0.42632577  2.50442654  4.87975041\n",
      "  2.5343916   2.0910718   2.02447377  5.46524069  1.91657055  3.87063858\n",
      "  2.81456598  1.05253323  1.74264702  1.78784929  1.06691582  2.42859911\n",
      "  3.85518058  4.38707141  0.49359033  1.04616082  0.82436664  0.73025538\n",
      "  4.83277654  2.31522931  2.00352849  0.49321757  1.66856996  0.94239698\n",
      "  1.31879093  2.39670896  1.93404775  1.16206544  1.75951497  1.24265023\n",
      "  0.5046949   1.21775316  2.46361864  0.34152935  1.37172233  1.1313117\n",
      "  2.2056833   3.49352848  1.96723756  3.81427709  0.35759075  0.83528016\n",
      "  6.67603692  6.09935927  1.94448806  1.59996741  6.18552305  0.93459567\n",
      "  3.41372314  0.87315647  2.91700258  0.87287455  4.70825518  4.25851376\n",
      "  1.14548323  2.37115896  2.65177233  1.6323323   1.75989305  0.3060603\n",
      "  1.53825289  1.13524375  1.03493082  2.6299034   1.07284956  3.76631547\n",
      "  5.11926726  1.25757472  1.74893293  2.88737345  0.19214     1.1410782\n",
      "  1.96255481  3.06273795  2.22599605  4.97343113  0.60834277  1.05794775\n",
      "  1.89421079  3.01769558  2.16036467  1.18990859  1.19801638  1.48999453\n",
      "  1.62627229  0.82913061  2.37030417  2.24231973  0.90746848  0.21724156\n",
      "  0.30599815  1.80503952  0.5402863   1.54930513  0.57053031  3.14674198\n",
      "  1.73232036  1.31224995  1.72544831  1.58365106  0.85391279  0.13498489\n",
      "  1.94722742  0.69845374  7.18085248  1.22870761  1.62596863  1.13064348\n",
      "  2.35358766  0.93898644  3.13016924  2.26251279  1.1477201   2.05717453\n",
      "  2.5796171   0.90037516  1.75781642  2.26930471  6.25617482  4.24657681\n",
      "  2.24680914  0.82950902  1.16440908  1.17938545  2.60354671  0.29127237\n",
      "  1.75528151  2.11444358  1.28517561  1.44532199  0.90643254  0.81272081\n",
      "  3.65329204  1.26520382  1.31350885  1.90212087  1.91354029  4.14234749\n",
      "  6.66000612  0.79297794  1.39041742  1.30740591  0.98629077  3.7337181\n",
      "  2.30114089  3.80320403  2.96260815  0.41101117  1.66254323  1.07297214\n",
      "  1.06852647  4.38664312  1.9166112   4.24352183  1.52449697  1.01009026\n",
      "  1.12471809  2.63852769  1.4413861   3.0273513   0.9436259   1.20796548\n",
      "  0.90218117  3.23233484  2.90463551  1.06042657  2.47951889  3.59292112\n",
      "  2.93189458  3.36906543  0.1448751   2.84406699  4.63143808  0.92449885\n",
      "  2.42332303  2.84818943  1.83547902  6.67272127  1.04896608  0.54579166\n",
      "  0.87223488  1.11714336  1.25677384  0.25016799  2.24117253  3.08073779\n",
      "  0.03154986  1.0897815   5.31226445  0.24980221  0.64775674  3.02541665\n",
      "  0.71040904  1.49892408  0.60854861  1.09117238  0.96413705  1.88306625\n",
      "  0.84980499  1.31117827  0.51064209  0.98250946  3.42980558  7.10943646\n",
      "  2.78673428  7.43011645  1.6540468   3.89304977  0.95569564  3.42947762\n",
      "  0.79093952  3.16281705  2.91956288  3.90942398  1.32017243  0.70396388\n",
      "  3.55048224  0.97806972  2.65426359  0.29871504  2.56970933  4.02132057\n",
      "  0.37302231  1.42076778  2.77637061  1.62334435  0.76389639  3.0230184\n",
      "  1.1323718   1.54717435  0.21659536  1.46290474  2.47008849  0.97877717\n",
      "  2.32097308  2.7560806   1.58926843  3.10378995  3.15101523  3.68975082\n",
      "  2.73854166  3.65783     1.41881643  1.02266161  1.73662199  1.00445131\n",
      "  0.96260673  4.18912418  1.55650232  2.61407396  0.68121599  3.46332261\n",
      "  1.51619112  1.7508565   2.00138914  0.5375799   0.57591418  3.26889184\n",
      "  1.87598396  2.8235455   0.98859546  1.19724861  0.97641194  1.82212099\n",
      "  0.9795035   0.98633193  1.23092737  0.89562357  2.45794803  0.78080735\n",
      "  2.25615524  0.62612368  1.23258359  2.40727827  1.5545135   5.488927\n",
      "  2.40118634  1.61199928  0.57742697  0.7613424   0.94931506  0.55634922\n",
      "  0.55673936  2.05338481  0.61462031  1.11030143  1.69620811  0.49219806\n",
      "  1.52367973  3.43420601  1.29774677  0.29695345  0.97431936  2.3791126\n",
      "  2.44839845  0.75046803  1.12723654  2.71460729  1.30152688  1.80440079\n",
      "  0.43786758  2.00506384  2.30841224  1.79316929  3.51011394  3.27082362\n",
      "  6.26580653  1.81268776  1.66847828  1.7266628   0.7923021   1.2476192\n",
      "  1.93843389  0.79579713  1.46600775  1.0371366   2.47523     3.68424008\n",
      "  2.10416766  3.49161831  1.12044889  3.66934469  0.48281404  3.94856962\n",
      "  0.93866543  1.53504827  3.51314538  0.41501223  0.85340885  3.59152847\n",
      "  2.66173711  1.25749464  0.98513448  0.17983032  1.57025467  5.60246824\n",
      "  1.13400093  0.25232795  3.61082733  1.65256865  0.93782158  1.39529218\n",
      "  2.44139346  0.89083089  3.44166744  0.79592386  0.82732899  2.04713983\n",
      "  4.71323814  1.21823094  3.6863019   4.7097645   7.91080477  2.05466522\n",
      "  3.64396372  2.28358006  1.43884608  1.7058476   0.44039053  1.71814342\n",
      "  3.6024707   3.48142121  0.44791491  2.37301353  0.88809248  1.15750653\n",
      "  1.74870104  2.16864703  2.11973443  1.01566299  2.74176415  2.007292\n",
      "  4.14446971  5.7813444   2.00625695  1.51435455  0.63753198  4.8594923\n",
      "  2.94993524  1.20602442  2.30808393  0.25161443  1.17587115  1.13178764\n",
      "  1.03831421  0.45749646  0.80794181  2.91428422  3.69969039  4.02658887\n",
      "  1.11873564  0.52606118  1.26850599  1.19620745  3.92935296  0.65490709\n",
      "  1.31725937  1.87475607  1.90179858  0.97067547  3.07257551  1.85325167\n",
      "  4.40528108  0.56752949  4.12451899  1.19457016  2.75363444  1.27697934\n",
      "  1.61291948  2.66103543  2.28288798  3.88538214  1.04257214  2.6219235\n",
      "  3.21460197  0.96174495  2.41889763  3.9543846   1.99198874  1.36241701\n",
      "  4.96779945  1.2398099   5.91850184  0.7356026   1.09142558  1.18322286\n",
      "  0.52625224  1.15857802  4.58272065  3.67169264  2.26354719  1.48489149\n",
      "  2.62563717  1.63888884  1.48983315  0.32536604  5.88517705  2.6274709\n",
      "  0.43589751  1.43734746  0.87154953  1.2465785   0.98254354  2.73473194\n",
      "  4.17308606  0.78821905  0.79225836  0.4607003   0.76867158  1.86313661\n",
      "  0.47246159  1.25376402  0.79788743  1.65682216  2.60442969  1.33583611\n",
      "  1.66862672  1.50017853  2.06804409  0.72812132  2.77957347  0.42259822\n",
      "  0.71831679  0.99484928  2.87071198  2.01675195  0.26134046  1.10611385\n",
      "  1.14491985  5.70544192  1.14320682  4.1498637   2.426256    1.52919648\n",
      "  3.13257605  0.71605142  0.98652337  1.31897739  7.47014793  4.56164624\n",
      "  2.55004396  1.51573045  0.7278149   3.31027775  1.29140444  0.17014363\n",
      "  0.08976666  4.35377631  0.5986809   1.82345415  1.25897012  1.13805615\n",
      "  1.71880471  1.25902813  0.6379553   0.56065673  0.56350528  1.16647204\n",
      "  2.17571863  0.28651698  2.21344227  3.94428545  1.35806314  1.8961099\n",
      "  3.84210664  0.70693317  1.1611528   2.60152927  1.03862121  5.06429413\n",
      "  2.463603    2.68280356  2.39744196  3.65084998  1.47070299  0.99820887\n",
      "  4.7115013   2.66454038  0.74113779  1.58573431  0.53565766  2.17526338\n",
      "  2.24888319  0.45075979  0.32578349  0.75547495  3.64362238  2.8290666\n",
      "  2.40273954  2.84323448  1.68003132  0.86205524  1.35727447  3.39680467\n",
      "  1.32227503  1.79777444  1.0827537   2.68486217  0.57535469  1.0963737\n",
      "  1.78040931  5.98461029  2.68503296  0.8597769   2.1469687   0.80260908\n",
      "  0.24586613  2.210632    1.3597583   2.48841525  0.40533801  1.72863564\n",
      "  3.08866721  1.33422175  2.21404112  0.96560378  1.35029745  2.81004035\n",
      "  0.53403721  2.26640576  1.60016817  4.19871186  1.43926985  1.52986952\n",
      "  1.29206328  3.49682605  0.61117298  5.84060445  1.44987219  2.29682608\n",
      "  5.3758339   0.93634475  4.53538347  1.32607979  1.86947822  1.84875278\n",
      "  1.99668932  1.36653428  3.50414191  6.0803816   1.53575631 10.01718453\n",
      "  2.11350769  3.19330529  1.44305539  3.21853241  1.7519979   0.33239983\n",
      "  1.89344962  4.09805698  2.03621228  3.31140456  0.57587714  1.66830625\n",
      "  4.72297924  0.23939256  5.92258449  3.4160893   1.51624246  1.32880515\n",
      "  3.6967952   2.18973463  1.64786586  0.53452936  0.35971499  0.26739671\n",
      "  0.63064689  8.12101934  5.17691814  1.97464071  1.51209294  0.38817974\n",
      "  1.88548655  0.10625025  3.46029197  1.62122969  0.81666543  3.24200143\n",
      "  1.55494058  4.46147593  2.20804628  0.73133804  1.51505373  0.95391391\n",
      "  3.09457843  2.19558349  3.31955878  0.704445    1.3557632   2.10009552\n",
      "  0.48470451  0.30254388  0.52987204  2.9052257   1.63324504  1.58763065\n",
      "  1.39516266  1.68253115  2.10923856  1.00619983  1.67635268  2.60003686\n",
      "  3.52729077  1.03221995  1.46310622  0.19943329  0.41197807  1.07451872\n",
      "  1.90619271  2.74868826  1.24683763  3.08194305  1.0467436   2.85785155\n",
      "  1.58794405  0.93328977  1.5462211   2.7763096   1.26988959  1.16786015\n",
      "  2.26103079  0.37622263  3.48244346  1.02254907  1.684599    1.35717798\n",
      "  3.44572507  0.26232021  1.51259004  0.65275242  2.60769095  1.42955276\n",
      "  2.53459767  0.16231474  0.47507194  2.40728969  6.62929009  2.53946607\n",
      "  0.28100356  0.75332573  0.61745773  0.99410655  3.26863858  0.99761083\n",
      "  2.93785545  1.07993856  1.76361476  0.78893055  0.81787716  0.98008349\n",
      "  3.74785484  1.89344403  1.85077911  1.89729604  2.93733408  6.08161676\n",
      "  0.91536719  1.75896547  1.99378739  5.30385658  3.82188482  2.57404117\n",
      "  1.03532822  1.48595206  1.0222401   1.71988013  1.27035198  3.92272815\n",
      "  2.00971673  1.29751678  0.77213412  1.7320846   2.43484147  1.0180518\n",
      "  3.32356017  3.98676485  0.22570566  0.89719601  1.15188489  9.69479371\n",
      "  1.1664121   1.06169627  3.99328891  2.20456873  3.0753658   1.21891477\n",
      "  3.41232071  0.79700317  1.66410309  7.92667262  3.16866066  1.48153495\n",
      "  1.7721      1.07649499  0.56201892  0.44742202  0.45580255  3.72660987\n",
      "  0.69184335  1.51021143  2.65951411  1.29685008  0.75952688  1.17280647\n",
      "  1.94836083  3.46313582  0.97724665  1.63704532  1.72214664  3.45132846\n",
      "  0.81044023  2.7722377   0.99997404  1.57093522  1.01861966  3.66639175\n",
      "  1.41288534  1.73671447  1.80169575  1.91215719  2.92665385  0.56842835\n",
      "  2.39871119  1.34402141  4.86250573  0.54250246  0.46009264  0.30627228\n",
      "  5.75552269  4.79277606  1.27482616  3.54027524  1.72963454  0.98373656\n",
      "  1.46214072  2.38659322  0.96579866  1.57729983  2.22088168  3.35103421\n",
      "  2.29195898  0.92588055  0.33412071  2.68041731  2.75266118  0.38619905\n",
      "  2.96967498  1.47445762  2.20510175  3.01284866  1.81528155  1.33387904\n",
      "  0.34782905  2.0002768   0.11146559  0.48958713  1.10988105  1.55755225\n",
      "  1.94426209  1.73602818  2.61999492  3.19495121  0.6036278   0.68675596\n",
      "  5.37149794  1.29258316  3.36646976  0.67229832  1.56252405  4.17801519\n",
      "  0.88737635  2.11210496  1.27245553  3.18404188  3.00586448  3.864895\n",
      "  2.52055532  1.47043714  0.44065784  2.38069351  3.29488747  1.29728991\n",
      "  2.81436451  0.56027081  2.87291795  1.14467842  3.42404989  5.47027427\n",
      "  6.42589682  1.48236278  1.83091378  0.63724712  1.41984145  2.57510124\n",
      "  3.9011231   1.41871304  3.30844459  1.68961621  0.80947654  1.96656565\n",
      "  4.35363252  0.672352    0.82676529  2.94237011  1.33950593  2.13343279\n",
      "  3.11098902  0.36221626  1.05291899  0.99650667  1.22998994  0.5882102\n",
      "  2.83686748  0.57810872  3.57665598  1.3221215   2.66183965  4.12065923\n",
      "  0.24429177  1.10646292  1.1427863   1.88445695  0.0592885   2.28620335\n",
      "  1.04378666  1.59294909  1.69229873  5.62108576  1.72873167  1.14925668\n",
      "  0.85779822  0.4890947   1.7871744   2.2331861   0.87906885  1.14062292\n",
      "  4.79936492  0.26316107  1.69288381  1.63998514  1.22346498  0.83705679\n",
      "  0.11387914  2.31740363  0.57674797  0.69562456  0.63444731  0.35674304\n",
      "  0.79463696  1.83760972  0.78378926  3.20375238  3.77833431  1.04309469\n",
      "  1.47684668  0.60597925  1.35479453  1.09766537  6.16056617  1.70999817\n",
      "  4.67390008  1.93940422  2.3651734   1.29035586  4.72552708  1.20089975\n",
      "  1.79685433  0.06726824  0.60991155  2.79169456  1.12737218  0.79965813\n",
      "  1.5881541   4.96155514  3.39630999  0.93696467]\n"
     ]
    }
   ],
   "source": [
    "np.random.seed(2022)\n",
    "\n",
    "x = np.random.gamma(shape=2, scale=1, size=1000)\n",
    "print(x)"
   ]
  },
  {
   "cell_type": "code",
   "execution_count": 118,
   "id": "bfc25542",
   "metadata": {},
   "outputs": [
    {
     "data": {
      "image/png": "[encoded data removed]",
      "text/plain": [
       "<Figure size 432x288 with 1 Axes>"
      ]
     },
     "metadata": {
      "needs_background": "light"
     },
     "output_type": "display_data"
    }
   ],
   "source": [
    "plt.hist(x)\n",
    "plt.show()"
   ]
  },
  {
   "cell_type": "code",
   "execution_count": 70,
   "id": "b46363f3",
   "metadata": {},
   "outputs": [],
   "source": [
    "from scipy import stats"
   ]
  },
  {
   "cell_type": "code",
   "execution_count": 71,
   "id": "bb1a0a0c",
   "metadata": {},
   "outputs": [
    {
     "data": {
      "text/plain": [
       "0.009900498337491688"
      ]
     },
     "execution_count": 71,
     "metadata": {},
     "output_type": "execute_result"
    }
   ],
   "source": [
    "a = 2\n",
    "stats.gamma.pdf(0.01, a)"
   ]
  },
  {
   "cell_type": "code",
   "execution_count": 72,
   "id": "8081122c",
   "metadata": {},
   "outputs": [
    {
     "data": {
      "text/plain": [
       "0.2760825050052482"
      ]
     },
     "execution_count": 72,
     "metadata": {},
     "output_type": "execute_result"
    }
   ],
   "source": [
    "stats.gamma.pdf(1.96, a)"
   ]
  },
  {
   "cell_type": "code",
   "execution_count": 73,
   "id": "8463f06a",
   "metadata": {},
   "outputs": [
    {
     "data": {
      "text/plain": [
       "0.0004539992976248486"
      ]
     },
     "execution_count": 73,
     "metadata": {},
     "output_type": "execute_result"
    }
   ],
   "source": [
    "stats.gamma.pdf(10, a)"
   ]
  },
  {
   "cell_type": "markdown",
   "id": "659dcfbc",
   "metadata": {},
   "source": [
    "# 베타 분포"
   ]
  },
  {
   "cell_type": "markdown",
   "id": "18b5de7e",
   "metadata": {},
   "source": [
    "### a = 알파\n",
    "### b = 베타\n",
    "### size = 뽑을 갯수"
   ]
  },
  {
   "cell_type": "code",
   "execution_count": 1,
   "id": "2e772a7a",
   "metadata": {},
   "outputs": [],
   "source": [
    "import numpy as np\n",
    "import matplotlib.pyplot as plt"
   ]
  },
  {
   "cell_type": "code",
   "execution_count": 2,
   "id": "10f7bf87",
   "metadata": {},
   "outputs": [
    {
     "name": "stdout",
     "output_type": "stream",
     "text": [
      "[3.51535057e-04 8.37337354e-01 6.64530144e-01 3.56164167e-01\n",
      " 2.31014166e-01 9.90362017e-01 8.66193151e-01 1.36105882e-01\n",
      " 1.26828946e-03 8.31711196e-01]\n"
     ]
    }
   ],
   "source": [
    "np.random.seed(2022)\n",
    "\n",
    "x = np.random.beta(a=0.5, b=0.5, size=10)\n",
    "print(x)"
   ]
  },
  {
   "cell_type": "code",
   "execution_count": 4,
   "id": "4cb585be",
   "metadata": {},
   "outputs": [
    {
     "data": {
      "image/png": "[encoded data removed]",
      "text/plain": [
       "<Figure size 432x288 with 1 Axes>"
      ]
     },
     "metadata": {
      "needs_background": "light"
     },
     "output_type": "display_data"
    }
   ],
   "source": [
    "x = np.random.beta(a=0.5, b=0.5, size=1000)\n",
    "\n",
    "plt.hist(x, bins=20)\n",
    "plt.show()"
   ]
  },
  {
   "cell_type": "code",
   "execution_count": 121,
   "id": "415da588",
   "metadata": {},
   "outputs": [
    {
     "name": "stdout",
     "output_type": "stream",
     "text": [
      "[0.97014651 0.66690827 0.61709111 0.61889031 0.6164779  0.85000879\n",
      " 0.98439288 0.93734394 0.67941263 0.52812431 0.542605   0.9426997\n",
      " 0.88766767 0.56703998 0.58346613 0.22894938 0.64749099 0.55441826\n",
      " 0.7092691  0.9632464  0.73656354 0.37794184 0.69787315 0.55783625\n",
      " 0.98781127 0.69797601 0.85420658 0.42528205 0.95033855 0.51913124\n",
      " 0.93497994 0.66247638 0.92177815 0.65640306 0.89744297 0.38568883\n",
      " 0.96500415 0.41205513 0.35972022 0.97261639 0.92592663 0.90958757\n",
      " 0.92572922 0.98412489 0.24615058 0.93313876 0.84922467 0.52686189\n",
      " 0.69673791 0.64900167 0.37509248 0.30257557 0.34596793 0.06696602\n",
      " 0.82589315 0.98019367 0.41328317 0.83743264 0.31583147 0.42748488\n",
      " 0.97218523 0.98896116 0.76170994 0.79636143 0.76277589 0.73595973\n",
      " 0.62506056 0.67324802 0.63427452 0.41984161 0.9404345  0.78829562\n",
      " 0.73146624 0.94640712 0.77524102 0.6757336  0.81825871 0.66640035\n",
      " 0.86347593 0.74475109 0.89921193 0.32814737 0.49424164 0.86975089\n",
      " 0.63620086 0.64814729 0.90007013 0.29122415 0.21453035 0.52785417\n",
      " 0.69158131 0.70142391 0.94450749 0.81758746 0.05867995 0.84493806\n",
      " 0.78153672 0.94682512 0.40125601 0.97807049 0.44596693 0.84975263\n",
      " 0.70159579 0.84171221 0.99294835 0.55707681 0.65545184 0.68948819\n",
      " 0.59307513 0.85884594 0.28192417 0.19996911 0.89163755 0.99546931\n",
      " 0.60657724 0.88167897 0.39118373 0.49687124 0.72904193 0.74141274\n",
      " 0.48069387 0.47711175 0.27527822 0.97736223 0.45205788 0.90564115\n",
      " 0.29888831 0.3849586  0.26437649 0.28862692 0.55178433 0.67722506\n",
      " 0.56723947 0.99039513 0.78899594 0.67391489 0.07646652 0.75609792\n",
      " 0.42995667 0.88864233 0.84193574 0.75156001 0.4679937  0.49626069\n",
      " 0.8901478  0.93758815 0.60561223 0.80546836 0.95794201 0.87109842\n",
      " 0.99661362 0.89664294 0.36751484 0.7766104  0.5591536  0.69751981\n",
      " 0.96876299 0.49756012 0.79511689 0.96331139 0.9896237  0.60863379\n",
      " 0.67926969 0.7916364  0.99737628 0.53286061 0.5028377  0.96814879\n",
      " 0.7049363  0.99894927 0.22521549 0.91280869 0.65254091 0.84244318\n",
      " 0.9974728  0.54276    0.96452389 0.35501955 0.87102985 0.47762857\n",
      " 0.59955306 0.81414917 0.77363695 0.92974333 0.69775544 0.69735252\n",
      " 0.82773702 0.13613595 0.39373027 0.48262846 0.14618109 0.48304408\n",
      " 0.81645821 0.86374263 0.92893967 0.86977147 0.98333087 0.64698637\n",
      " 0.63422163 0.7775697  0.4306154  0.52784755 0.66317008 0.94362126\n",
      " 0.53944127 0.45690877 0.54372046 0.78884222 0.439522   0.60885496\n",
      " 0.6655849  0.78399825 0.45695158 0.97137543 0.8580436  0.78124437\n",
      " 0.28318665 0.88606296 0.81231572 0.12813556 0.75553069 0.99387705\n",
      " 0.54071906 0.28988151 0.62087237 0.80586857 0.62069892 0.93806979\n",
      " 0.54913036 0.4362633  0.44050038 0.68214931 0.88339342 0.95914133\n",
      " 0.43825468 0.87478328 0.7357929  0.58610543 0.85696121 0.24890527\n",
      " 0.45146757 0.7474971  0.64023436 0.20898605 0.42101815 0.6216813\n",
      " 0.82089299 0.61277    0.36006924 0.88114283 0.45269522 0.94176259\n",
      " 0.90868552 0.79119685 0.75999711 0.7942838  0.98980933 0.45196021\n",
      " 0.65101081 0.17695137 0.24932039 0.61565978 0.62571816 0.88926736\n",
      " 0.82901075 0.98600315 0.77639798 0.56032978 0.64112919 0.53329787\n",
      " 0.60712197 0.88155301 0.9325233  0.77347061 0.49759875 0.79599767\n",
      " 0.69867208 0.19137941 0.87310288 0.04251329 0.46635282 0.10145076\n",
      " 0.66059678 0.71150875 0.63979797 0.79475052 0.77172491 0.88147289\n",
      " 0.37260713 0.37956585 0.46969057 0.90134938 0.63374158 0.78350647\n",
      " 0.49369665 0.38050848 0.9571311  0.77903273 0.46484059 0.5698842\n",
      " 0.12441599 0.98349007 0.83344834 0.13853509 0.44836463 0.95892526\n",
      " 0.54481626 0.48504649 0.83404802 0.71352573 0.75563169 0.25957902\n",
      " 0.36889848 0.83185944 0.6798387  0.5130192  0.69050293 0.83676232\n",
      " 0.74670858 0.32755411 0.57242898 0.56431548 0.75736052 0.68891213\n",
      " 0.52248239 0.54063293 0.85945783 0.78178524 0.80940485 0.27660461\n",
      " 0.80048866 0.87733777 0.49896019 0.76477071 0.14960513 0.06981158\n",
      " 0.85451326 0.84938026 0.98576434 0.15634789 0.442854   0.56207964\n",
      " 0.38050081 0.42819314 0.6483213  0.80411469 0.26839073 0.57517592\n",
      " 0.98653704 0.55581694 0.63196536 0.45153225 0.75880234 0.28321237\n",
      " 0.78829535 0.67567348 0.83447353 0.95380282 0.24040701 0.27273075\n",
      " 0.63650477 0.20896451 0.94497545 0.77413115 0.19933868 0.60837767\n",
      " 0.12299364 0.99812521 0.63793821 0.59204458 0.47127822 0.17385071\n",
      " 0.92124306 0.95804525 0.62590018 0.96939558 0.88444675 0.81591076\n",
      " 0.60589435 0.82710401 0.11851285 0.56143379 0.2861899  0.60367471\n",
      " 0.6517814  0.87220234 0.54924952 0.92931522 0.30879237 0.88316481\n",
      " 0.52172279 0.84195037 0.98670407 0.77330222 0.58661473 0.7923289\n",
      " 0.65768864 0.71279605 0.54355991 0.93595904 0.70758068 0.6108406\n",
      " 0.85254003 0.05244415 0.14746988 0.85482308 0.79026964 0.7880576\n",
      " 0.78002232 0.98394223 0.83192125 0.47965474 0.932467   0.91668621\n",
      " 0.21347248 0.66017776 0.71805859 0.78132758 0.5507918  0.8954167\n",
      " 0.2187108  0.87680739 0.82924748 0.86722116 0.45545896 0.77681144\n",
      " 0.97700831 0.7839958  0.8202081  0.78724789 0.59400414 0.80510042\n",
      " 0.82685401 0.88487066 0.70641275 0.68986267 0.44163602 0.77236325\n",
      " 0.90867864 0.25977805 0.88003825 0.90908788 0.87440644 0.3317198\n",
      " 0.70210887 0.69308592 0.45803724 0.96425957 0.64525713 0.87033183\n",
      " 0.67076634 0.77790195 0.19501696 0.95715277 0.43310775 0.79909526\n",
      " 0.4460113  0.79444398 0.72935063 0.21679735 0.80450897 0.96663477\n",
      " 0.93260213 0.25670773 0.66343327 0.66834361 0.24751935 0.61451091\n",
      " 0.61909516 0.34391172 0.71059992 0.83831315 0.92992528 0.36344462\n",
      " 0.74681285 0.99245442 0.40185    0.46670924 0.82725614 0.81752105\n",
      " 0.95335449 0.28719354 0.70924699 0.19841644 0.92087795 0.89999527\n",
      " 0.99652977 0.43512751 0.30735097 0.49742345 0.61063678 0.80752176\n",
      " 0.93155392 0.3637596  0.82382579 0.35308155 0.78221812 0.83008354\n",
      " 0.47774491 0.71680954 0.42545594 0.84710006 0.81162406 0.32208958\n",
      " 0.79526693 0.76630672 0.2812663  0.50908974 0.79048005 0.92601865\n",
      " 0.45535509 0.8845053  0.53516999 0.6463708  0.76121178 0.51610967\n",
      " 0.27717436 0.70600218 0.39505726 0.93869653 0.95004661 0.98035522\n",
      " 0.98266821 0.6902895  0.93080373 0.9035041  0.65861647 0.59799808\n",
      " 0.99234171 0.93028956 0.63073179 0.67418865 0.80799075 0.57904149\n",
      " 0.21930954 0.25591634 0.32428311 0.1590196  0.59622858 0.3211738\n",
      " 0.92809147 0.28444634 0.88860841 0.88438993 0.53767115 0.43738659\n",
      " 0.56645171 0.738403   0.30965575 0.81591981 0.91490038 0.7146554\n",
      " 0.64202342 0.98243141 0.89401514 0.98461802 0.3091653  0.95535229\n",
      " 0.69517776 0.11388525 0.57138329 0.97960706 0.79890903 0.7742318\n",
      " 0.61225849 0.06547195 0.83832977 0.78838873 0.84111198 0.39817598\n",
      " 0.26199364 0.66552828 0.75383144 0.79569894 0.65357618 0.26788975\n",
      " 0.45069897 0.5770191  0.39101539 0.90740844 0.62859233 0.96102485\n",
      " 0.47478308 0.55356317 0.52701201 0.37870873 0.99476636 0.96067181\n",
      " 0.86645326 0.51779672 0.7053027  0.89434529 0.16715399 0.61499337\n",
      " 0.22008256 0.50633771 0.12662121 0.3868776  0.93739147 0.71040492\n",
      " 0.17128799 0.98997268 0.97812574 0.9861631  0.73749493 0.64327863\n",
      " 0.89126249 0.9205139  0.55141387 0.90637279 0.63783047 0.57409918\n",
      " 0.7556935  0.86740745 0.41132395 0.9804624  0.37190524 0.58247849\n",
      " 0.76676534 0.28833747 0.51359173 0.89186324 0.37179028 0.36016673\n",
      " 0.32970744 0.97856031 0.72570378 0.9731007  0.26579221 0.62041842\n",
      " 0.78857634 0.7481406  0.62717523 0.85200312 0.67697473 0.60903423\n",
      " 0.79919578 0.09513246 0.86935291 0.28411569 0.92063601 0.83974531\n",
      " 0.54698875 0.94799403 0.52072732 0.37039676 0.70430363 0.31114359\n",
      " 0.88890197 0.41394237 0.25023232 0.62885065 0.69407553 0.93043269\n",
      " 0.92815525 0.59656279 0.88984122 0.69384877 0.42034675 0.23594007\n",
      " 0.66257894 0.90817338 0.90470748 0.95086251 0.59622838 0.8793477\n",
      " 0.29273159 0.69557865 0.93916748 0.72315729 0.55842793 0.75051841\n",
      " 0.23392799 0.56903398 0.5123927  0.13139753 0.39649421 0.64101922\n",
      " 0.13634142 0.57089268 0.07507966 0.68435909 0.95380093 0.95112176\n",
      " 0.4557542  0.75247912 0.56508709 0.24229486 0.56692693 0.63967868\n",
      " 0.97702874 0.5441437  0.68729106 0.29280739 0.69451643 0.63148408\n",
      " 0.62477596 0.88440187 0.76905661 0.90415379 0.95123388 0.62926047\n",
      " 0.64335658 0.49817609 0.66231138 0.97893539 0.59500011 0.71975654\n",
      " 0.24108727 0.74971005 0.96278626 0.58426222 0.74335331 0.90406179\n",
      " 0.63191746 0.74345618 0.85426085 0.67209219 0.98666395 0.67173234\n",
      " 0.65633555 0.84187929 0.30448765 0.43573501 0.32957867 0.96176075\n",
      " 0.62329782 0.78843147 0.79149391 0.93343926 0.80439318 0.73288109\n",
      " 0.89289964 0.12310493 0.72140366 0.07493028 0.84375207 0.18962893\n",
      " 0.61380315 0.79464316 0.89016999 0.89923674 0.81686314 0.96608059\n",
      " 0.91662059 0.70375404 0.17900527 0.59895108 0.65938893 0.33287963\n",
      " 0.93750135 0.71375527 0.77014313 0.35531147 0.34913156 0.96137713\n",
      " 0.91969508 0.73922028 0.86265738 0.71740279 0.1598107  0.95309786\n",
      " 0.34485956 0.89516871 0.88351259 0.98938712 0.57945068 0.60510788\n",
      " 0.50913609 0.9617181  0.57381418 0.41532917 0.39225087 0.78019541\n",
      " 0.59692686 0.36343889 0.82050005 0.75839909 0.78206528 0.46596115\n",
      " 0.68458287 0.82363654 0.62106719 0.55815894 0.86761339 0.97393139\n",
      " 0.26318196 0.05077337 0.60209393 0.97994891 0.51766738 0.52401041\n",
      " 0.37686803 0.58939167 0.67224834 0.8725775  0.64226228 0.43305989\n",
      " 0.9152268  0.78466219 0.17313949 0.8574209  0.80809875 0.97409983\n",
      " 0.46209684 0.24608347 0.57934272 0.57784592 0.82903185 0.4849668\n",
      " 0.1025787  0.66131194 0.99752309 0.74055622 0.20011121 0.94586109\n",
      " 0.74855585 0.52640248 0.89239733 0.98819081 0.44051556 0.94547135\n",
      " 0.61641543 0.86767793 0.24535363 0.63693853 0.42600609 0.54734262\n",
      " 0.64037757 0.98795559 0.75550179 0.36646208 0.98257196 0.8645733\n",
      " 0.94081037 0.96389964 0.66750058 0.844037   0.67248107 0.87200964\n",
      " 0.9293571  0.46663749 0.90259771 0.69183261 0.85460855 0.57752252\n",
      " 0.19684381 0.91426032 0.59048877 0.94833425 0.39004472 0.36888806\n",
      " 0.63647789 0.70289838 0.93638021 0.59057872 0.92009625 0.58418376\n",
      " 0.79191573 0.8873247  0.35854531 0.28783935 0.93892272 0.84993566\n",
      " 0.81709392 0.25768935 0.8825352  0.39470604 0.12808124 0.98935047\n",
      " 0.99173367 0.45710003 0.98569734 0.83194047 0.9119955  0.91473577\n",
      " 0.57038593 0.95899722 0.1844563  0.5868409  0.88892151 0.97152946\n",
      " 0.84324585 0.83706873 0.71060472 0.79614825 0.97903063 0.16322248\n",
      " 0.82795851 0.97119841 0.48854634 0.27085097 0.95889539 0.83934672\n",
      " 0.60261202 0.7835112  0.98257589 0.40100227 0.22934361 0.51410283\n",
      " 0.6819527  0.54843703 0.76276038 0.89779172 0.68949971 0.34821334\n",
      " 0.28951081 0.91491116 0.74133435 0.75745877 0.43751472 0.99811641\n",
      " 0.53491602 0.98095981 0.89002109 0.3498371  0.82013352 0.284676\n",
      " 0.31664953 0.92836001 0.38092443 0.60883964 0.54025225 0.30243086\n",
      " 0.61112771 0.2205982  0.70753121 0.38673121 0.84921414 0.49348734\n",
      " 0.84862856 0.93524609 0.85721042 0.86551882 0.39027331 0.46794089\n",
      " 0.94912667 0.4394211  0.81996598 0.92443641 0.58472228 0.99363575\n",
      " 0.2873333  0.87887583 0.57701012 0.47779309 0.84231412 0.82688831\n",
      " 0.93328928 0.83326311 0.64434468 0.39776767 0.60404527 0.15937284\n",
      " 0.32229475 0.70981098 0.51307054 0.88318752 0.82185559 0.33138005\n",
      " 0.41749768 0.77279193 0.87317743 0.81346089 0.56706451 0.25016021\n",
      " 0.53241888 0.54376161 0.86767158 0.96704289 0.79968043 0.72430456\n",
      " 0.93617042 0.43644394 0.98386818 0.85893933 0.31530778 0.59376967\n",
      " 0.98501096 0.36070392 0.86625118 0.95456772 0.11502498 0.73455769\n",
      " 0.5752301  0.22858394 0.68290515 0.94918804 0.79763889 0.70181237\n",
      " 0.94169179 0.26488582 0.78695888 0.85366457 0.76135416 0.98848282\n",
      " 0.38974919 0.51978607 0.81188876 0.72964695]\n"
     ]
    }
   ],
   "source": [
    "np.random.seed(2022)\n",
    "\n",
    "x = np.random.beta(a=2, b=1, size=1000)\n",
    "print(x)"
   ]
  },
  {
   "cell_type": "code",
   "execution_count": 122,
   "id": "e88d600e",
   "metadata": {},
   "outputs": [
    {
     "data": {
      "image/png": "[encoded data removed]",
      "text/plain": [
       "<Figure size 432x288 with 1 Axes>"
      ]
     },
     "metadata": {
      "needs_background": "light"
     },
     "output_type": "display_data"
    }
   ],
   "source": [
    "plt.hist(x)\n",
    "plt.show()"
   ]
  },
  {
   "cell_type": "code",
   "execution_count": 21,
   "id": "c049c209",
   "metadata": {},
   "outputs": [],
   "source": [
    "from scipy import stats"
   ]
  },
  {
   "cell_type": "code",
   "execution_count": 23,
   "id": "bfd74b03",
   "metadata": {},
   "outputs": [
    {
     "data": {
      "text/plain": [
       "0.02000000000000001"
      ]
     },
     "execution_count": 23,
     "metadata": {},
     "output_type": "execute_result"
    }
   ],
   "source": [
    "a = 2\n",
    "b = 1\n",
    "stats.beta.pdf(0.01, a, b)"
   ]
  },
  {
   "cell_type": "markdown",
   "id": "7551afd8",
   "metadata": {},
   "source": [
    "# 지수 분포"
   ]
  },
  {
   "cell_type": "markdown",
   "id": "2079dcb7",
   "metadata": {},
   "source": [
    "### scale = 베타"
   ]
  },
  {
   "cell_type": "code",
   "execution_count": 75,
   "id": "9924b616",
   "metadata": {},
   "outputs": [],
   "source": [
    "import numpy as np\n",
    "import matplotlib.pyplot as plt"
   ]
  },
  {
   "cell_type": "code",
   "execution_count": 123,
   "id": "6d5bbfd6",
   "metadata": {},
   "outputs": [
    {
     "name": "stdout",
     "output_type": "stream",
     "text": [
      "[0.01880536 1.38252915 0.24068592 0.10253189 2.31295486 1.33491235\n",
      " 4.55885515 2.08513739 4.54533665 2.55405446]\n"
     ]
    }
   ],
   "source": [
    "np.random.seed(2022)\n",
    "\n",
    "x = np.random.exponential(scale=2, size=10)\n",
    "print(x)"
   ]
  },
  {
   "cell_type": "code",
   "execution_count": 124,
   "id": "e17f9b35",
   "metadata": {},
   "outputs": [
    {
     "data": {
      "image/png": "[encoded data removed]",
      "text/plain": [
       "<Figure size 432x288 with 1 Axes>"
      ]
     },
     "metadata": {
      "needs_background": "light"
     },
     "output_type": "display_data"
    }
   ],
   "source": [
    "plt.hist(x)\n",
    "plt.show()"
   ]
  },
  {
   "cell_type": "code",
   "execution_count": 125,
   "id": "cf022cf0",
   "metadata": {},
   "outputs": [
    {
     "name": "stdout",
     "output_type": "stream",
     "text": [
      "[1.88053616e-02 1.38252915e+00 2.40685921e-01 1.02531891e-01\n",
      " 2.31295486e+00 1.33491235e+00 4.55885515e+00 2.08513739e+00\n",
      " 4.54533665e+00 2.55405446e+00 3.55990000e+00 3.51550544e+00\n",
      " 3.58647613e+00 6.29517351e+00 9.17872398e-01 1.36575075e+00\n",
      " 8.29544999e-01 1.93216676e+00 7.59111620e+00 2.02810203e-01\n",
      " 2.72676735e+00 6.92033812e-01 7.09568753e-01 2.79247504e+00\n",
      " 3.76801859e-02 1.48357194e+00 3.99662060e+00 9.84802271e-01\n",
      " 4.77001365e-01 1.28940255e+00 1.66331294e+00 8.59810590e-01\n",
      " 7.45180293e+00 7.71075620e-02 3.16237825e+00 8.85968259e-01\n",
      " 2.75636632e+00 4.91869552e+00 9.32540969e-01 6.69816682e+00\n",
      " 1.69778039e-01 8.67567499e-02 7.04216582e-01 9.04181653e-01\n",
      " 1.34769005e+00 2.20836799e+00 2.23812779e+00 1.69773450e+00\n",
      " 1.68051117e-01 4.57207088e+00 7.82895686e-02 3.04830490e+00\n",
      " 7.46901684e-02 6.21720848e-01 4.59389541e-01 5.99224386e-01\n",
      " 5.39467422e+00 1.63161976e-02 1.03326216e+00 4.49056179e+00\n",
      " 4.56837450e-01 4.40332219e-02 2.38914835e+00 4.23970440e-01\n",
      " 1.58122451e+00 1.84877283e+00 8.98258649e+00 1.94004536e-01\n",
      " 1.32893631e-01 8.83771208e+00 1.20335426e+00 3.84708114e+00\n",
      " 1.02647396e+00 9.82720758e-01 4.31536734e+00 2.11094975e+00\n",
      " 2.99936552e+00 2.02581316e-01 6.77234472e+00 7.77995003e-01\n",
      " 6.93925471e-01 2.41884059e+00 8.87199135e-01 3.44356695e-01\n",
      " 1.65293345e-02 3.54385489e+00 1.96938084e+00 4.10269226e+00\n",
      " 1.96650340e+00 2.79990653e-01 1.20453027e+00 4.32273045e-01\n",
      " 5.79587644e+00 1.08250280e+00 1.64513835e-01 4.02557885e+00\n",
      " 2.31990148e+00 3.99189288e-02 1.54758960e-01 5.13265384e-02\n",
      " 1.19170998e+00 1.42503571e+00 2.97887170e+00 6.70424549e-01\n",
      " 1.63190313e-01 4.94324163e+00 2.05993179e+00 3.39851465e+00\n",
      " 2.02473997e+00 2.95056262e+00 4.59366165e-01 2.75789070e+00\n",
      " 3.62372859e-01 6.52103640e-01 9.71070927e-01 5.78265908e-01\n",
      " 5.52159206e-01 3.68359386e+00 4.23074370e-02 4.50603808e+00\n",
      " 1.14586250e+00 6.18437418e-01 4.71290385e+00 1.64112270e+00\n",
      " 2.30891695e-01 2.41806118e+00 3.45995043e+00 2.68268974e+00\n",
      " 8.82810809e+00 3.46756418e-01 8.85903069e+00 2.59133558e+00\n",
      " 1.83305132e+00 3.44816516e-01 1.52325180e-01 4.90751214e-01\n",
      " 7.25622361e-01 3.29039535e+00 9.08460362e-01 4.06147807e+00\n",
      " 2.17202214e-01 1.30997432e+00 5.85871310e-01 1.22123319e+00\n",
      " 1.26048086e+00 7.95609479e-01 8.26683814e-03 1.86592390e-01\n",
      " 5.81647179e-01 2.37691503e+00 1.30433209e+00 7.88657394e+00\n",
      " 2.02744067e-01 2.17622460e-01 1.98268941e+00 5.55296787e+00\n",
      " 3.46011209e+00 5.04674694e+00 5.12145441e-01 4.68284441e+00\n",
      " 5.03601132e-01 1.20025995e+00 2.63396610e+00 2.23457133e-01\n",
      " 1.73177928e+00 1.11081765e+00 1.67326148e-01 7.10874309e-01\n",
      " 9.11758181e-01 1.04374136e+00 4.97869905e+00 1.97307400e+01\n",
      " 5.59223391e-01 6.57574339e+00 2.62626517e+00 6.46519162e-01\n",
      " 8.45284299e-01 3.15860652e+00 3.51508983e+00 5.52880197e+00\n",
      " 1.89003970e+00 1.26080897e+00 1.01174614e+00 1.86186887e+00\n",
      " 2.75643465e+00 1.26508020e+01 1.54564302e-01 3.99541251e-01\n",
      " 5.58777327e-01 5.32697776e+00 4.75857180e+00 3.13588591e+00\n",
      " 1.54070522e+00 3.13612350e+00 2.17371768e-01 1.82037484e+00\n",
      " 5.51798763e-01 7.74340031e-02 4.95999917e+00 2.00852806e-01\n",
      " 2.18145627e+00 7.70390028e-01 2.31147908e+00 1.46328749e+00\n",
      " 6.07923905e+00 1.40376942e+00 4.84702478e-01 1.67450099e+01\n",
      " 5.09439501e-01 2.28336984e+00 5.42271520e-01 1.19637158e+01\n",
      " 4.77761680e-01 1.67282350e+00 3.30051945e+00 2.06399402e+00\n",
      " 2.74215199e-01 1.39684650e-01 4.60193470e+00 8.00116624e-02\n",
      " 9.01190752e+00 7.30039804e-01 2.53413151e+00 1.70533331e+00\n",
      " 8.04413972e-01 1.56694801e+00 6.89140218e+00 2.49561414e+00\n",
      " 3.31577045e-01 5.39365810e+00 2.46466704e+00 4.56132865e+00\n",
      " 8.60044137e-01 1.57639692e+00 2.41537205e+00 1.50042766e+00\n",
      " 2.29664214e-01 5.62114634e-01 3.55160431e+00 1.59084579e+00\n",
      " 1.17928650e-01 1.13027569e+00 5.98293035e-01 3.47895084e+00\n",
      " 1.08984375e+00 3.24578228e+00 5.08523777e+00 2.90888745e+00\n",
      " 1.40420329e+00 4.48533503e+00 3.24617547e+00 4.14586126e-01\n",
      " 3.99092661e-01 9.02887764e-01 2.09955625e+00 1.97261749e+00\n",
      " 3.04942437e+00 2.83060536e+00 9.53651392e-01 4.96859719e-01\n",
      " 5.58815522e+00 9.74476891e-01 1.14628913e+00 8.53185265e-01\n",
      " 4.30264646e+00 2.47213066e+00 2.26327204e+00 1.02099215e+00\n",
      " 3.90002459e+00 3.24390203e-01 2.57932988e+00 4.83857068e+00\n",
      " 3.96610800e+00 7.29446470e-01 1.38779776e+00 3.74120499e-01\n",
      " 6.62604604e-01 1.98014037e+00 7.88773105e-01 2.07619523e-01\n",
      " 9.44937311e-02 2.11256918e-01 2.22312926e+00 5.40021480e+00\n",
      " 2.19069997e+00 1.98154057e-02 1.71437968e+00 6.11845454e-02\n",
      " 1.69445041e-01 2.37828727e+00 1.63537126e-02 5.26990577e-01\n",
      " 4.19837295e-01 1.06149819e+00 3.26460022e+00 1.42117096e+00\n",
      " 4.00069140e+00 5.47956516e-01 3.87270877e-01 2.44636643e+00\n",
      " 1.23366854e+00 5.51754635e-01 3.44709557e+00 3.78727760e+00\n",
      " 5.44874127e+00 3.65510075e-02 3.09224771e+00 3.13138883e-01\n",
      " 1.28087939e+00 8.28424533e+00 1.70338024e+00 3.94580256e+00\n",
      " 1.88490493e+00 3.42960323e+00 6.33682228e+00 3.30320119e+00\n",
      " 8.71736328e-01 1.91511874e+00 4.70513322e+00 8.59978152e-01\n",
      " 3.44734336e+00 1.58124111e-01 1.88356533e+00 1.23796454e+00\n",
      " 1.60676637e+00 1.20122729e+00 1.22603746e-01 7.06829688e+00\n",
      " 1.45140471e+00 2.18314509e+00 3.45826645e+00 2.95498729e+00\n",
      " 2.16830084e+00 1.37039446e+00 6.05304100e+00 2.94370816e-01\n",
      " 3.06749422e+00 7.57654098e-01 8.52400234e-01 2.78915966e+00\n",
      " 4.77693125e+00 1.53079503e-01 2.93551428e+00 5.62725561e-01\n",
      " 2.39560052e+00 2.16947730e+00 2.45500166e+00 1.03152832e+00\n",
      " 1.55448015e+00 1.48662803e+00 4.87509403e+00 3.98731640e+00\n",
      " 1.06439885e+00 2.96371197e+00 3.94077771e+00 3.37897511e-01\n",
      " 3.16882599e-01 2.24249610e-02 3.67186030e+00 2.80189592e+00\n",
      " 8.18822536e-01 3.21624475e-01 6.82734498e+00 7.81922040e-01\n",
      " 7.41903440e-01 1.05801933e+00 1.32668891e+00 5.81925432e-01\n",
      " 8.54796429e-01 4.19992479e-01 3.53171025e-01 5.05633513e-01\n",
      " 7.27263311e-01 8.93321018e-01 5.24169079e-01 3.47439282e+00\n",
      " 2.61048236e+00 3.50172772e+00 1.99972277e+00 1.78766067e+00\n",
      " 9.64721752e-01 9.15455281e-01 1.76462587e+00 4.65987051e-02\n",
      " 4.11186921e+00 8.76191320e-01 8.64774101e-01 1.63441042e+00\n",
      " 7.45113219e-01 8.28402157e-01 2.40828477e+00 1.58257891e-01\n",
      " 1.28394740e+00 3.55181934e+00 2.17798052e+00 3.97454188e+00\n",
      " 2.13614157e+00 4.53703961e+00 1.03119627e+00 2.09788438e+00\n",
      " 1.11875032e+00 1.44696731e+00 1.44076526e-01 2.10866258e-01\n",
      " 2.02397217e+00 1.23079595e-01 5.87644811e+00 2.28585708e+00\n",
      " 2.12623477e+00 4.15190174e+00 1.27530744e+00 1.21873751e+00\n",
      " 3.91469645e-01 3.76294345e-01 1.82992537e+00 1.47218096e-02\n",
      " 9.95599759e-01 2.91623670e-02 6.41585156e+00 3.61206300e+00\n",
      " 2.45145905e+00 3.38882955e-01 9.77704448e-01 4.39091176e-01\n",
      " 2.82638037e-01 2.46659132e+00 4.52236703e+00 3.63595867e+00\n",
      " 1.13889511e+00 1.10609940e+00 1.22017698e+00 1.20894263e+00\n",
      " 3.39162180e-01 1.50837524e+00 7.08547295e-01 3.68121085e-01\n",
      " 3.14482300e-01 1.27591637e+00 4.32186412e-01 1.02894238e+00\n",
      " 1.47730790e+00 4.70602400e+00 7.14031435e-01 4.80144908e+00\n",
      " 1.70346506e+00 3.36001406e-02 3.62565371e+00 3.06919819e+00\n",
      " 1.48405626e-01 1.24645480e+00 5.34612514e-01 2.38941907e+00\n",
      " 1.44235747e+00 8.69847786e-01 2.77814799e+00 3.26059228e+00\n",
      " 1.75270689e+00 1.25627332e+00 2.14340992e+00 1.41889929e-02\n",
      " 1.22923685e+00 3.84824855e-02 2.47014210e+00 3.25807990e+00\n",
      " 3.39859887e+00 4.07507210e-01 6.10208611e+00 2.41388286e+00\n",
      " 3.13675640e+00 6.64954865e-01 3.67518813e-01 1.26124186e+00\n",
      " 7.39323184e+00 2.59573507e-01 3.59994827e-01 3.29566126e+00\n",
      " 2.87790015e-01 5.14396261e+00 4.71953793e+00 2.33003238e+00\n",
      " 1.39424358e+00 3.43768264e-01 1.56247096e+00 1.30411373e-01\n",
      " 4.20318815e+00 2.23118053e-01 2.09088862e+00 1.50593302e+00\n",
      " 8.66855014e-01 2.95564058e+00 1.73464459e+00 3.02190379e+00\n",
      " 2.36583643e+00 2.49162327e+00 7.31830687e-01 3.09791971e-01\n",
      " 2.23138199e+00 9.84353609e-01 3.92201822e+00 5.91349054e-01\n",
      " 1.28196712e+00 8.01484413e-03 1.42470104e+00 6.00227616e-01\n",
      " 4.02727388e-01 5.31633438e-01 3.56479451e-01 3.60294103e+00\n",
      " 3.14659212e+00 5.46040607e-01 1.58719082e-01 9.98549334e-01\n",
      " 4.96679865e+00 2.27903386e+00 2.73887670e+00 7.86150813e-01\n",
      " 1.15370894e+00 2.72130412e+00 4.16943060e-01 3.04729329e-01\n",
      " 3.44982913e+00 2.41174270e+00 6.52404892e-01 9.44907333e+00\n",
      " 3.87248945e+00 3.66513209e+00 5.94615494e-01 9.80264497e-01\n",
      " 3.81404500e+00 1.45757903e-01 1.70385207e+00 1.57205918e+00\n",
      " 3.66940207e+00 8.68658220e-02 2.92840017e+00 8.56508905e+00\n",
      " 1.00038243e+00 2.14828914e-01 8.12536591e-01 7.48839718e-01\n",
      " 2.12046640e-01 7.31932929e-01 1.45611467e+00 2.01024673e+00\n",
      " 1.86684048e-01 3.49791944e-02 3.93718497e-02 3.63035861e+00\n",
      " 1.90984118e+00 3.35243385e+00 2.16959672e+00 7.38315311e+00\n",
      " 5.66676868e+00 1.51410861e-01 2.16514485e+00 2.70592608e+00\n",
      " 1.35670719e+00 3.18379819e+00 6.11637665e-01 6.23234843e-03\n",
      " 1.38366817e+00 4.54241234e-01 2.68007336e+00 2.82791455e+00\n",
      " 2.25867692e-02 3.17611605e-01 4.25443945e-01 4.32070394e-01\n",
      " 2.73023837e-02 1.14265303e+00 3.51048136e-02 3.99679496e-01\n",
      " 1.53479144e+00 3.08050383e+00 7.24171075e-01 2.22279968e-02\n",
      " 1.29207688e+00 3.22924051e+00 1.07419728e+00 1.72350323e+00\n",
      " 5.22847361e-01 3.53990001e-01 7.18462218e-02 9.45856415e-01\n",
      " 9.46866933e-01 5.32550998e+00 1.81601102e+00 7.81353939e-01\n",
      " 6.29069446e-01 3.15282191e+00 2.00589070e-03 2.13833007e+00\n",
      " 7.42029686e+00 1.85533111e-01 2.76973656e-01 7.02429895e-01\n",
      " 1.88085761e+00 1.61362223e+00 8.48905766e+00 4.11892878e-01\n",
      " 2.52074580e+00 2.87857675e+00 6.68863693e+00 1.89153628e+00\n",
      " 3.28539945e+00 4.38981391e-01 1.58502386e+00 4.50128273e+00\n",
      " 2.27295436e+00 2.79037772e+00 1.20196657e+00 1.57816991e+00\n",
      " 9.93316102e-01 1.60383445e+00 1.95023487e-01 1.40229378e+00\n",
      " 2.48048715e+00 1.83863843e+00 6.70773181e-02 5.10577929e-01\n",
      " 2.75790777e+00 3.65311596e-01 2.09925181e+00 2.84710477e+00\n",
      " 1.69315253e+00 5.19554273e+00 1.29886546e+00 8.13488958e-01\n",
      " 1.26993810e+00 1.95164167e+00 2.87949379e-01 2.84957067e+00\n",
      " 8.30588539e-01 5.58577532e-01 4.76346909e-02 2.45390587e-01\n",
      " 5.30034484e-01 2.75194092e-01 1.09185903e+00 2.75052182e+00\n",
      " 1.57746747e+00 6.96781169e-01 7.44913499e-01 3.31281976e-01\n",
      " 1.18721589e+00 1.45222387e+00 1.70231326e+00 1.04447509e-01\n",
      " 2.38030880e+00 1.17821542e+00 1.01979978e-01 8.78090833e-01\n",
      " 1.07817434e+00 8.78618762e-01 1.81231312e+00 6.93159066e-02\n",
      " 1.11896094e+01 2.72943289e+00 5.81154284e-01 2.54759570e+00\n",
      " 4.50533983e-01 3.94862115e+00 7.96801355e+00 7.09443557e-02\n",
      " 2.92011834e-01 1.21632589e+00 7.76368868e-01 3.67826820e+00\n",
      " 3.69526447e-01 5.44718512e-01 1.13523932e+00 3.22115865e+00\n",
      " 1.71010552e-01 1.76539093e+00 4.13492217e+00 9.92829752e-01\n",
      " 3.97759631e-01 1.10541498e+00 3.38899235e+00 1.02422017e+00\n",
      " 4.03889835e-02 4.46794666e+00 3.17351743e+00 7.84777592e-01\n",
      " 2.67538205e+00 3.36995095e-01 1.50843451e+00 1.82531679e+00\n",
      " 9.65912339e-01 4.25754082e-01 1.38465510e+00 1.85591090e+00\n",
      " 2.72437761e-01 6.87869022e-02 8.97790958e-01 2.91501149e+00\n",
      " 2.05535766e+00 1.75329840e-01 7.16854500e-01 2.73842028e+00\n",
      " 7.54680206e-01 2.43679250e+00 2.58538360e+00 2.86452348e+00\n",
      " 1.06754792e+00 5.99851050e+00 6.57352025e-02 9.15409007e+00\n",
      " 2.88972754e-01 3.16788458e-01 1.11580193e+00 3.41194894e+00\n",
      " 3.99222510e-01 1.29356537e+00 2.54072166e+00 7.39320908e-01\n",
      " 3.96340624e-02 4.22709694e+00 3.14401956e+00 4.87614905e-01\n",
      " 7.00525487e-01 4.95145822e+00 1.71155365e+00 6.82612742e-01\n",
      " 4.44435581e+00 3.81285964e+00 9.02779848e-01 1.92874725e+00\n",
      " 1.62391149e-01 1.85823969e+00 3.96864111e+00 5.07626288e+00\n",
      " 5.02794876e+00 9.65433934e-01 3.45223370e-01 9.19444086e-01\n",
      " 2.31519834e+00 3.42085960e-02 1.87895223e-01 1.32460480e+00\n",
      " 5.27609919e-01 2.75770243e+00 7.40523511e-01 3.74261163e+00\n",
      " 2.86051371e+00 1.50901240e-01 7.13568970e-01 1.34699061e+00\n",
      " 8.88506976e+00 1.88952373e+00 2.24298117e-01 1.04354404e-01\n",
      " 4.35546660e-01 5.58154837e+00 2.45976266e-02 1.95384447e+00\n",
      " 5.67652787e+00 9.11389844e-01 5.53725261e-01 1.78792434e+00\n",
      " 2.77995833e+00 3.26144369e-01 7.27752152e-01 2.88535681e+00\n",
      " 1.24038633e+00 5.60149842e+00 7.14648920e-01 2.21055286e+00\n",
      " 2.67918225e+00 2.63203439e+00 3.74824404e+00 7.88453028e+00\n",
      " 2.15792376e+00 2.93646081e+00 1.50238377e-01 8.97356047e-02\n",
      " 4.40053700e-03 2.25378076e+00 1.15696830e+00 3.77095912e+00\n",
      " 8.53181922e-01 9.65655949e-01 5.15333487e-01 1.20880941e-01\n",
      " 1.56172943e+00 8.75591768e-02 1.26142506e+00 2.62165082e+00\n",
      " 4.42924629e-01 4.97161084e-01 1.73273681e+00 2.73061841e+00\n",
      " 1.31086984e+00 3.28650887e+00 5.52278223e+00 3.39732366e+00\n",
      " 4.23309014e+00 3.64584646e+00 4.48450878e-01 2.32801495e+00\n",
      " 2.25410843e+00 8.72650861e-01 1.22559162e+00 4.11126489e+00\n",
      " 4.64063223e+00 1.97323890e+00 7.50683005e-02 4.88452328e+00\n",
      " 7.45190686e+00 1.96327193e+00 2.06130344e-01 4.40497993e+00\n",
      " 8.00080214e-01 7.73127923e-01 2.92034117e+00 6.04162449e-01\n",
      " 1.65027076e+00 4.35968011e+00 5.87278105e+00 1.48974672e+00\n",
      " 3.26987511e+00 4.71824340e+00 5.67406305e-01 3.26096349e+00\n",
      " 2.21213468e-01 4.95353166e-01 2.87980173e-01 6.18487039e-01\n",
      " 5.21371864e-01 1.67218737e+00 1.15698193e-01 1.74677450e+00\n",
      " 8.43437031e-01 6.47670572e+00 6.42243427e-01 2.64250030e-01\n",
      " 5.34488459e-01 1.03815979e+01 2.71494853e+00 3.76905404e-01\n",
      " 1.11588058e+00 2.16560298e+00 2.22175863e+00 3.03992783e-01\n",
      " 2.48466249e+00 1.40350179e+00 9.64501767e-01 3.44824869e-01\n",
      " 6.49133834e+00 6.07042369e+00 1.08540597e+00 6.49369065e+00\n",
      " 8.11228777e-01 2.46405280e-02 1.59406783e+00 2.31636494e+00\n",
      " 6.50420767e-01 3.68439632e-01 3.05735325e-01 1.33376824e+00\n",
      " 6.61607528e-02 1.35823755e+00 6.27491669e-01 6.81701942e-02\n",
      " 6.58612113e-01 4.59274882e-01 1.71345491e+00 1.10021766e+00\n",
      " 7.86257081e-01 7.85982596e-01 2.39220754e+00 4.86412556e+00\n",
      " 5.06623508e+00 4.53940521e-01 3.20327840e-01 1.78138687e+00\n",
      " 1.45123870e+00 1.14269925e+00 1.47550400e+00 6.03970771e-02\n",
      " 4.84207508e+00 6.73123205e+00 1.27427067e+00 3.80677340e-01\n",
      " 4.04674966e-01 4.75804016e+00 1.00803271e+00 3.85549648e+00\n",
      " 3.68747405e+00 2.32011266e-01 5.38799479e-02 3.37825857e-01\n",
      " 1.09830709e+00 6.94372137e-01 5.35591230e+00 1.30950497e-01\n",
      " 3.46414075e+00 3.19414608e+00 1.61465074e+00 5.44936656e-01\n",
      " 7.75257162e-01 3.45377650e-01 1.51121138e+00 3.69358128e+00\n",
      " 7.78159791e-01 4.53670150e+00 1.30513977e+00 3.34366556e-01\n",
      " 4.30723645e-01 1.47983293e+00 4.68382737e-01 2.08823586e+00\n",
      " 4.81665511e+00 2.59813391e+00 1.60348742e+00 1.12028298e+00\n",
      " 4.06448359e+00 1.51994201e+00 3.79615729e+00 5.69040188e-01\n",
      " 1.89899094e+00 1.60299377e+00 1.56253035e+00 2.88317536e-01\n",
      " 1.41189334e+00 1.29392336e+01 1.42971715e+01 1.12071622e+00\n",
      " 1.74398895e-01 1.47836373e+00 1.10282279e+00 9.91006145e-01\n",
      " 2.65376242e+00 1.70685052e-01 6.56642353e+00 1.58639815e+00\n",
      " 1.09571109e+00 1.93145702e-01 2.27076281e+00 1.41997432e-01\n",
      " 4.21291405e+00 2.08576731e-01 3.19116316e+00 4.25259951e-01\n",
      " 1.40498307e+00 3.34180417e+00 1.77956054e+00 3.59574013e+00\n",
      " 1.42296379e+00 3.30164570e+00 8.84025891e-01 3.45039573e+00\n",
      " 2.30567132e+00 7.59484829e-01 3.97969304e+00 1.20531307e-01\n",
      " 7.91438417e-01 2.12286682e+00 4.01417434e+00 6.57397855e-01\n",
      " 2.13729432e+00 8.47837578e-01 1.02677457e+01 3.61651736e-01\n",
      " 1.13024866e+00 1.24303599e-01 5.58881886e-01 2.35431998e+00\n",
      " 7.82415583e-01 2.01074783e+00 1.34992985e-01 3.22985165e+00\n",
      " 4.30172907e+00 4.73622531e+00 2.83770570e+00 7.80428678e-01\n",
      " 1.07843113e+00 6.33564619e+00 4.36674033e+00 5.62877437e+00\n",
      " 1.57381638e+00 2.06156026e+00 5.73011626e+00 1.53523545e-01\n",
      " 2.45207426e-01 6.72564642e-01 4.79655605e+00 2.27123283e+00\n",
      " 1.35971116e+00 7.76539536e-01 3.11196288e+00 9.99784229e-01\n",
      " 1.21788421e+00 2.28884676e+00 1.11176139e+00 1.71069426e+00\n",
      " 1.75902290e+00 9.08046289e-01 3.81742895e+00 1.34408221e-02]\n"
     ]
    }
   ],
   "source": [
    "np.random.seed(2022)\n",
    "\n",
    "x = np.random.exponential(scale=2, size=1000)\n",
    "print(x)"
   ]
  },
  {
   "cell_type": "code",
   "execution_count": 126,
   "id": "906d41fa",
   "metadata": {},
   "outputs": [
    {
     "data": {
      "image/png": "[encoded data removed]",
      "text/plain": [
       "<Figure size 432x288 with 1 Axes>"
      ]
     },
     "metadata": {
      "needs_background": "light"
     },
     "output_type": "display_data"
    }
   ],
   "source": [
    "plt.hist(x)\n",
    "plt.show()"
   ]
  },
  {
   "cell_type": "code",
   "execution_count": 28,
   "id": "3711eede",
   "metadata": {},
   "outputs": [],
   "source": [
    "from scipy import stats"
   ]
  },
  {
   "cell_type": "code",
   "execution_count": 30,
   "id": "e0cc9f33",
   "metadata": {},
   "outputs": [
    {
     "data": {
      "text/plain": [
       "0.9900498337491681"
      ]
     },
     "execution_count": 30,
     "metadata": {},
     "output_type": "execute_result"
    }
   ],
   "source": [
    "stats.expon.pdf(0.01)"
   ]
  },
  {
   "cell_type": "code",
   "execution_count": null,
   "id": "099873c6",
   "metadata": {},
   "outputs": [],
   "source": []
  }
 ],
 "metadata": {
  "kernelspec": {
   "display_name": "Python 3 (ipykernel)",
   "language": "python",
   "name": "python3"
  },
  "language_info": {
   "codemirror_mode": {
    "name": "ipython",
    "version": 3
   },
   "file_extension": ".py",
   "mimetype": "text/x-python",
   "name": "python",
   "nbconvert_exporter": "python",
   "pygments_lexer": "ipython3",
   "version": "3.9.12"
  }
 },
 "nbformat": 4,
 "nbformat_minor": 5
}
