{
 "cells": [
  {
   "cell_type": "markdown",
   "metadata": {},
   "source": [
    "# MLE"
   ]
  },
  {
   "cell_type": "code",
   "execution_count": 30,
   "metadata": {},
   "outputs": [
    {
     "data": {
      "text/plain": [
       "0.7105263157894737"
      ]
     },
     "execution_count": 30,
     "metadata": {},
     "output_type": "execute_result"
    }
   ],
   "source": [
    "27/38"
   ]
  },
  {
   "cell_type": "code",
   "execution_count": 1,
   "metadata": {},
   "outputs": [],
   "source": [
    "def seq(start, stop, step):\n",
    "    \"\"\"\n",
    "    수열 만들기\n",
    "    입력값: start(시작 값), stop(끝 값), step(한 스텝당 증가 수)\n",
    "    출력값: res(리스트)\n",
    "    \"\"\"\n",
    "    res = []\n",
    "    current = start\n",
    "    while current < stop:\n",
    "        res.append(current)\n",
    "        current += step\n",
    "    return res\n",
    "\n",
    "def factorial(x):\n",
    "    \"\"\"\n",
    "    팩토리얼 함수\n",
    "    입력값: 정수 x\n",
    "    출력값: x!\n",
    "    \"\"\"\n",
    "    x_list = list(range(1, x+1))\n",
    "    res = 1\n",
    "    for val in x_list:\n",
    "        res *= val\n",
    "    return res\n",
    "\n",
    "def combination(n, x):\n",
    "    \"\"\"\n",
    "    조합\n",
    "    입력값: n, x\n",
    "    출력값: nCx(실수)\n",
    "    \"\"\"\n",
    "    res = factorial(n)/(factorial(x)*factorial(n-x))\n",
    "    return res"
   ]
  },
  {
   "cell_type": "code",
   "execution_count": 34,
   "metadata": {},
   "outputs": [],
   "source": [
    "# 상황 설명\n",
    "# 레알마드리드가 리그 38경기 중 27번을 승리했음\n",
    "\n",
    "# 먼저 내가 가지고 있는 자료가 38번 시행 중 27번 성공했다는 데이터를 가지고 있다고 하자\n",
    "# 이때 p=0.1일 경우 해당 사건이 발생할 확률은 다음과 같다\n",
    "n = 38\n",
    "x = 27\n",
    "p = 0.1"
   ]
  },
  {
   "cell_type": "code",
   "execution_count": 35,
   "metadata": {},
   "outputs": [
    {
     "name": "stdout",
     "output_type": "stream",
     "text": [
      "3.7761528448566324e-19\n"
     ]
    }
   ],
   "source": [
    "prob = combination(n,x)*(p**x)*((1-p)**(n-x))\n",
    "print(prob)"
   ]
  },
  {
   "cell_type": "code",
   "execution_count": 36,
   "metadata": {},
   "outputs": [
    {
     "name": "stdout",
     "output_type": "stream",
     "text": [
      "0.14007571343647338\n"
     ]
    }
   ],
   "source": [
    "n = 38\n",
    "x = 27\n",
    "p = 0.7\n",
    "\n",
    "prob = combination(n,x)*(p**x)*((1-p)**(n-x))\n",
    "print(prob)"
   ]
  },
  {
   "cell_type": "code",
   "execution_count": 37,
   "metadata": {},
   "outputs": [],
   "source": [
    "n = 38\n",
    "x = 27\n",
    "p_list = seq(0, 1, 0.01)\n",
    "probs = []\n",
    "\n",
    "for p in p_list:\n",
    "    prob = combination(n,x)*(p**x)*((1-p)**(n-x))\n",
    "    probs.append(prob)"
   ]
  },
  {
   "cell_type": "code",
   "execution_count": 39,
   "metadata": {},
   "outputs": [
    {
     "data": {
      "image/png": "[encoded data removed]",
      "text/plain": [
       "<Figure size 432x288 with 1 Axes>"
      ]
     },
     "metadata": {
      "needs_background": "light"
     },
     "output_type": "display_data"
    }
   ],
   "source": [
    "import matplotlib.pyplot as plt\n",
    "\n",
    "plt.plot(p_list, probs)\n",
    "plt.show()"
   ]
  },
  {
   "cell_type": "code",
   "execution_count": 11,
   "metadata": {},
   "outputs": [
    {
     "data": {
      "text/plain": [
       "0.14149312976895556"
      ]
     },
     "execution_count": 11,
     "metadata": {},
     "output_type": "execute_result"
    }
   ],
   "source": [
    "max(probs)"
   ]
  },
  {
   "cell_type": "code",
   "execution_count": 10,
   "metadata": {},
   "outputs": [
    {
     "data": {
      "text/plain": [
       "71"
      ]
     },
     "execution_count": 10,
     "metadata": {},
     "output_type": "execute_result"
    }
   ],
   "source": [
    "probs.index(max(probs))"
   ]
  },
  {
   "cell_type": "code",
   "execution_count": 12,
   "metadata": {},
   "outputs": [
    {
     "data": {
      "text/plain": [
       "0.14149312976895556"
      ]
     },
     "execution_count": 12,
     "metadata": {},
     "output_type": "execute_result"
    }
   ],
   "source": [
    "probs[71]"
   ]
  },
  {
   "cell_type": "code",
   "execution_count": 40,
   "metadata": {},
   "outputs": [
    {
     "data": {
      "text/plain": [
       "0.7100000000000004"
      ]
     },
     "execution_count": 40,
     "metadata": {},
     "output_type": "execute_result"
    }
   ],
   "source": [
    "# 따라서 MLE는 다음과 같다\n",
    "p_list[71]"
   ]
  }
 ],
 "metadata": {
  "kernelspec": {
   "display_name": "Python 3 (ipykernel)",
   "language": "python",
   "name": "python3"
  },
  "language_info": {
   "codemirror_mode": {
    "name": "ipython",
    "version": 3
   },
   "file_extension": ".py",
   "mimetype": "text/x-python",
   "name": "python",
   "nbconvert_exporter": "python",
   "pygments_lexer": "ipython3",
   "version": "3.9.4"
  }
 },
 "nbformat": 4,
 "nbformat_minor": 4
}
