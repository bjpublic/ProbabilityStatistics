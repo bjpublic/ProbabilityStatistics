{
 "cells": [
  {
   "cell_type": "code",
   "execution_count": 1,
   "id": "0a433f41",
   "metadata": {},
   "outputs": [],
   "source": [
    "def factorial(x):\n",
    "    \"\"\"\n",
    "    팩토리얼 함수\n",
    "    입력값: 정수 x\n",
    "    출력값: x!\n",
    "    \"\"\"\n",
    "    x_list = list(range(1, x+1))\n",
    "    res = 1\n",
    "    for val in x_list:\n",
    "        res *= val\n",
    "    return res\n",
    "\n",
    "def combination(n, x):\n",
    "    \"\"\"\n",
    "    조합\n",
    "    입력값: n, x\n",
    "    출력값: nCx(실수)\n",
    "    \"\"\"\n",
    "    res = factorial(n)/(factorial(x)*factorial(n-x))\n",
    "    return res"
   ]
  },
  {
   "cell_type": "code",
   "execution_count": 2,
   "id": "d8bfdaf9",
   "metadata": {},
   "outputs": [
    {
     "data": {
      "text/plain": [
       "120"
      ]
     },
     "execution_count": 2,
     "metadata": {},
     "output_type": "execute_result"
    }
   ],
   "source": [
    "factorial(5)"
   ]
  },
  {
   "cell_type": "code",
   "execution_count": 3,
   "id": "e2dd72f0",
   "metadata": {
    "scrolled": true
   },
   "outputs": [
    {
     "data": {
      "text/plain": [
       "10.0"
      ]
     },
     "execution_count": 3,
     "metadata": {},
     "output_type": "execute_result"
    }
   ],
   "source": [
    "combination(5, 3)"
   ]
  },
  {
   "cell_type": "markdown",
   "id": "7433c58d",
   "metadata": {},
   "source": [
    "# 자연 상수 e"
   ]
  },
  {
   "cell_type": "code",
   "execution_count": 2,
   "id": "d69fd8bc",
   "metadata": {},
   "outputs": [],
   "source": [
    "def factorial(x):\n",
    "    \"\"\"\n",
    "    팩토리얼 함수\n",
    "    입력값: 정수 x\n",
    "    출력값: x!\n",
    "    \"\"\"\n",
    "    x_list = list(range(1, x+1))\n",
    "    res = 1\n",
    "    for val in x_list:\n",
    "        res *= val\n",
    "    return res"
   ]
  },
  {
   "cell_type": "code",
   "execution_count": 7,
   "id": "50a5b21b",
   "metadata": {},
   "outputs": [
    {
     "name": "stdout",
     "output_type": "stream",
     "text": [
      "2.7182815255731922\n"
     ]
    }
   ],
   "source": [
    "n = 10\n",
    "e = 0\n",
    "for i in range(0,n):\n",
    "    e += 1/factorial(i)\n",
    "print(e)"
   ]
  },
  {
   "cell_type": "code",
   "execution_count": 8,
   "id": "8e991359",
   "metadata": {},
   "outputs": [
    {
     "name": "stdout",
     "output_type": "stream",
     "text": [
      "2.7182818284590455\n"
     ]
    }
   ],
   "source": [
    "n = 100\n",
    "e = 0\n",
    "for i in range(0,n):\n",
    "    e += 1/factorial(i)\n",
    "print(e)"
   ]
  },
  {
   "cell_type": "markdown",
   "id": "2c910f32",
   "metadata": {},
   "source": [
    "# 수열"
   ]
  },
  {
   "cell_type": "code",
   "execution_count": 1,
   "id": "36eeab3f",
   "metadata": {},
   "outputs": [],
   "source": [
    "def seq(start, stop, step): \n",
    "    \"\"\"\n",
    "    수열 만들기\n",
    "    입력값: start(시작 값), stop(끝 값), step(한 스텝당 증가 수)\n",
    "    출력값: res(리스트)\n",
    "    \"\"\"\n",
    "    res = []\n",
    "    current = start \n",
    "    while current < stop: \n",
    "        res.append(current)\n",
    "        current += step \n",
    "    return res "
   ]
  },
  {
   "cell_type": "code",
   "execution_count": 2,
   "id": "ef07b826",
   "metadata": {},
   "outputs": [
    {
     "data": {
      "text/plain": [
       "[2, 3, 4, 5, 6, 7, 8, 9]"
      ]
     },
     "execution_count": 2,
     "metadata": {},
     "output_type": "execute_result"
    }
   ],
   "source": [
    "seq(2,10,1)"
   ]
  },
  {
   "cell_type": "markdown",
   "id": "a747fba7",
   "metadata": {},
   "source": [
    "# 로그"
   ]
  },
  {
   "cell_type": "code",
   "execution_count": 16,
   "id": "252e7e7d",
   "metadata": {},
   "outputs": [],
   "source": [
    "def log(x):\n",
    "    \"\"\"\n",
    "    밑이 e인 자연 로그\n",
    "    입력값: 진수 x\n",
    "    출력값: ln(x)\n",
    "    \"\"\"\n",
    "    n = 100000000.0\n",
    "    res = n*( ( x**(1/n) ) -1 )\n",
    "    return res"
   ]
  },
  {
   "cell_type": "code",
   "execution_count": 17,
   "id": "7c53b168",
   "metadata": {},
   "outputs": [
    {
     "data": {
      "text/plain": [
       "2.302585122571088"
      ]
     },
     "execution_count": 17,
     "metadata": {},
     "output_type": "execute_result"
    }
   ],
   "source": [
    "log(10)"
   ]
  },
  {
   "cell_type": "code",
   "execution_count": null,
   "id": "2b8145b9",
   "metadata": {},
   "outputs": [],
   "source": []
  },
  {
   "cell_type": "code",
   "execution_count": 4,
   "id": "1cd93a76",
   "metadata": {},
   "outputs": [],
   "source": [
    "import math"
   ]
  },
  {
   "cell_type": "code",
   "execution_count": 5,
   "id": "d7fac3da",
   "metadata": {},
   "outputs": [
    {
     "data": {
      "text/plain": [
       "2.302585092994046"
      ]
     },
     "execution_count": 5,
     "metadata": {},
     "output_type": "execute_result"
    }
   ],
   "source": [
    "math.log(10)"
   ]
  },
  {
   "cell_type": "code",
   "execution_count": 9,
   "id": "214aba9d",
   "metadata": {},
   "outputs": [],
   "source": [
    "def sup(x_list, y_list):\n",
    "    \"\"\"\n",
    "    가장 큰 y에 해당하는 x\n",
    "    입력값: x_list, y_list\n",
    "    출력값: sup_x\n",
    "    \"\"\"\n",
    "    max_y = max(y_list)\n",
    "    max_y_idx = y_list.index(max_y)\n",
    "    sup_x = x_list[max_y_idx]\n",
    "    return sup_x"
   ]
  },
  {
   "cell_type": "code",
   "execution_count": 3,
   "id": "a7d83323",
   "metadata": {},
   "outputs": [
    {
     "data": {
      "text/plain": [
       "14"
      ]
     },
     "execution_count": 3,
     "metadata": {},
     "output_type": "execute_result"
    }
   ],
   "source": [
    "list1 = [10, 12, 13, 0, 14]\n",
    "\n",
    "tmp = max(list1)\n",
    "index = list1.index(tmp)\n",
    "list1[index]"
   ]
  },
  {
   "cell_type": "code",
   "execution_count": 2,
   "id": "c0a2880e",
   "metadata": {},
   "outputs": [
    {
     "data": {
      "text/plain": [
       "4"
      ]
     },
     "execution_count": 2,
     "metadata": {},
     "output_type": "execute_result"
    }
   ],
   "source": [
    "index"
   ]
  },
  {
   "cell_type": "code",
   "execution_count": 4,
   "id": "d0b56760",
   "metadata": {},
   "outputs": [],
   "source": [
    "x = [1, 2, 3, 4, 5]\n",
    "y = [2, 4, 5, 9, 1]"
   ]
  },
  {
   "cell_type": "code",
   "execution_count": 10,
   "id": "8e61462f",
   "metadata": {},
   "outputs": [
    {
     "data": {
      "text/plain": [
       "4"
      ]
     },
     "execution_count": 10,
     "metadata": {},
     "output_type": "execute_result"
    }
   ],
   "source": [
    "sup(x, y)"
   ]
  },
  {
   "cell_type": "code",
   "execution_count": 8,
   "id": "5dfe5509",
   "metadata": {},
   "outputs": [
    {
     "data": {
      "text/plain": [
       "4"
      ]
     },
     "execution_count": 8,
     "metadata": {},
     "output_type": "execute_result"
    }
   ],
   "source": [
    "sup_x"
   ]
  },
  {
   "cell_type": "code",
   "execution_count": null,
   "id": "1eee1aae",
   "metadata": {},
   "outputs": [],
   "source": []
  }
 ],
 "metadata": {
  "kernelspec": {
   "display_name": "Python 3 (ipykernel)",
   "language": "python",
   "name": "python3"
  },
  "language_info": {
   "codemirror_mode": {
    "name": "ipython",
    "version": 3
   },
   "file_extension": ".py",
   "mimetype": "text/x-python",
   "name": "python",
   "nbconvert_exporter": "python",
   "pygments_lexer": "ipython3",
   "version": "3.9.12"
  }
 },
 "nbformat": 4,
 "nbformat_minor": 5
}
