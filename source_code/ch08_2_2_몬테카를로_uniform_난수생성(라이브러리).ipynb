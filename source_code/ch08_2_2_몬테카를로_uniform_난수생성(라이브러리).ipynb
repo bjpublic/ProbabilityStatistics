{
 "cells": [
  {
   "cell_type": "code",
   "execution_count": 25,
   "id": "068c9161",
   "metadata": {},
   "outputs": [
    {
     "data": {
      "text/plain": [
       "1.9631432476096222"
      ]
     },
     "execution_count": 25,
     "metadata": {},
     "output_type": "execute_result"
    }
   ],
   "source": [
    "import random\n",
    "\n",
    "random.seed(1234567)\n",
    "\n",
    "random.uniform(1,2)"
   ]
  },
  {
   "cell_type": "code",
   "execution_count": 26,
   "id": "893ac0dd",
   "metadata": {},
   "outputs": [
    {
     "data": {
      "text/plain": [
       "4"
      ]
     },
     "execution_count": 26,
     "metadata": {},
     "output_type": "execute_result"
    }
   ],
   "source": [
    "random.randint(1,10)"
   ]
  },
  {
   "cell_type": "code",
   "execution_count": 30,
   "id": "dabe2cff",
   "metadata": {},
   "outputs": [
    {
     "name": "stdout",
     "output_type": "stream",
     "text": [
      "[1.23702917 1.00764837 1.01983031 1.31309262 1.09945466]\n"
     ]
    }
   ],
   "source": [
    "import numpy as np\n",
    "\n",
    "np.random.seed(1234567)\n",
    "\n",
    "x_list = np.random.uniform(low=1, high=2, size=5)\n",
    "print(x_list)"
   ]
  },
  {
   "cell_type": "code",
   "execution_count": 31,
   "id": "e1bb8e4b",
   "metadata": {},
   "outputs": [
    {
     "name": "stdout",
     "output_type": "stream",
     "text": [
      "[0 0 0 0 0 0 0 0 0 0]\n"
     ]
    }
   ],
   "source": [
    "x_list = np.random.randint(low=0, high=1, size=10)\n",
    "print(x_list)"
   ]
  },
  {
   "cell_type": "code",
   "execution_count": 32,
   "id": "ece8a6b4",
   "metadata": {},
   "outputs": [
    {
     "name": "stdout",
     "output_type": "stream",
     "text": [
      "[0 0 1 1 1 0 0 1 1 0]\n"
     ]
    }
   ],
   "source": [
    "x_list = np.random.randint(low=0, high=2, size=10)\n",
    "print(x_list)"
   ]
  },
  {
   "cell_type": "code",
   "execution_count": null,
   "id": "d38ae12b",
   "metadata": {},
   "outputs": [],
   "source": []
  }
 ],
 "metadata": {
  "kernelspec": {
   "display_name": "Python 3 (ipykernel)",
   "language": "python",
   "name": "python3"
  },
  "language_info": {
   "codemirror_mode": {
    "name": "ipython",
    "version": 3
   },
   "file_extension": ".py",
   "mimetype": "text/x-python",
   "name": "python",
   "nbconvert_exporter": "python",
   "pygments_lexer": "ipython3",
   "version": "3.9.4"
  }
 },
 "nbformat": 4,
 "nbformat_minor": 5
}
