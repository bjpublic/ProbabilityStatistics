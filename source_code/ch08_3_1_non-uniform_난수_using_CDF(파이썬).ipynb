{
 "cells": [
  {
   "cell_type": "code",
   "execution_count": 1,
   "id": "1e0ecbfa",
   "metadata": {},
   "outputs": [],
   "source": [
    "def log(x):\n",
    "    \"\"\"\n",
    "    밑이 e인 자연 로그\n",
    "    입력값: 진수 x\n",
    "    출력값: ln(x)\n",
    "    \"\"\"\n",
    "    n = 100000000.0\n",
    "    res = n*( ( x**(1/n) ) -1 )\n",
    "    return res\n",
    "    \n",
    "def pseudo_sample(x0 = 16809,\n",
    "                  mod = (2**31)-1,\n",
    "                  seed = 1234567,\n",
    "                  size = 1):\n",
    "    \"\"\"\n",
    "    유사 난수 생성(0과 1사이)\n",
    "    입력값\n",
    "      x0: 초기 x0값\n",
    "      mod: 난수 주기\n",
    "      seed: 랜덤 시드\n",
    "      size: 추출할 난수 개수\n",
    "    출력값\n",
    "      res: 0과 1사이 실수 난수 리스트\n",
    "    \"\"\"\n",
    "    res = []\n",
    "    x = (seed * x0 + 1)%mod\n",
    "    u = x/mod\n",
    "    res.append(u)\n",
    "    for i in range(1, size):\n",
    "        x = (seed * x + 1)%mod\n",
    "        u = x/mod\n",
    "        res.append(u)\n",
    "    return res\n",
    "    \n",
    "def uniform_cont(low=0,\n",
    "                 high=1,\n",
    "                 seed=1234567,\n",
    "                 size=1):\n",
    "    \"\"\"\n",
    "    균일분포(연속형)에서 난수 추출\n",
    "    입력값\n",
    "      low: 하한\n",
    "      hight: 상한\n",
    "      seed: 랜덤 시드\n",
    "      size: 추출 개수\n",
    "    출력값\n",
    "      res: 난수 리스트\n",
    "    \"\"\"\n",
    "    s_list = pseudo_sample(seed=seed, size=size)\n",
    "    res = []\n",
    "    for s in s_list:\n",
    "        val = low+(high-low)*s\n",
    "        res.append(val)\n",
    "    return res"
   ]
  },
  {
   "cell_type": "code",
   "execution_count": 2,
   "id": "e19d9c40",
   "metadata": {},
   "outputs": [],
   "source": [
    "u_list = uniform_cont(low=0, high=1, size=1000)\n",
    "x_list = []\n",
    "for u in u_list:\n",
    "    x = -log(u)\n",
    "    x_list.append(x)"
   ]
  },
  {
   "cell_type": "code",
   "execution_count": 3,
   "id": "49ec6a3e",
   "metadata": {},
   "outputs": [
    {
     "data": {
      "image/png": "[encoded data removed]",
      "text/plain": [
       "<Figure size 432x288 with 1 Axes>"
      ]
     },
     "metadata": {
      "needs_background": "light"
     },
     "output_type": "display_data"
    }
   ],
   "source": [
    "import matplotlib.pyplot as plt\n",
    "\n",
    "plt.hist(x_list, bins=100)\n",
    "plt.show()"
   ]
  },
  {
   "cell_type": "markdown",
   "id": "7ee60264",
   "metadata": {},
   "source": [
    "# 베르누이 분포"
   ]
  },
  {
   "cell_type": "code",
   "execution_count": 4,
   "id": "980d8f81",
   "metadata": {},
   "outputs": [],
   "source": [
    "def bernoulli(p=0.5, seed=1234567, size=1):\n",
    "    \"\"\"\n",
    "    베르누이 분포에서 랜덤 숫자 추출\n",
    "    \"\"\"\n",
    "    u_list = pseudo_sample(seed=seed, size=size)\n",
    "    x_list = [0, 1]\n",
    "    pdf = {}\n",
    "    res = []\n",
    "    \n",
    "    for x in x_list:\n",
    "        prob = (p**x)*((1-p)**(1-x))\n",
    "        pdf[x] = prob\n",
    "    \n",
    "    for u in u_list:\n",
    "        cumul_prob = 0\n",
    "        for X in pdf.keys(): \n",
    "            cumul_prob += pdf[X]\n",
    "            if cumul_prob > u:\n",
    "                res.append(X)\n",
    "                break\n",
    "    return res"
   ]
  },
  {
   "cell_type": "code",
   "execution_count": 5,
   "id": "a21e92f8",
   "metadata": {},
   "outputs": [
    {
     "data": {
      "text/plain": [
       "[0, 0, 0, 0, 1, 0, 0, 0, 1, 0]"
      ]
     },
     "execution_count": 5,
     "metadata": {},
     "output_type": "execute_result"
    }
   ],
   "source": [
    "bernoulli(p=0.2, size=10)"
   ]
  },
  {
   "cell_type": "code",
   "execution_count": 6,
   "id": "f1c19575",
   "metadata": {},
   "outputs": [
    {
     "data": {
      "image/png": "[encoded data removed]",
      "text/plain": [
       "<Figure size 432x288 with 1 Axes>"
      ]
     },
     "metadata": {
      "needs_background": "light"
     },
     "output_type": "display_data"
    }
   ],
   "source": [
    "import matplotlib.pyplot as plt\n",
    "\n",
    "samples = bernoulli(p=0.2, size=1000)\n",
    "\n",
    "plt.hist(samples, bins=2)\n",
    "plt.show()"
   ]
  },
  {
   "cell_type": "markdown",
   "id": "890b8f6b",
   "metadata": {},
   "source": [
    "# 이항 분포"
   ]
  },
  {
   "cell_type": "code",
   "execution_count": 7,
   "id": "2666638d",
   "metadata": {},
   "outputs": [],
   "source": [
    "def factorial(x):\n",
    "    \"\"\"\n",
    "    팩토리얼 함수\n",
    "    입력값: 정수 x\n",
    "    출력값: x!\n",
    "    \"\"\"\n",
    "    x_list = list(range(1, x+1))\n",
    "    res = 1\n",
    "    for val in x_list:\n",
    "        res *= val\n",
    "    return res\n",
    "\n",
    "def combination(n, x):\n",
    "    \"\"\"\n",
    "    조합\n",
    "    입력값: n, x\n",
    "    출력값: nCx(실수)\n",
    "    \"\"\"\n",
    "    res = factorial(n)/(factorial(x)*factorial(n-x))\n",
    "    return res    "
   ]
  },
  {
   "cell_type": "code",
   "execution_count": 8,
   "id": "33ca4c5b",
   "metadata": {},
   "outputs": [],
   "source": [
    "def binomial(n, p=0.5, seed=1234567, size=1):\n",
    "    \"\"\"\n",
    "    이항 분포에서 랜덤 숫자 추출\n",
    "    \"\"\"\n",
    "    u_list = pseudo_sample(seed=seed, size=size)\n",
    "    x_list = list(range(0, n))\n",
    "    pdf = {}\n",
    "    res = []\n",
    "    \n",
    "    for x in x_list:\n",
    "        prob = combination(n,x)*(p**x)*((1-p)**(n-x))\n",
    "        pdf[x] = prob\n",
    "    \n",
    "    for u in u_list:\n",
    "        cumul_prob = 0\n",
    "        for X in pdf.keys(): \n",
    "            cumul_prob += pdf[X]\n",
    "            if cumul_prob > u:\n",
    "                res.append(X)\n",
    "                break\n",
    "    return res"
   ]
  },
  {
   "cell_type": "code",
   "execution_count": 9,
   "id": "729ed615",
   "metadata": {},
   "outputs": [
    {
     "data": {
      "text/plain": [
       "[4, 3, 2, 4, 5, 2, 2, 1, 4, 2]"
      ]
     },
     "execution_count": 9,
     "metadata": {},
     "output_type": "execute_result"
    }
   ],
   "source": [
    "binomial(n=10, p=0.3, size=10)"
   ]
  },
  {
   "cell_type": "code",
   "execution_count": 10,
   "id": "2a67ff48",
   "metadata": {},
   "outputs": [
    {
     "data": {
      "image/png": "[encoded data removed]",
      "text/plain": [
       "<Figure size 432x288 with 1 Axes>"
      ]
     },
     "metadata": {
      "needs_background": "light"
     },
     "output_type": "display_data"
    }
   ],
   "source": [
    "import matplotlib.pyplot as plt\n",
    "\n",
    "samples = binomial(n=10, p=0.3, size=1000)\n",
    "\n",
    "plt.hist(samples, bins=8)\n",
    "plt.show()"
   ]
  },
  {
   "cell_type": "markdown",
   "id": "01faa058",
   "metadata": {},
   "source": [
    "# 포아송분포"
   ]
  },
  {
   "cell_type": "code",
   "execution_count": 11,
   "id": "e2a7c2de",
   "metadata": {},
   "outputs": [],
   "source": [
    "def poisson(lamb, seed=1234567, size=1):\n",
    "    \"\"\"\n",
    "    포아송 분포에서 랜덤 숫자 추출\n",
    "    \"\"\"\n",
    "    e = 2.7182818284\n",
    "    u_list = pseudo_sample(seed=seed, size=size)\n",
    "    x_list = list(range(0, 100))\n",
    "    pdf = {}\n",
    "    res = []\n",
    "    \n",
    "    for x in x_list:\n",
    "        prob = ((e**(-lamb))*(lamb**x))/factorial(x)\n",
    "        pdf[x] = prob\n",
    "    \n",
    "    for u in u_list:\n",
    "        cumul_prob = 0\n",
    "        for X in pdf.keys(): \n",
    "            cumul_prob += pdf[X]\n",
    "            if cumul_prob > u:\n",
    "                res.append(X)\n",
    "                break\n",
    "    return res"
   ]
  },
  {
   "cell_type": "code",
   "execution_count": 12,
   "id": "d5eb3a7e",
   "metadata": {},
   "outputs": [
    {
     "data": {
      "text/plain": [
       "[2, 2, 1, 3, 3, 1, 1, 0, 3, 1]"
      ]
     },
     "execution_count": 12,
     "metadata": {},
     "output_type": "execute_result"
    }
   ],
   "source": [
    "poisson(lamb=2, size=10)"
   ]
  },
  {
   "cell_type": "code",
   "execution_count": 13,
   "id": "e8a3a94a",
   "metadata": {},
   "outputs": [
    {
     "data": {
      "image/png": "[encoded data removed]",
      "text/plain": [
       "<Figure size 432x288 with 1 Axes>"
      ]
     },
     "metadata": {
      "needs_background": "light"
     },
     "output_type": "display_data"
    }
   ],
   "source": [
    "import matplotlib.pyplot as plt\n",
    "\n",
    "samples = poisson(lamb=2, size=1000)\n",
    "\n",
    "plt.hist(samples, bins=8)\n",
    "plt.show()"
   ]
  },
  {
   "cell_type": "markdown",
   "id": "550f880d",
   "metadata": {},
   "source": [
    "# 기하 분포"
   ]
  },
  {
   "cell_type": "code",
   "execution_count": 14,
   "id": "0ccd6143",
   "metadata": {},
   "outputs": [],
   "source": [
    "def geometric(p=0.5, seed=1234567, size=1):\n",
    "    \"\"\"\n",
    "    기하 분포에서 랜덤 숫자 추출\n",
    "    \"\"\"\n",
    "    u_list = pseudo_sample(seed=seed, size=size)\n",
    "    x_list = list(range(1, 100))\n",
    "    pdf = {}\n",
    "    res = []\n",
    "    \n",
    "    for x in x_list:\n",
    "        prob = p*((1-p)**(x-1))\n",
    "        pdf[x] = prob\n",
    "\n",
    "    for u in u_list:\n",
    "        cumul_prob = 0\n",
    "        for X in pdf.keys(): \n",
    "            cumul_prob += pdf[X]\n",
    "            if cumul_prob > u:\n",
    "                res.append(X)\n",
    "                break\n",
    "    return res"
   ]
  },
  {
   "cell_type": "code",
   "execution_count": 15,
   "id": "6f9707e9",
   "metadata": {},
   "outputs": [
    {
     "data": {
      "text/plain": [
       "[5, 5, 1, 6, 9, 2, 2, 1, 8, 3]"
      ]
     },
     "execution_count": 15,
     "metadata": {},
     "output_type": "execute_result"
    }
   ],
   "source": [
    "geometric(p=0.2, size=10)"
   ]
  },
  {
   "cell_type": "code",
   "execution_count": 16,
   "id": "9110ba23",
   "metadata": {},
   "outputs": [
    {
     "data": {
      "image/png": "[encoded data removed]",
      "text/plain": [
       "<Figure size 432x288 with 1 Axes>"
      ]
     },
     "metadata": {
      "needs_background": "light"
     },
     "output_type": "display_data"
    }
   ],
   "source": [
    "import matplotlib.pyplot as plt\n",
    "\n",
    "samples = geometric(p=0.2, size=1000)\n",
    "\n",
    "plt.hist(samples, bins=15)\n",
    "plt.show()"
   ]
  },
  {
   "cell_type": "markdown",
   "id": "b206395f",
   "metadata": {},
   "source": [
    "# 음이항 분포"
   ]
  },
  {
   "cell_type": "code",
   "execution_count": 17,
   "id": "34cc3372",
   "metadata": {},
   "outputs": [],
   "source": [
    "def neg_binomial(r, p=0.5, seed=1234567, size=1):\n",
    "    \"\"\"\n",
    "    기하 분포에서 랜덤 숫자 추출\n",
    "    \"\"\"\n",
    "    u_list = pseudo_sample(seed=seed, size=size)\n",
    "    x_list = list(range(r, 100))\n",
    "    pdf = {}\n",
    "    res = []\n",
    "    \n",
    "    for x in x_list:\n",
    "        prob = combination(x-1, r-1)*(p**r)*((1-p)**(x-r))\n",
    "        pdf[x] = prob\n",
    "\n",
    "    for u in u_list:\n",
    "        cumul_prob = 0\n",
    "        for X in pdf.keys(): \n",
    "            cumul_prob += pdf[X]\n",
    "            if cumul_prob > u:\n",
    "                res.append(X)\n",
    "                break\n",
    "    return res"
   ]
  },
  {
   "cell_type": "code",
   "execution_count": 18,
   "id": "ba32af19",
   "metadata": {},
   "outputs": [
    {
     "data": {
      "text/plain": [
       "[7, 7, 3, 8, 11, 4, 4, 2, 10, 5]"
      ]
     },
     "execution_count": 18,
     "metadata": {},
     "output_type": "execute_result"
    }
   ],
   "source": [
    "neg_binomial(r=2, p=0.3, size=10)"
   ]
  },
  {
   "cell_type": "code",
   "execution_count": 19,
   "id": "f4897ccb",
   "metadata": {},
   "outputs": [
    {
     "data": {
      "image/png": "[encoded data removed]",
      "text/plain": [
       "<Figure size 432x288 with 1 Axes>"
      ]
     },
     "metadata": {
      "needs_background": "light"
     },
     "output_type": "display_data"
    }
   ],
   "source": [
    "import matplotlib.pyplot as plt\n",
    "\n",
    "samples = neg_binomial(r=2, p=0.3, size=1000)\n",
    "\n",
    "plt.hist(samples, bins=24)\n",
    "plt.show()"
   ]
  },
  {
   "cell_type": "code",
   "execution_count": null,
   "id": "441041f5",
   "metadata": {},
   "outputs": [],
   "source": []
  }
 ],
 "metadata": {
  "kernelspec": {
   "display_name": "Python 3 (ipykernel)",
   "language": "python",
   "name": "python3"
  },
  "language_info": {
   "codemirror_mode": {
    "name": "ipython",
    "version": 3
   },
   "file_extension": ".py",
   "mimetype": "text/x-python",
   "name": "python",
   "nbconvert_exporter": "python",
   "pygments_lexer": "ipython3",
   "version": "3.9.12"
  }
 },
 "nbformat": 4,
 "nbformat_minor": 5
}
