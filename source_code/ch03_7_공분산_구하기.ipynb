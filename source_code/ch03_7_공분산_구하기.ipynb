{
 "cells": [
  {
   "cell_type": "markdown",
   "id": "c9ad5927",
   "metadata": {},
   "source": [
    "# 파이썬으로 공분산 구하기"
   ]
  },
  {
   "cell_type": "code",
   "execution_count": 1,
   "id": "dc5a0386",
   "metadata": {},
   "outputs": [],
   "source": [
    "def mean(x_list):\n",
    "    \"\"\"\n",
    "    리스트 x_list 원소의 평균 구하기\n",
    "    입력값: 리스트 x_list\n",
    "    출력값: 평균 res\n",
    "    \"\"\"\n",
    "    n = len(x_list)\n",
    "    sum_x = 0\n",
    "    for x in x_list:\n",
    "        sum_x += x\n",
    "    res = sum_x/n\n",
    "    return res\n",
    "    \n",
    "def var(x_list):\n",
    "    \"\"\"\n",
    "    리스트 x_list 원소의 분산 구하기\n",
    "    입력값: 리스트 x_list\n",
    "    출력값: 분산 res\n",
    "    \"\"\"\n",
    "    n = len(x_list)\n",
    "    mean_x = mean(x_list)\n",
    "    ss_x = 0\n",
    "\n",
    "    for x in x_list:\n",
    "        ss_x += (x-mean_x)**2\n",
    "    \n",
    "    res = ss_x/(n-1)\n",
    "    return res\n",
    "    \n",
    "def std(x_list):\n",
    "    \"\"\"\n",
    "    리스트 x_list 원소의 표준 편차 구하기\n",
    "    입력값: 리스트 x_list\n",
    "    출력값: 표준 편차 res\n",
    "    \"\"\"\n",
    "    var_x = var(x_list)\n",
    "    res = var_x**0.5\n",
    "    return res"
   ]
  },
  {
   "cell_type": "code",
   "execution_count": 29,
   "id": "2a8c0812",
   "metadata": {},
   "outputs": [
    {
     "name": "stdout",
     "output_type": "stream",
     "text": [
      "-0.75\n"
     ]
    }
   ],
   "source": [
    "x1_list = [2, 4, 6, 1, 5, 7, 9, 8, 3]\n",
    "x2_list = [3, 1, 2, 7, 3, 8, 3, 4, 5]\n",
    "\n",
    "n = len(x1_list)\n",
    "\n",
    "m1 = mean(x1_list)\n",
    "m2 = mean(x2_list)\n",
    "\n",
    "sm = 0\n",
    "\n",
    "for i in range(0, n):\n",
    "    sm += (x1_list[i]-m1)*(x2_list[i]-m2)\n",
    "    \n",
    "covariance = sm/(n-1)\n",
    "print(covariance)"
   ]
  },
  {
   "cell_type": "code",
   "execution_count": 30,
   "id": "e4a62d18",
   "metadata": {},
   "outputs": [
    {
     "name": "stdout",
     "output_type": "stream",
     "text": [
      "-0.11952286093343938\n"
     ]
    }
   ],
   "source": [
    "std1 = std(x1_list)\n",
    "std2 = std(x2_list)\n",
    "corr = covariance/(std1*std2)\n",
    "print(corr)"
   ]
  },
  {
   "cell_type": "code",
   "execution_count": 35,
   "id": "f3038f9e",
   "metadata": {},
   "outputs": [],
   "source": [
    "def cov(x1_list, x2_list):\n",
    "    \"\"\"\n",
    "    리스트 x_list 원소의 공분산 구하기\n",
    "    입력값: 리스트 x_list\n",
    "    출력값: 공분산 res\n",
    "    \"\"\"\n",
    "    n = len(x1_list)\n",
    "\n",
    "    m1 = mean(x1_list)\n",
    "    m2 = mean(x2_list)\n",
    "\n",
    "    sm = 0\n",
    "    for i in range(0, n):\n",
    "        sm += (x1_list[i]-m1)*(x2_list[i]-m2)\n",
    "    \n",
    "    res = sm/(n-1)\n",
    "    return res\n",
    "    \n",
    "def corrcoef(x1_list, x2_list):\n",
    "    \"\"\"\n",
    "    리스트 x_list 원소의 상관 계수 구하기\n",
    "    입력값: 리스트 x_list\n",
    "    출력값: 상관 계수 res\n",
    "    \"\"\"\n",
    "    covariance = cov(x1_list, x2_list)\n",
    "    std1 = std(x1_list)\n",
    "    std2 = std(x2_list)\n",
    "    res = covariance/(std1*std2)\n",
    "    return res"
   ]
  },
  {
   "cell_type": "code",
   "execution_count": 36,
   "id": "36298e4d",
   "metadata": {},
   "outputs": [
    {
     "name": "stdout",
     "output_type": "stream",
     "text": [
      "-0.75\n",
      "-0.11952286093343938\n"
     ]
    }
   ],
   "source": [
    "x1_list = [2, 4, 6, 1, 5, 7, 9, 8, 3]\n",
    "x2_list = [3, 1, 2, 7, 3, 8, 3, 4, 5]\n",
    "\n",
    "covariance = cov(x1_list, x2_list)\n",
    "corr = corrcoef(x1_list, x2_list)\n",
    "\n",
    "print(covariance)\n",
    "print(corr)"
   ]
  },
  {
   "cell_type": "markdown",
   "id": "744b247d",
   "metadata": {},
   "source": [
    "# 넘파이로 공분산 구하기"
   ]
  },
  {
   "cell_type": "code",
   "execution_count": 1,
   "id": "c7d23bb9",
   "metadata": {},
   "outputs": [
    {
     "name": "stdout",
     "output_type": "stream",
     "text": [
      "[[ 7.5  -0.75]\n",
      " [-0.75  5.25]]\n"
     ]
    }
   ],
   "source": [
    "import numpy as np\n",
    "\n",
    "x1_list = [2, 4, 6, 1, 5, 7, 9, 8, 3]\n",
    "x2_list = [3, 1, 2, 7, 3, 8, 3, 4, 5] \n",
    "\n",
    "covariance = np.cov(x1_list, x2_list)\n",
    "print(covariance)"
   ]
  },
  {
   "cell_type": "code",
   "execution_count": 2,
   "id": "42b4722d",
   "metadata": {},
   "outputs": [
    {
     "name": "stdout",
     "output_type": "stream",
     "text": [
      "[[ 1.         -0.11952286]\n",
      " [-0.11952286  1.        ]]\n"
     ]
    }
   ],
   "source": [
    "corr = np.corrcoef(x1_list, x2_list)\n",
    "print(corr)"
   ]
  },
  {
   "cell_type": "code",
   "execution_count": null,
   "id": "85c4f5ce",
   "metadata": {},
   "outputs": [],
   "source": []
  }
 ],
 "metadata": {
  "kernelspec": {
   "display_name": "Python 3 (ipykernel)",
   "language": "python",
   "name": "python3"
  },
  "language_info": {
   "codemirror_mode": {
    "name": "ipython",
    "version": 3
   },
   "file_extension": ".py",
   "mimetype": "text/x-python",
   "name": "python",
   "nbconvert_exporter": "python",
   "pygments_lexer": "ipython3",
   "version": "3.9.4"
  }
 },
 "nbformat": 4,
 "nbformat_minor": 5
}
