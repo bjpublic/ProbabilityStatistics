{
 "cells": [
  {
   "cell_type": "markdown",
   "id": "11acd48b",
   "metadata": {},
   "source": [
    "# 파이썬을 활용해 평균 구하기"
   ]
  },
  {
   "cell_type": "code",
   "execution_count": 12,
   "id": "8f82095b",
   "metadata": {},
   "outputs": [
    {
     "name": "stdout",
     "output_type": "stream",
     "text": [
      "5.0\n"
     ]
    }
   ],
   "source": [
    "x_list = [2, 4, 6, 1, 5, 7, 9, 8, 3]\n",
    "\n",
    "n = len(x_list)\n",
    "sum_x = 0\n",
    "for x in x_list:\n",
    "    sum_x += x\n",
    "mean_x = sum_x/n\n",
    "print(mean_x)"
   ]
  },
  {
   "cell_type": "code",
   "execution_count": 15,
   "id": "b8cecac0",
   "metadata": {},
   "outputs": [],
   "source": [
    "def mean(x_list):\n",
    "    \"\"\"\n",
    "    리스트 x_list 원소의 평균 구하기\n",
    "    입력값: 리스트 x_list\n",
    "    출력값: 평균 res\n",
    "    \"\"\"\n",
    "    n = len(x_list)\n",
    "    sum_x = 0\n",
    "    for x in x_list:\n",
    "        sum_x += x\n",
    "    res = sum_x/n\n",
    "    return res"
   ]
  },
  {
   "cell_type": "code",
   "execution_count": 17,
   "id": "28109c30",
   "metadata": {},
   "outputs": [
    {
     "name": "stdout",
     "output_type": "stream",
     "text": [
      "5.0\n"
     ]
    }
   ],
   "source": [
    "x_list = [2, 4, 6, 1, 5, 7, 9, 8, 3]\n",
    "\n",
    "res = mean(x_list)\n",
    "print(res)"
   ]
  },
  {
   "cell_type": "markdown",
   "id": "337c7ae7",
   "metadata": {},
   "source": [
    "# 넘파이 라이브러리를 활용해 평균 구하기"
   ]
  },
  {
   "cell_type": "code",
   "execution_count": 13,
   "id": "7e3fc9c4",
   "metadata": {},
   "outputs": [
    {
     "name": "stdout",
     "output_type": "stream",
     "text": [
      "5.0\n"
     ]
    }
   ],
   "source": [
    "import numpy as np\n",
    "\n",
    "x_list = [2, 4, 6, 1, 5, 7, 9, 8, 3]\n",
    "mean_x = np.mean(x_list)\n",
    "print(mean_x)"
   ]
  }
 ],
 "metadata": {
  "kernelspec": {
   "display_name": "Python 3 (ipykernel)",
   "language": "python",
   "name": "python3"
  },
  "language_info": {
   "codemirror_mode": {
    "name": "ipython",
    "version": 3
   },
   "file_extension": ".py",
   "mimetype": "text/x-python",
   "name": "python",
   "nbconvert_exporter": "python",
   "pygments_lexer": "ipython3",
   "version": "3.9.4"
  }
 },
 "nbformat": 4,
 "nbformat_minor": 5
}
