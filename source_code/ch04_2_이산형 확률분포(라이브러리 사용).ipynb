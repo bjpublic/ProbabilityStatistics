{
 "cells": [
  {
   "cell_type": "markdown",
   "id": "94999106",
   "metadata": {},
   "source": [
    "# 이산형 균일 분포"
   ]
  },
  {
   "cell_type": "code",
   "execution_count": 4,
   "id": "9066e326",
   "metadata": {},
   "outputs": [],
   "source": [
    "import numpy as np\n",
    "from scipy.stats import randint\n",
    "import matplotlib.pyplot as plt"
   ]
  },
  {
   "cell_type": "code",
   "execution_count": 5,
   "id": "1b497715",
   "metadata": {},
   "outputs": [],
   "source": [
    "a = 1\n",
    "b = 5\n",
    "\n",
    "x_list = np.arange(a,b+1)\n",
    "p_list = []\n",
    "\n",
    "for x in x_list:\n",
    "    prob = randint.pmf(x, low=a, high=b+1)\n",
    "    p_list.append(prob)"
   ]
  },
  {
   "cell_type": "code",
   "execution_count": 6,
   "id": "43765500",
   "metadata": {},
   "outputs": [
    {
     "data": {
      "image/png": "[encoded data removed]",
      "text/plain": [
       "<Figure size 432x288 with 1 Axes>"
      ]
     },
     "metadata": {
      "needs_background": "light"
     },
     "output_type": "display_data"
    }
   ],
   "source": [
    "plt.bar(x_list, p_list)\n",
    "plt.show()"
   ]
  },
  {
   "cell_type": "markdown",
   "id": "c161068b",
   "metadata": {},
   "source": [
    "## 이산형 균일 분포 난수 생성"
   ]
  },
  {
   "cell_type": "code",
   "execution_count": 1,
   "id": "fe7c098b",
   "metadata": {},
   "outputs": [],
   "source": [
    "import numpy as np\n",
    "import matplotlib.pyplot as plt"
   ]
  },
  {
   "cell_type": "code",
   "execution_count": 4,
   "id": "849e9b18",
   "metadata": {},
   "outputs": [
    {
     "name": "stdout",
     "output_type": "stream",
     "text": [
      "[1 3 3 ... 2 2 1]\n"
     ]
    }
   ],
   "source": [
    "x_list = np.random.randint(low=1, high=6, size=10000)\n",
    "print(x_list)"
   ]
  },
  {
   "cell_type": "code",
   "execution_count": 9,
   "id": "90a4aceb",
   "metadata": {},
   "outputs": [
    {
     "data": {
      "image/png": "[encoded data removed]",
      "text/plain": [
       "<Figure size 432x288 with 1 Axes>"
      ]
     },
     "metadata": {
      "needs_background": "light"
     },
     "output_type": "display_data"
    }
   ],
   "source": [
    "plt.hist(x_list)\n",
    "plt.show()"
   ]
  },
  {
   "cell_type": "markdown",
   "id": "7de03f75",
   "metadata": {},
   "source": [
    "# 베르누이 분포"
   ]
  },
  {
   "cell_type": "code",
   "execution_count": 8,
   "id": "ae90d67e",
   "metadata": {},
   "outputs": [],
   "source": [
    "from scipy.stats import bernoulli\n",
    "import matplotlib.pyplot as plt"
   ]
  },
  {
   "cell_type": "code",
   "execution_count": 11,
   "id": "17a471c7",
   "metadata": {},
   "outputs": [],
   "source": [
    "p = 0.3\n",
    "\n",
    "x_list = [0,1]\n",
    "p_list = []\n",
    "\n",
    "for x in x_list:\n",
    "    prob = bernoulli.pmf(k=x, p=p)\n",
    "    p_list.append(prob)"
   ]
  },
  {
   "cell_type": "code",
   "execution_count": 12,
   "id": "f337aedd",
   "metadata": {},
   "outputs": [
    {
     "data": {
      "image/png": "[encoded data removed]",
      "text/plain": [
       "<Figure size 432x288 with 1 Axes>"
      ]
     },
     "metadata": {
      "needs_background": "light"
     },
     "output_type": "display_data"
    }
   ],
   "source": [
    "plt.bar(x_list, p_list)\n",
    "plt.show()"
   ]
  },
  {
   "cell_type": "markdown",
   "id": "eaaee7b2",
   "metadata": {},
   "source": [
    "## 베르누이 분포 난수 생성"
   ]
  },
  {
   "cell_type": "code",
   "execution_count": 10,
   "id": "c5612b59",
   "metadata": {},
   "outputs": [],
   "source": [
    "import numpy as np\n",
    "import matplotlib.pyplot as plt"
   ]
  },
  {
   "cell_type": "code",
   "execution_count": 11,
   "id": "be9df530",
   "metadata": {},
   "outputs": [
    {
     "name": "stdout",
     "output_type": "stream",
     "text": [
      "[0 0 0 ... 0 1 0]\n"
     ]
    }
   ],
   "source": [
    "x_list = np.random.binomial(n=1, p=0.3, size=10000)\n",
    "print(x_list)"
   ]
  },
  {
   "cell_type": "code",
   "execution_count": 12,
   "id": "b4ebde1e",
   "metadata": {},
   "outputs": [
    {
     "data": {
      "image/png": "[encoded data removed]",
      "text/plain": [
       "<Figure size 432x288 with 1 Axes>"
      ]
     },
     "metadata": {
      "needs_background": "light"
     },
     "output_type": "display_data"
    }
   ],
   "source": [
    "plt.hist(x_list)\n",
    "plt.show()"
   ]
  },
  {
   "cell_type": "markdown",
   "id": "93dce3e0",
   "metadata": {},
   "source": [
    "# 이항 분포"
   ]
  },
  {
   "cell_type": "code",
   "execution_count": 1,
   "id": "79c639a1",
   "metadata": {},
   "outputs": [],
   "source": [
    "import numpy as np\n",
    "from scipy.stats import binom\n",
    "import matplotlib.pyplot as plt"
   ]
  },
  {
   "cell_type": "code",
   "execution_count": 2,
   "id": "5e023404",
   "metadata": {},
   "outputs": [],
   "source": [
    "n = 10\n",
    "p = 0.3\n",
    "\n",
    "x_list = np.arange(0, n+1)\n",
    "p_list = []\n",
    "\n",
    "for x in x_list:\n",
    "    prob = binom.pmf(k=x, n=n, p=p)\n",
    "    p_list.append(prob)"
   ]
  },
  {
   "cell_type": "code",
   "execution_count": 3,
   "id": "d60c2f9a",
   "metadata": {},
   "outputs": [
    {
     "data": {
      "text/plain": [
       "[0.02824752489999998,\n",
       " 0.12106082099999989,\n",
       " 0.2334744405000001,\n",
       " 0.26682793199999977,\n",
       " 0.2001209489999999,\n",
       " 0.10291934519999989,\n",
       " 0.036756908999999956,\n",
       " 0.009001691999999992,\n",
       " 0.0014467004999999982,\n",
       " 0.00013778099999999988,\n",
       " 5.9048999999999975e-06]"
      ]
     },
     "execution_count": 3,
     "metadata": {},
     "output_type": "execute_result"
    }
   ],
   "source": [
    "p_list"
   ]
  },
  {
   "cell_type": "code",
   "execution_count": 17,
   "id": "af742f0a",
   "metadata": {
    "scrolled": true
   },
   "outputs": [
    {
     "data": {
      "image/png": "[encoded data removed]",
      "text/plain": [
       "<Figure size 432x288 with 1 Axes>"
      ]
     },
     "metadata": {
      "needs_background": "light"
     },
     "output_type": "display_data"
    }
   ],
   "source": [
    "plt.bar(x_list, p_list)\n",
    "plt.show()"
   ]
  },
  {
   "cell_type": "markdown",
   "id": "a31d75f0",
   "metadata": {},
   "source": [
    "## 이항 분포 난수 생성"
   ]
  },
  {
   "cell_type": "code",
   "execution_count": 13,
   "id": "b9d23c3a",
   "metadata": {},
   "outputs": [
    {
     "name": "stdout",
     "output_type": "stream",
     "text": [
      "[5 5 4 ... 3 4 2]\n"
     ]
    }
   ],
   "source": [
    "import numpy as np\n",
    "import matplotlib.pyplot as plt\n",
    "\n",
    "x_list = np.random.binomial(n=10, p=0.3, size=10000)\n",
    "print(x_list)"
   ]
  },
  {
   "cell_type": "code",
   "execution_count": 14,
   "id": "b3b9621f",
   "metadata": {},
   "outputs": [
    {
     "data": {
      "image/png": "[encoded data removed]",
      "text/plain": [
       "<Figure size 432x288 with 1 Axes>"
      ]
     },
     "metadata": {
      "needs_background": "light"
     },
     "output_type": "display_data"
    }
   ],
   "source": [
    "plt.hist(x_list)\n",
    "plt.show()"
   ]
  },
  {
   "cell_type": "markdown",
   "id": "9aa6d5d6",
   "metadata": {},
   "source": [
    "# 포아송 분포"
   ]
  },
  {
   "cell_type": "code",
   "execution_count": 6,
   "id": "4803b2e3",
   "metadata": {},
   "outputs": [],
   "source": [
    "import numpy as np\n",
    "from scipy.stats import poisson\n",
    "import matplotlib.pyplot as plt"
   ]
  },
  {
   "cell_type": "code",
   "execution_count": 7,
   "id": "a17541c3",
   "metadata": {},
   "outputs": [],
   "source": [
    "lamb = 2\n",
    "\n",
    "x_list = np.arange(0, 10)\n",
    "p_list = []\n",
    "\n",
    "for x in x_list:\n",
    "    prob = poisson.pmf(k=x, mu=lamb)\n",
    "    p_list.append(prob)"
   ]
  },
  {
   "cell_type": "code",
   "execution_count": 10,
   "id": "71d0020d",
   "metadata": {},
   "outputs": [
    {
     "name": "stdout",
     "output_type": "stream",
     "text": [
      "[0.1353352832366127, 0.2706705664732254, 0.2706705664732254, 0.18044704431548356, 0.09022352215774178, 0.03608940886309672, 0.012029802954365565, 0.0034370865583901616, 0.0008592716395975402, 0.00019094925324389823]\n"
     ]
    }
   ],
   "source": [
    "print(p_list)"
   ]
  },
  {
   "cell_type": "code",
   "execution_count": 8,
   "id": "66204667",
   "metadata": {},
   "outputs": [
    {
     "data": {
      "image/png": "[encoded data removed]",
      "text/plain": [
       "<Figure size 432x288 with 1 Axes>"
      ]
     },
     "metadata": {
      "needs_background": "light"
     },
     "output_type": "display_data"
    }
   ],
   "source": [
    "plt.bar(x_list, p_list)\n",
    "plt.show()"
   ]
  },
  {
   "cell_type": "markdown",
   "id": "bf5448c9",
   "metadata": {},
   "source": [
    "## 포아송 분포 난수 생성"
   ]
  },
  {
   "cell_type": "code",
   "execution_count": 15,
   "id": "8891c0bb",
   "metadata": {},
   "outputs": [
    {
     "name": "stdout",
     "output_type": "stream",
     "text": [
      "[2 1 1 ... 1 1 2]\n"
     ]
    }
   ],
   "source": [
    "import numpy as np\n",
    "import matplotlib.pyplot as plt\n",
    "\n",
    "x_list = np.random.poisson(lam=2.0, size=10000)\n",
    "print(x_list)"
   ]
  },
  {
   "cell_type": "code",
   "execution_count": 16,
   "id": "35d833b3",
   "metadata": {},
   "outputs": [
    {
     "data": {
      "image/png": "[encoded data removed]",
      "text/plain": [
       "<Figure size 432x288 with 1 Axes>"
      ]
     },
     "metadata": {
      "needs_background": "light"
     },
     "output_type": "display_data"
    }
   ],
   "source": [
    "plt.hist(x_list)\n",
    "plt.show()"
   ]
  },
  {
   "cell_type": "markdown",
   "id": "e0a277fe",
   "metadata": {},
   "source": [
    "# 기하 분포"
   ]
  },
  {
   "cell_type": "code",
   "execution_count": 11,
   "id": "cf2abcfb",
   "metadata": {},
   "outputs": [],
   "source": [
    "import numpy as np\n",
    "from scipy.stats import geom\n",
    "import matplotlib.pyplot as plt"
   ]
  },
  {
   "cell_type": "code",
   "execution_count": 12,
   "id": "7e6051b4",
   "metadata": {},
   "outputs": [],
   "source": [
    "p = 0.7\n",
    "\n",
    "x_list = np.arange(1, 10)\n",
    "p_list = []\n",
    "\n",
    "for x in x_list:\n",
    "    prob = geom.pmf(k=x, p=p)\n",
    "    p_list.append(prob)"
   ]
  },
  {
   "cell_type": "code",
   "execution_count": 13,
   "id": "691b049b",
   "metadata": {},
   "outputs": [
    {
     "data": {
      "text/plain": [
       "[0.7,\n",
       " 0.21000000000000002,\n",
       " 0.06300000000000001,\n",
       " 0.018900000000000007,\n",
       " 0.005670000000000003,\n",
       " 0.0017010000000000011,\n",
       " 0.0005103000000000004,\n",
       " 0.00015309000000000015,\n",
       " 4.592700000000005e-05]"
      ]
     },
     "execution_count": 13,
     "metadata": {},
     "output_type": "execute_result"
    }
   ],
   "source": [
    "print(p_list)"
   ]
  },
  {
   "cell_type": "code",
   "execution_count": 25,
   "id": "8d959e43",
   "metadata": {},
   "outputs": [
    {
     "data": {
      "image/png": "[encoded data removed]",
      "text/plain": [
       "<Figure size 432x288 with 1 Axes>"
      ]
     },
     "metadata": {
      "needs_background": "light"
     },
     "output_type": "display_data"
    }
   ],
   "source": [
    "plt.bar(x_list, p_list)\n",
    "plt.show()"
   ]
  },
  {
   "cell_type": "markdown",
   "id": "c87f76d8",
   "metadata": {},
   "source": [
    "## 기하 분포 난수 생성"
   ]
  },
  {
   "cell_type": "code",
   "execution_count": 17,
   "id": "5d8c75d0",
   "metadata": {},
   "outputs": [
    {
     "name": "stdout",
     "output_type": "stream",
     "text": [
      "[1 1 2 ... 2 1 1]\n"
     ]
    }
   ],
   "source": [
    "import numpy as np\n",
    "import matplotlib.pyplot as plt\n",
    "\n",
    "x_list = np.random.geometric(0.7, size=10000)\n",
    "print(x_list)"
   ]
  },
  {
   "cell_type": "code",
   "execution_count": 18,
   "id": "babe213d",
   "metadata": {},
   "outputs": [
    {
     "data": {
      "image/png": "[encoded data removed]",
      "text/plain": [
       "<Figure size 432x288 with 1 Axes>"
      ]
     },
     "metadata": {
      "needs_background": "light"
     },
     "output_type": "display_data"
    }
   ],
   "source": [
    "plt.hist(x_list)\n",
    "plt.show()"
   ]
  },
  {
   "cell_type": "markdown",
   "id": "3910fe2f",
   "metadata": {},
   "source": [
    "# 음이항 분포"
   ]
  },
  {
   "cell_type": "code",
   "execution_count": 26,
   "id": "ba1247ec",
   "metadata": {},
   "outputs": [],
   "source": [
    "import numpy as np\n",
    "from scipy.stats import nbinom\n",
    "import matplotlib.pyplot as plt"
   ]
  },
  {
   "cell_type": "code",
   "execution_count": 27,
   "id": "01736b2b",
   "metadata": {},
   "outputs": [],
   "source": [
    "r = 5\n",
    "p = 0.6\n",
    "\n",
    "x_list = np.arange(r, r+20)\n",
    "p_list = []\n",
    "\n",
    "for x in x_list:\n",
    "    prob = nbinom.pmf(k=x, n=r, p=p)\n",
    "    p_list.append(prob)"
   ]
  },
  {
   "cell_type": "code",
   "execution_count": 28,
   "id": "ac1cd0e3",
   "metadata": {},
   "outputs": [
    {
     "data": {
      "image/png": "[encoded data removed]",
      "text/plain": [
       "<Figure size 432x288 with 1 Axes>"
      ]
     },
     "metadata": {
      "needs_background": "light"
     },
     "output_type": "display_data"
    }
   ],
   "source": [
    "plt.bar(x_list, p_list)\n",
    "plt.show()"
   ]
  },
  {
   "cell_type": "markdown",
   "id": "0e5b4790",
   "metadata": {},
   "source": [
    "## 음이항 분포 난수 생성"
   ]
  },
  {
   "cell_type": "code",
   "execution_count": 20,
   "id": "30d58455",
   "metadata": {},
   "outputs": [
    {
     "name": "stdout",
     "output_type": "stream",
     "text": [
      "[0 7 2 ... 8 1 2]\n"
     ]
    }
   ],
   "source": [
    "import numpy as np\n",
    "import matplotlib.pyplot as plt\n",
    "\n",
    "x_list = np.random.negative_binomial(n=5, p=0.6, size=10000)\n",
    "print(x_list)"
   ]
  },
  {
   "cell_type": "code",
   "execution_count": 21,
   "id": "36b2c10c",
   "metadata": {},
   "outputs": [
    {
     "data": {
      "image/png": "[encoded data removed]",
      "text/plain": [
       "<Figure size 432x288 with 1 Axes>"
      ]
     },
     "metadata": {
      "needs_background": "light"
     },
     "output_type": "display_data"
    }
   ],
   "source": [
    "plt.hist(x_list)\n",
    "plt.show()"
   ]
  },
  {
   "cell_type": "code",
   "execution_count": null,
   "id": "997a8334",
   "metadata": {},
   "outputs": [],
   "source": []
  }
 ],
 "metadata": {
  "kernelspec": {
   "display_name": "Python 3 (ipykernel)",
   "language": "python",
   "name": "python3"
  },
  "language_info": {
   "codemirror_mode": {
    "name": "ipython",
    "version": 3
   },
   "file_extension": ".py",
   "mimetype": "text/x-python",
   "name": "python",
   "nbconvert_exporter": "python",
   "pygments_lexer": "ipython3",
   "version": "3.9.4"
  }
 },
 "nbformat": 4,
 "nbformat_minor": 5
}
