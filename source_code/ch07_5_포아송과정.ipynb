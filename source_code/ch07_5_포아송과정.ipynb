{
 "cells": [
  {
   "cell_type": "code",
   "execution_count": 15,
   "id": "874d9511",
   "metadata": {},
   "outputs": [],
   "source": [
    "import numpy as np\n",
    "\n",
    "np.random.seed(777)\n",
    "\n",
    "lamb = 1\n",
    "n = 10\n",
    "x_list = np.random.poisson(lamb, size=n)\n",
    "xt_list = []\n",
    "x_axis = list(range(0, n))\n",
    "\n",
    "for t in range(0, n):\n",
    "    xt = np.sum(x_list[0:t])\n",
    "    xt_list.append(xt)"
   ]
  },
  {
   "cell_type": "code",
   "execution_count": 19,
   "id": "6ecbc470",
   "metadata": {},
   "outputs": [
    {
     "data": {
      "image/png": "[encoded data removed]",
      "text/plain": [
       "<Figure size 432x288 with 1 Axes>"
      ]
     },
     "metadata": {
      "needs_background": "light"
     },
     "output_type": "display_data"
    }
   ],
   "source": [
    "import matplotlib.pyplot as plt\n",
    "\n",
    "plt.step(x_axis, xt_list)\n",
    "plt.xlim(0)\n",
    "plt.ylim(0)\n",
    "plt.show()"
   ]
  },
  {
   "cell_type": "code",
   "execution_count": 23,
   "id": "70a72bdc",
   "metadata": {},
   "outputs": [],
   "source": [
    "import numpy as np\n",
    "\n",
    "np.random.seed(777)\n",
    "\n",
    "def poisson_process(lamb, n):\n",
    "    x_list = np.random.poisson(lamb, size=n)\n",
    "    xt_list = []\n",
    "\n",
    "    for t in range(0, n):\n",
    "        xt = np.sum(x_list[0:t])\n",
    "        xt_list.append(xt)\n",
    "    return xt_list"
   ]
  },
  {
   "cell_type": "code",
   "execution_count": 24,
   "id": "74390a29",
   "metadata": {},
   "outputs": [
    {
     "data": {
      "image/png": "[encoded data removed]",
      "text/plain": [
       "<Figure size 432x288 with 1 Axes>"
      ]
     },
     "metadata": {
      "needs_background": "light"
     },
     "output_type": "display_data"
    }
   ],
   "source": [
    "n = 10\n",
    "x_axis = list(range(0, n))\n",
    "\n",
    "xt_list1 = poisson_process(1, n)\n",
    "xt_list2 = poisson_process(2, n)\n",
    "xt_list5 = poisson_process(5, n)\n",
    "\n",
    "plt.step(x_axis, xt_list1, color='b', label='lamb=1')\n",
    "plt.step(x_axis, xt_list2, color='r', label='lamb=2')\n",
    "plt.step(x_axis, xt_list5, color='g', label='lamb=5')\n",
    "plt.legend()\n",
    "plt.xlim(0)\n",
    "plt.ylim(0)\n",
    "plt.show()"
   ]
  },
  {
   "cell_type": "code",
   "execution_count": null,
   "id": "0e6aebc8",
   "metadata": {},
   "outputs": [],
   "source": []
  }
 ],
 "metadata": {
  "kernelspec": {
   "display_name": "Python 3 (ipykernel)",
   "language": "python",
   "name": "python3"
  },
  "language_info": {
   "codemirror_mode": {
    "name": "ipython",
    "version": 3
   },
   "file_extension": ".py",
   "mimetype": "text/x-python",
   "name": "python",
   "nbconvert_exporter": "python",
   "pygments_lexer": "ipython3",
   "version": "3.9.4"
  }
 },
 "nbformat": 4,
 "nbformat_minor": 5
}
