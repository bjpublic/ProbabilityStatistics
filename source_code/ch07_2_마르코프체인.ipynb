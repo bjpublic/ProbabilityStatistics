{
 "cells": [
  {
   "cell_type": "code",
   "execution_count": 8,
   "metadata": {},
   "outputs": [],
   "source": [
    "import numpy as np\n",
    "\n",
    "P = np.array([[0.1, 0.3, 0.6], \n",
    "              [0.4, 0.2, 0.4], \n",
    "              [0.2, 0.5, 0.3]])"
   ]
  },
  {
   "cell_type": "code",
   "execution_count": 9,
   "metadata": {},
   "outputs": [
    {
     "name": "stdout",
     "output_type": "stream",
     "text": [
      "[[0.25 0.39 0.36]\n",
      " [0.2  0.36 0.44]\n",
      " [0.28 0.31 0.41]]\n"
     ]
    }
   ],
   "source": [
    "P2 = np.matmul(P, P)\n",
    "print(P2)"
   ]
  },
  {
   "cell_type": "code",
   "execution_count": 11,
   "metadata": {},
   "outputs": [
    {
     "name": "stdout",
     "output_type": "stream",
     "text": [
      "[[0.25 0.39 0.36]\n",
      " [0.2  0.36 0.44]\n",
      " [0.28 0.31 0.41]]\n"
     ]
    }
   ],
   "source": [
    "P2 = P@P\n",
    "print(P2)"
   ]
  },
  {
   "cell_type": "code",
   "execution_count": 15,
   "metadata": {},
   "outputs": [
    {
     "name": "stdout",
     "output_type": "stream",
     "text": [
      "0.39\n"
     ]
    }
   ],
   "source": [
    "print(P2[0][1])"
   ]
  },
  {
   "cell_type": "code",
   "execution_count": 10,
   "metadata": {},
   "outputs": [
    {
     "name": "stdout",
     "output_type": "stream",
     "text": [
      "[[0.253 0.333 0.414]\n",
      " [0.252 0.352 0.396]\n",
      " [0.234 0.351 0.415]]\n"
     ]
    }
   ],
   "source": [
    "P3 = np.matmul(P2, P)\n",
    "print(P3)"
   ]
  },
  {
   "cell_type": "code",
   "execution_count": 13,
   "metadata": {},
   "outputs": [
    {
     "name": "stdout",
     "output_type": "stream",
     "text": [
      "[[0.253 0.333 0.414]\n",
      " [0.252 0.352 0.396]\n",
      " [0.234 0.351 0.415]]\n"
     ]
    }
   ],
   "source": [
    "P3 = P@P@P\n",
    "print(P3)"
   ]
  },
  {
   "cell_type": "code",
   "execution_count": null,
   "metadata": {},
   "outputs": [],
   "source": []
  }
 ],
 "metadata": {
  "kernelspec": {
   "display_name": "Python 3 (ipykernel)",
   "language": "python",
   "name": "python3"
  },
  "language_info": {
   "codemirror_mode": {
    "name": "ipython",
    "version": 3
   },
   "file_extension": ".py",
   "mimetype": "text/x-python",
   "name": "python",
   "nbconvert_exporter": "python",
   "pygments_lexer": "ipython3",
   "version": "3.9.4"
  }
 },
 "nbformat": 4,
 "nbformat_minor": 4
}
