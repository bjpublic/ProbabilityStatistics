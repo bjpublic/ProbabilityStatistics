{
 "cells": [
  {
   "cell_type": "markdown",
   "id": "2ebadef4",
   "metadata": {},
   "source": [
    "# 문제 1"
   ]
  },
  {
   "cell_type": "code",
   "execution_count": 36,
   "id": "38d2cdb5",
   "metadata": {},
   "outputs": [],
   "source": [
    "import numpy as np"
   ]
  },
  {
   "cell_type": "code",
   "execution_count": 37,
   "id": "f81cbb10",
   "metadata": {},
   "outputs": [
    {
     "name": "stdout",
     "output_type": "stream",
     "text": [
      "[1 0 0 ... 0 1 1]\n"
     ]
    }
   ],
   "source": [
    "x_list = np.random.binomial(n=1 , p=0.2 , size=10000)\n",
    "print(x_list)"
   ]
  },
  {
   "cell_type": "code",
   "execution_count": 25,
   "id": "1dbe7f44",
   "metadata": {},
   "outputs": [],
   "source": [
    "def moment(x_list, k):\n",
    "    n = len(x_list)\n",
    "    sum_xk = 0\n",
    "    for x in x_list:\n",
    "        sum_xk += x**k\n",
    "    res = sum_xk/n\n",
    "    return res"
   ]
  },
  {
   "cell_type": "code",
   "execution_count": 26,
   "id": "e726d8df",
   "metadata": {},
   "outputs": [
    {
     "name": "stdout",
     "output_type": "stream",
     "text": [
      "0.1978\n"
     ]
    }
   ],
   "source": [
    "moment1 = moment(x_list, 1)\n",
    "print(moment1)"
   ]
  },
  {
   "cell_type": "code",
   "execution_count": 27,
   "id": "4f6b5bcb",
   "metadata": {},
   "outputs": [
    {
     "name": "stdout",
     "output_type": "stream",
     "text": [
      "0.1978\n"
     ]
    }
   ],
   "source": [
    "moment2 = moment(x_list, 2)\n",
    "print(moment2)"
   ]
  },
  {
   "cell_type": "code",
   "execution_count": 28,
   "id": "0d63e2df",
   "metadata": {},
   "outputs": [
    {
     "data": {
      "text/plain": [
       "0.15867516"
      ]
     },
     "execution_count": 28,
     "metadata": {},
     "output_type": "execute_result"
    }
   ],
   "source": [
    "moment2 - moment1**2"
   ]
  },
  {
   "cell_type": "markdown",
   "id": "9c2a1e64",
   "metadata": {},
   "source": [
    "# 문제 2"
   ]
  },
  {
   "cell_type": "code",
   "execution_count": 35,
   "id": "161532be",
   "metadata": {},
   "outputs": [
    {
     "name": "stdout",
     "output_type": "stream",
     "text": [
      "[ 4.69104521  6.26000982  3.8244937  ...  6.28542548 11.90820315\n",
      "  0.795137  ]\n"
     ]
    }
   ],
   "source": [
    "x_list = np.random.gamma(shape=3, scale=2, size=10000)\n",
    "print(x_list)"
   ]
  },
  {
   "cell_type": "code",
   "execution_count": 30,
   "id": "69a5d7fd",
   "metadata": {},
   "outputs": [
    {
     "name": "stdout",
     "output_type": "stream",
     "text": [
      "5.973579647953728\n"
     ]
    }
   ],
   "source": [
    "moment1 = moment(x_list, 1)\n",
    "print(moment1)"
   ]
  },
  {
   "cell_type": "code",
   "execution_count": 31,
   "id": "89f71820",
   "metadata": {},
   "outputs": [
    {
     "name": "stdout",
     "output_type": "stream",
     "text": [
      "47.71558089238509\n"
     ]
    }
   ],
   "source": [
    "moment2 = moment(x_list, 2)\n",
    "print(moment2)"
   ]
  },
  {
   "cell_type": "code",
   "execution_count": 32,
   "id": "32c783ea",
   "metadata": {},
   "outputs": [
    {
     "name": "stdout",
     "output_type": "stream",
     "text": [
      "2.965747179769232\n"
     ]
    }
   ],
   "source": [
    "alpha_hat = (moment1**2)/(moment2 - moment1**2)\n",
    "print(alpha_hat)"
   ]
  },
  {
   "cell_type": "code",
   "execution_count": 33,
   "id": "2260d8d4",
   "metadata": {},
   "outputs": [
    {
     "name": "stdout",
     "output_type": "stream",
     "text": [
      "2.014190450454559\n"
     ]
    }
   ],
   "source": [
    "beta_hat = (moment2 - moment1**2)/moment1\n",
    "print(beta_hat)"
   ]
  },
  {
   "cell_type": "code",
   "execution_count": null,
   "id": "5541205f",
   "metadata": {},
   "outputs": [],
   "source": []
  }
 ],
 "metadata": {
  "kernelspec": {
   "display_name": "Python 3 (ipykernel)",
   "language": "python",
   "name": "python3"
  },
  "language_info": {
   "codemirror_mode": {
    "name": "ipython",
    "version": 3
   },
   "file_extension": ".py",
   "mimetype": "text/x-python",
   "name": "python",
   "nbconvert_exporter": "python",
   "pygments_lexer": "ipython3",
   "version": "3.9.4"
  }
 },
 "nbformat": 4,
 "nbformat_minor": 5
}
