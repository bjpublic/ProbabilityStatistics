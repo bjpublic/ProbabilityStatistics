{
 "cells": [
  {
   "cell_type": "markdown",
   "id": "7509c119",
   "metadata": {},
   "source": [
    "# 파이썬을 활용해 분산 구하기"
   ]
  },
  {
   "cell_type": "code",
   "execution_count": 3,
   "id": "969e6fca",
   "metadata": {},
   "outputs": [],
   "source": [
    "def mean(x_list):\n",
    "    \"\"\"\n",
    "    리스트 x_list 원소의 평균 구하기\n",
    "    입력값: 리스트 x_list\n",
    "    출력값: 평균 res\n",
    "    \"\"\"\n",
    "    n = len(x_list)\n",
    "    sum_x = 0\n",
    "    for x in x_list:\n",
    "        sum_x += x\n",
    "    res = sum_x/n\n",
    "    return res"
   ]
  },
  {
   "cell_type": "code",
   "execution_count": 4,
   "id": "57fc1bf2",
   "metadata": {},
   "outputs": [
    {
     "name": "stdout",
     "output_type": "stream",
     "text": [
      "7.5\n"
     ]
    }
   ],
   "source": [
    "x_list = [2, 4, 6, 1, 5, 7, 9, 8, 3]\n",
    "\n",
    "n = len(x_list)\n",
    "mean_x = mean(x_list)\n",
    "ss_x = 0\n",
    "\n",
    "for x in x_list:\n",
    "    ss_x += (x-mean_x)**2\n",
    "    \n",
    "var_x = ss_x/(n-1)\n",
    "print(var_x)"
   ]
  },
  {
   "cell_type": "code",
   "execution_count": 5,
   "id": "52009707",
   "metadata": {},
   "outputs": [
    {
     "name": "stdout",
     "output_type": "stream",
     "text": [
      "2.7386127875258306\n"
     ]
    }
   ],
   "source": [
    "std_x = var_x**0.5\n",
    "print(std_x)"
   ]
  },
  {
   "cell_type": "code",
   "execution_count": 6,
   "id": "8b8c6e8b",
   "metadata": {},
   "outputs": [],
   "source": [
    "def var(x_list):\n",
    "    \"\"\"\n",
    "    리스트 x_list 원소의 분산 구하기\n",
    "    입력값: 리스트 x_list\n",
    "    출력값: 분산 res\n",
    "    \"\"\"\n",
    "    n = len(x_list)\n",
    "    mean_x = mean(x_list)\n",
    "    ss_x = 0\n",
    "\n",
    "    for x in x_list:\n",
    "        ss_x += (x-mean_x)**2\n",
    "    \n",
    "    res = ss_x/(n-1)\n",
    "    return res\n",
    "    \n",
    "def std(x_list):\n",
    "    \"\"\"\n",
    "    리스트 x_list 원소의 표준 편차 구하기\n",
    "    입력값: 리스트 x_list\n",
    "    출력값: 표준 편차 res\n",
    "    \"\"\"\n",
    "    var_x = var(x_list)\n",
    "    res = var_x**0.5\n",
    "    return res"
   ]
  },
  {
   "cell_type": "code",
   "execution_count": 7,
   "id": "867993f6",
   "metadata": {},
   "outputs": [
    {
     "name": "stdout",
     "output_type": "stream",
     "text": [
      "7.5\n",
      "2.7386127875258306\n"
     ]
    }
   ],
   "source": [
    "x_list = [2, 4, 6, 1, 5, 7, 9, 8, 3]\n",
    "\n",
    "var_x = var(x_list)\n",
    "std_x = std(x_list)\n",
    "print(var_x)\n",
    "print(std_x)"
   ]
  },
  {
   "cell_type": "markdown",
   "id": "eb675c90",
   "metadata": {},
   "source": [
    "# 넘파이 라이브러리를 활용해 분산, 표준편차 구하기"
   ]
  },
  {
   "cell_type": "code",
   "execution_count": 8,
   "id": "63d5df6d",
   "metadata": {},
   "outputs": [
    {
     "name": "stdout",
     "output_type": "stream",
     "text": [
      "7.5\n",
      "2.7386127875258306\n"
     ]
    }
   ],
   "source": [
    "import numpy as np\n",
    "\n",
    "x_list = [2, 4, 6, 1, 5, 7, 9, 8, 3]\n",
    "\n",
    "var_x = np.var(x_list, ddof=1)\n",
    "std_x = np.std(x_list, ddof=1)\n",
    "print(var_x)\n",
    "print(std_x)"
   ]
  },
  {
   "cell_type": "code",
   "execution_count": 9,
   "id": "8d9e4e48",
   "metadata": {},
   "outputs": [
    {
     "name": "stdout",
     "output_type": "stream",
     "text": [
      "6.666666666666667\n",
      "2.581988897471611\n"
     ]
    }
   ],
   "source": [
    "var_x = np.var(x_list)\n",
    "std_x = np.std(x_list)\n",
    "print(var_x)\n",
    "print(std_x)"
   ]
  },
  {
   "cell_type": "code",
   "execution_count": null,
   "id": "6c17405e",
   "metadata": {},
   "outputs": [],
   "source": []
  }
 ],
 "metadata": {
  "kernelspec": {
   "display_name": "Python 3 (ipykernel)",
   "language": "python",
   "name": "python3"
  },
  "language_info": {
   "codemirror_mode": {
    "name": "ipython",
    "version": 3
   },
   "file_extension": ".py",
   "mimetype": "text/x-python",
   "name": "python",
   "nbconvert_exporter": "python",
   "pygments_lexer": "ipython3",
   "version": "3.9.4"
  }
 },
 "nbformat": 4,
 "nbformat_minor": 5
}
