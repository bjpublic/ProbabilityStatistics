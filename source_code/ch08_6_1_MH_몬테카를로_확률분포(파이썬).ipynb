{
 "cells": [
  {
   "cell_type": "markdown",
   "metadata": {},
   "source": [
    "# 랜덤 함수 만들기"
   ]
  },
  {
   "cell_type": "code",
   "execution_count": 6,
   "metadata": {},
   "outputs": [],
   "source": [
    "## 원본\n",
    "# def pseudo_sample(mult = 16809,\n",
    "#                   mod = (2**31)-1,\n",
    "#                   seed = 1234567,\n",
    "#                   size = 1):\n",
    "#     \"\"\"\n",
    "#     generate pseudo random float number\n",
    "#     between (0, 1)\n",
    "#     \"\"\"\n",
    "#     res = []\n",
    "#     x = (seed * mult + 1)%mod\n",
    "#     res.append(x/mod)\n",
    "#     for i in range(1, size):\n",
    "#         x = (x * mult + 1)%mod\n",
    "#         res.append(x/mod)\n",
    "#     return res"
   ]
  },
  {
   "cell_type": "code",
   "execution_count": 70,
   "metadata": {},
   "outputs": [],
   "source": [
    "def pseudo_sample(x0 = 16809,\n",
    "                  mod = (2**31)-1,\n",
    "                  seed = 1234567,\n",
    "                  size = 1):\n",
    "    \"\"\"\n",
    "    유사 난수 생성(0과 1사이)\n",
    "    입력값\n",
    "      x0: 초기 x0값\n",
    "      mod: 난수 주기\n",
    "      seed: 랜덤 시드\n",
    "      size: 추출할 난수 개수\n",
    "    출력값\n",
    "      res: 0과 1사이 실수 난수 리스트\n",
    "    \"\"\"\n",
    "    res = []\n",
    "    x = (seed * x0 + 1)%mod\n",
    "    u = x/mod\n",
    "    res.append(u)\n",
    "    for i in range(1, size):\n",
    "        x = (seed * x + 1)%mod\n",
    "        u = x/mod\n",
    "        res.append(u)\n",
    "    return res\n",
    "    \n",
    "def uniform_cont(low=0,\n",
    "                 high=1,\n",
    "                 seed=1234567,\n",
    "                 size=1):\n",
    "    \"\"\"\n",
    "    균일분포(연속형)에서 난수 추출\n",
    "    입력값\n",
    "      low: 하한\n",
    "      hight: 상한\n",
    "      seed: 랜덤 시드\n",
    "      size: 추출 개수\n",
    "    출력값\n",
    "      res: 난수 리스트\n",
    "    \"\"\"\n",
    "    x_list = pseudo_sample(seed=seed, size=size)\n",
    "    res = []\n",
    "    for x in x_list:\n",
    "        val = low+(high-low)*x\n",
    "        res.append(val)\n",
    "    return res    \n",
    "    \n",
    "def uniform_disc(low=0,\n",
    "                 high=1,\n",
    "                 seed=1234567,\n",
    "                 size=1):\n",
    "    \"\"\"\n",
    "    균일분포(이산형)에서 랜덤 숫자 추출\n",
    "    입력값\n",
    "      low: 하한\n",
    "      hight: 상한\n",
    "      seed: 랜덤 시드\n",
    "      size: 추출 개수\n",
    "    출력값\n",
    "      res: 난수 리스트\n",
    "    \"\"\"\n",
    "    x_list = pseudo_sample(seed=seed, size=size)\n",
    "    res = []\n",
    "    for x in x_list:\n",
    "        val = int(low+(high-low)*x)\n",
    "        res.append(val)\n",
    "    return res    "
   ]
  },
  {
   "cell_type": "markdown",
   "metadata": {},
   "source": [
    "# 정규 분포"
   ]
  },
  {
   "cell_type": "code",
   "execution_count": 71,
   "metadata": {},
   "outputs": [],
   "source": [
    "def normal_pdf(mu, s, x):\n",
    "    pi = 3.1415926535 \n",
    "    e = 2.7182818284\n",
    "    res = (1/(((2*pi)**0.5)*s))*(e**(-0.5*(((x-mu)/s)**2)))\n",
    "    return res"
   ]
  },
  {
   "cell_type": "code",
   "execution_count": 78,
   "metadata": {},
   "outputs": [],
   "source": [
    "def normal_sample(mu, s, seed=1234567, size=1):\n",
    "    \"\"\"\n",
    "    정규 분포에서 랜덤 숫자 추출\n",
    "    \"\"\"\n",
    "    burn_in = 100\n",
    "    size = burn_in + size\n",
    "    u_list = pseudo_sample(seed=seed*2, size=size)\n",
    "    xt_candidates = uniform_cont(low=mu-3*s, high=mu+3*s, size=size)\n",
    "    x0 = mu\n",
    "    xt = x0\n",
    "    res = []\n",
    "\n",
    "    for i in range(0, size):\n",
    "        xt_candidate = xt_candidates[i]\n",
    "        pi_y = normal_pdf(mu, s, xt_candidate)\n",
    "        pi_x = normal_pdf(mu, s, xt)\n",
    "        accept_prob = pi_y/pi_x\n",
    "        if u_list[i] < accept_prob:\n",
    "            xt = xt_candidate\n",
    "        res.append(xt)\n",
    "    \n",
    "    res = res[burn_in:]\n",
    "    return res"
   ]
  },
  {
   "cell_type": "code",
   "execution_count": 79,
   "metadata": {},
   "outputs": [],
   "source": [
    "samples = normal_sample(mu=10, s=3, size=1000)"
   ]
  },
  {
   "cell_type": "code",
   "execution_count": 80,
   "metadata": {},
   "outputs": [
    {
     "data": {
      "image/png": "[encoded data removed]",
      "text/plain": [
       "<Figure size 432x288 with 1 Axes>"
      ]
     },
     "metadata": {
      "needs_background": "light"
     },
     "output_type": "display_data"
    }
   ],
   "source": [
    "import matplotlib.pyplot as plt\n",
    "\n",
    "plt.hist(samples, bins=20)\n",
    "plt.show()"
   ]
  },
  {
   "cell_type": "markdown",
   "metadata": {},
   "source": [
    "# 감마 분포"
   ]
  },
  {
   "cell_type": "code",
   "execution_count": 47,
   "metadata": {},
   "outputs": [],
   "source": [
    "def gamma_function(alpha, x):\n",
    "    \"\"\"\n",
    "    감마 함수\n",
    "    입력값: alpha, x\n",
    "    출력값: res(실수)\n",
    "    \"\"\"\n",
    "    e = 2.7182818284\n",
    "    res = (x**(alpha-1))*(e**(-x))\n",
    "    return res \n",
    "\n",
    "def seq(start, stop, step):\n",
    "    \"\"\"\n",
    "    수열 만들기\n",
    "    입력값: start(시작 값), stop(끝 값), step(한스텝당 증가 수)\n",
    "    출력값: res(리스트)\n",
    "    \"\"\"\n",
    "    res = []\n",
    "    current = start\n",
    "    while current < stop:\n",
    "        res.append(current)\n",
    "        current += step\n",
    "    return res\n",
    "\n",
    "def gamma(alpha):\n",
    "    \"\"\"\n",
    "    감마\n",
    "    입력값: alpha\n",
    "    출력값: res(실수)\n",
    "    \"\"\"\n",
    "    a = 0\n",
    "    b = 100\n",
    "    x_list = seq(0.0001, 100, 0.001)\n",
    "    gamma_list = []\n",
    "    for x in x_list:\n",
    "        y = gamma_function(alpha, x)\n",
    "        gamma_list.append(y)\n",
    "    res = ((b-a)/len(x_list))*sum(gamma_list)\n",
    "    return res\n",
    "\n",
    "def gamma_pdf(alpha, beta, x):\n",
    "    e = 2.7182818284\n",
    "    res = (1/(gamma(alpha)*(beta**alpha)))*(x**(alpha-1))*(e**((-1/beta)*x))\n",
    "    return res"
   ]
  },
  {
   "cell_type": "code",
   "execution_count": 48,
   "metadata": {},
   "outputs": [],
   "source": [
    "def gamma_sample(alpha, beta, seed=1234567, size=1):\n",
    "    \"\"\"\n",
    "    감마 분포에서 랜덤 숫자 추출\n",
    "    \"\"\"\n",
    "    \n",
    "    burn_in = 100\n",
    "    size = burn_in + size\n",
    "    u_list = pseudo_sample(seed=seed*2, size=size)\n",
    "    xt_candidates = uniform_cont(low=0, high=5*alpha*beta, size=size)\n",
    "    x0 = alpha*beta\n",
    "    xt = x0\n",
    "    res = []\n",
    "    \n",
    "    for i in range(0, size):\n",
    "        xt_candidate = xt_candidates[i]\n",
    "        pi_y = gamma_pdf(alpha, beta, xt_candidate)\n",
    "        pi_x = gamma_pdf(alpha, beta, xt)\n",
    "        accept_prob = pi_y/pi_x\n",
    "        if u_list[i] < accept_prob:\n",
    "            xt = xt_candidate\n",
    "        res.append(xt)\n",
    "    \n",
    "    res = res[burn_in:]\n",
    "    return res"
   ]
  },
  {
   "cell_type": "code",
   "execution_count": 49,
   "metadata": {},
   "outputs": [],
   "source": [
    "samples = gamma_sample(alpha=3, beta=2, size=1000)"
   ]
  },
  {
   "cell_type": "code",
   "execution_count": 50,
   "metadata": {},
   "outputs": [
    {
     "data": {
      "image/png": "[encoded data removed]",
      "text/plain": [
       "<Figure size 432x288 with 1 Axes>"
      ]
     },
     "metadata": {
      "needs_background": "light"
     },
     "output_type": "display_data"
    }
   ],
   "source": [
    "import matplotlib.pyplot as plt\n",
    "\n",
    "plt.hist(samples, bins=20)\n",
    "plt.show()"
   ]
  },
  {
   "cell_type": "markdown",
   "metadata": {},
   "source": [
    "# 지수 분포"
   ]
  },
  {
   "cell_type": "code",
   "execution_count": 51,
   "metadata": {},
   "outputs": [],
   "source": [
    "def exponential_pdf(beta, x):\n",
    "    e = 2.7182818284\n",
    "    res = (1/beta)*(e**((-1/beta)*x))\n",
    "    return res"
   ]
  },
  {
   "cell_type": "code",
   "execution_count": 54,
   "metadata": {},
   "outputs": [],
   "source": [
    "def exponential_sample(beta, seed=1234567, size=1):\n",
    "    \"\"\"\n",
    "    지수 분포에서 랜덤 숫자 추출\n",
    "    \"\"\"\n",
    "    \n",
    "    burn_in = 100\n",
    "    size = burn_in + size\n",
    "    u_list = pseudo_sample(seed=seed*2, size=size)\n",
    "    xt_candidates = uniform_cont(low=0, high=10*beta, size=size)\n",
    "    x0 = beta\n",
    "    xt = x0\n",
    "    res = []\n",
    "    \n",
    "    for i in range(0, size):\n",
    "        xt_candidate = xt_candidates[i]\n",
    "        pi_y = exponential_pdf(beta, xt_candidate)\n",
    "        pi_x = exponential_pdf(beta, xt)\n",
    "        accept_prob = pi_y/pi_x\n",
    "        if u_list[i] < accept_prob:\n",
    "            xt = xt_candidate\n",
    "        res.append(xt)\n",
    "    \n",
    "    res = res[burn_in:]\n",
    "    return res"
   ]
  },
  {
   "cell_type": "code",
   "execution_count": 55,
   "metadata": {},
   "outputs": [],
   "source": [
    "samples = exponential_sample(beta=2, size=1000)"
   ]
  },
  {
   "cell_type": "code",
   "execution_count": 56,
   "metadata": {},
   "outputs": [
    {
     "data": {
      "image/png": "[encoded data removed]",
      "text/plain": [
       "<Figure size 432x288 with 1 Axes>"
      ]
     },
     "metadata": {
      "needs_background": "light"
     },
     "output_type": "display_data"
    }
   ],
   "source": [
    "import matplotlib.pyplot as plt\n",
    "\n",
    "plt.hist(samples, bins=20)\n",
    "plt.show()"
   ]
  },
  {
   "cell_type": "markdown",
   "metadata": {},
   "source": [
    "# 베타 분포"
   ]
  },
  {
   "cell_type": "code",
   "execution_count": 57,
   "metadata": {},
   "outputs": [],
   "source": [
    "def gamma_function(alpha, x):\n",
    "    \"\"\"\n",
    "    감마 함수\n",
    "    입력값: alpha, x\n",
    "    출력값: res(실수)\n",
    "    \"\"\"\n",
    "    e = 2.7182818284\n",
    "    res = (x**(alpha-1))*(e**(-x))\n",
    "    return res \n",
    "\n",
    "def seq(start, stop, step):\n",
    "    \"\"\"\n",
    "    수열 만들기\n",
    "    입력값: start(시작 값), stop(끝 값), step(한스텝당 증가 수)\n",
    "    출력값: res(리스트)\n",
    "    \"\"\"\n",
    "    res = []\n",
    "    current = start\n",
    "    while current < stop:\n",
    "        res.append(current)\n",
    "        current += step\n",
    "    return res\n",
    "\n",
    "def gamma(alpha):\n",
    "    \"\"\"\n",
    "    감마\n",
    "    입력값: alpha\n",
    "    출력값: res(실수)\n",
    "    \"\"\"\n",
    "    a = 0\n",
    "    b = 100\n",
    "    x_list = seq(0.0001, 100, 0.001)\n",
    "    gamma_list = []\n",
    "    for x in x_list:\n",
    "        y = gamma_function(alpha, x)\n",
    "        gamma_list.append(y)\n",
    "    res = ((b-a)/len(x_list))*sum(gamma_list)\n",
    "    return res   \n",
    "\n",
    "def beta_pdf(alpha, beta, x):\n",
    "    beta_function = ((gamma(alpha+beta))/(gamma(alpha)*gamma(beta)))\n",
    "    res = beta_function*(x**(alpha-1))*((1-x)**(beta-1))\n",
    "    return res"
   ]
  },
  {
   "cell_type": "code",
   "execution_count": 58,
   "metadata": {},
   "outputs": [],
   "source": [
    "def beta_sample(alpha, beta, seed=1234567, size=1):\n",
    "    \"\"\"\n",
    "    베타 분포에서 랜덤 숫자 추출\n",
    "    \"\"\"\n",
    "    \n",
    "    burn_in = 100\n",
    "    size = burn_in + size\n",
    "    u_list = pseudo_sample(seed=seed*2, size=size)\n",
    "    xt_candidates = uniform_cont(low=0, high=1, size=size)\n",
    "    x0 = 0.5\n",
    "    xt = x0\n",
    "    res = []\n",
    "    \n",
    "    for i in range(0, size):\n",
    "        xt_candidate = xt_candidates[i]\n",
    "        pi_y = beta_pdf(alpha, beta, xt_candidate)\n",
    "        pi_x = beta_pdf(alpha, beta, xt)\n",
    "        accept_prob = pi_y/pi_x\n",
    "        if u_list[i] < accept_prob:\n",
    "            xt = xt_candidate\n",
    "        res.append(xt)\n",
    "    \n",
    "    res = res[burn_in:]\n",
    "    return res"
   ]
  },
  {
   "cell_type": "code",
   "execution_count": 60,
   "metadata": {},
   "outputs": [],
   "source": [
    "samples = beta_sample(alpha=0.5, beta=0.5, size=1000)"
   ]
  },
  {
   "cell_type": "code",
   "execution_count": 61,
   "metadata": {},
   "outputs": [
    {
     "data": {
      "image/png": "[encoded data removed]",
      "text/plain": [
       "<Figure size 432x288 with 1 Axes>"
      ]
     },
     "metadata": {
      "needs_background": "light"
     },
     "output_type": "display_data"
    }
   ],
   "source": [
    "import matplotlib.pyplot as plt\n",
    "\n",
    "plt.hist(samples, bins=20)\n",
    "plt.show()"
   ]
  },
  {
   "cell_type": "code",
   "execution_count": null,
   "metadata": {},
   "outputs": [],
   "source": []
  }
 ],
 "metadata": {
  "kernelspec": {
   "display_name": "Python 3 (ipykernel)",
   "language": "python",
   "name": "python3"
  },
  "language_info": {
   "codemirror_mode": {
    "name": "ipython",
    "version": 3
   },
   "file_extension": ".py",
   "mimetype": "text/x-python",
   "name": "python",
   "nbconvert_exporter": "python",
   "pygments_lexer": "ipython3",
   "version": "3.9.12"
  }
 },
 "nbformat": 4,
 "nbformat_minor": 4
}
