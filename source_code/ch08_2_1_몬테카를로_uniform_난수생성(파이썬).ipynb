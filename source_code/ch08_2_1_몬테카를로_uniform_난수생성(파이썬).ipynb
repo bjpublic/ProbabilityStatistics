{
 "cells": [
  {
   "cell_type": "code",
   "execution_count": 9,
   "id": "0c269d13",
   "metadata": {},
   "outputs": [],
   "source": [
    "def pseudo_sample(x0 = 16809,\n",
    "                  mod = (2**31)-1,\n",
    "                  seed = 1234567,\n",
    "                  size = 1):\n",
    "    \"\"\"\n",
    "    유사 난수 생성(0과 1사이)\n",
    "    입력값\n",
    "      x0: 초기 x0값\n",
    "      mod: 난수 주기\n",
    "      seed: 랜덤 시드\n",
    "      size: 추출할 난수 개수\n",
    "    출력값\n",
    "      res: 0과 1사이 실수 난수 리스트\n",
    "    \"\"\"\n",
    "    res = []\n",
    "    x = (seed * x0 + 1)%mod\n",
    "    u = x/mod\n",
    "    res.append(u)\n",
    "    for i in range(1, size):\n",
    "        x = (seed * x + 1)%mod\n",
    "        u = x/mod\n",
    "        res.append(u)\n",
    "    return res"
   ]
  },
  {
   "cell_type": "code",
   "execution_count": 17,
   "id": "fdf09642",
   "metadata": {},
   "outputs": [],
   "source": [
    "x_list = pseudo_sample(size=5)"
   ]
  },
  {
   "cell_type": "code",
   "execution_count": 18,
   "id": "f6ea4ca2",
   "metadata": {},
   "outputs": [
    {
     "data": {
      "text/plain": [
       "[0.6633269980844702,\n",
       " 0.622044150541557,\n",
       " 0.18080163895189838,\n",
       " 0.7369959287983346,\n",
       " 0.8528287740670278]"
      ]
     },
     "execution_count": 18,
     "metadata": {},
     "output_type": "execute_result"
    }
   ],
   "source": [
    "x_list"
   ]
  },
  {
   "cell_type": "code",
   "execution_count": 12,
   "id": "73309b18",
   "metadata": {},
   "outputs": [],
   "source": [
    "def uniform_cont(low=0,\n",
    "                 high=1,\n",
    "                 seed=1234567,\n",
    "                 size=1):\n",
    "    \"\"\"\n",
    "    균일분포(연속형)에서 난수 추출\n",
    "    입력값\n",
    "      low: 하한\n",
    "      hight: 상한\n",
    "      seed: 랜덤 시드\n",
    "      size: 추출 개수\n",
    "    출력값\n",
    "      res: 난수 리스트\n",
    "    \"\"\"\n",
    "    s_list = pseudo_sample(seed=seed, size=size)\n",
    "    res = []\n",
    "    for s in s_list:\n",
    "        val = low+(high-low)*s\n",
    "        res.append(val)\n",
    "    return res"
   ]
  },
  {
   "cell_type": "code",
   "execution_count": 19,
   "id": "e53281cc",
   "metadata": {},
   "outputs": [
    {
     "data": {
      "text/plain": [
       "[3.3266539961689405,\n",
       " 3.244088301083114,\n",
       " 2.3616032779037965,\n",
       " 3.473991857596669,\n",
       " 3.705657548134056]"
      ]
     },
     "execution_count": 19,
     "metadata": {},
     "output_type": "execute_result"
    }
   ],
   "source": [
    "uniform_cont(low=2, high=4, size=5)"
   ]
  },
  {
   "cell_type": "code",
   "execution_count": 28,
   "id": "24181a3d",
   "metadata": {},
   "outputs": [],
   "source": [
    "def uniform_disc(low=0,\n",
    "                 high=1,\n",
    "                 seed=1234567,\n",
    "                 size=1):\n",
    "    \"\"\"\n",
    "    균일분포(이산형)에서 랜덤 숫자 추출\n",
    "    입력값\n",
    "      low: 하한\n",
    "      hight: 상한\n",
    "      seed: 랜덤 시드\n",
    "      size: 추출 개수\n",
    "    출력값\n",
    "      res: 난수 리스트\n",
    "    \"\"\"\n",
    "    s_list = pseudo_sample(seed=seed, size=size)\n",
    "    res = []\n",
    "    for s in s_list:\n",
    "        val = int(low+(high-low)*s)\n",
    "        res.append(val)\n",
    "    return res"
   ]
  },
  {
   "cell_type": "code",
   "execution_count": 31,
   "id": "1817ff5d",
   "metadata": {},
   "outputs": [
    {
     "data": {
      "text/plain": [
       "[0, 0, 0, 0, 0, 0, 0, 0, 0, 0]"
      ]
     },
     "execution_count": 31,
     "metadata": {},
     "output_type": "execute_result"
    }
   ],
   "source": [
    "uniform_disc(low=0, high=1, size=10)"
   ]
  },
  {
   "cell_type": "code",
   "execution_count": 32,
   "id": "757ace92",
   "metadata": {},
   "outputs": [
    {
     "data": {
      "text/plain": [
       "[1, 1, 0, 1, 1, 0, 0, 0, 1, 0]"
      ]
     },
     "execution_count": 32,
     "metadata": {},
     "output_type": "execute_result"
    }
   ],
   "source": [
    "uniform_disc(low=0, high=2, size=10)"
   ]
  },
  {
   "cell_type": "code",
   "execution_count": null,
   "id": "6a75b4b7",
   "metadata": {},
   "outputs": [],
   "source": []
  }
 ],
 "metadata": {
  "kernelspec": {
   "display_name": "Python 3 (ipykernel)",
   "language": "python",
   "name": "python3"
  },
  "language_info": {
   "codemirror_mode": {
    "name": "ipython",
    "version": 3
   },
   "file_extension": ".py",
   "mimetype": "text/x-python",
   "name": "python",
   "nbconvert_exporter": "python",
   "pygments_lexer": "ipython3",
   "version": "3.9.4"
  }
 },
 "nbformat": 4,
 "nbformat_minor": 5
}
