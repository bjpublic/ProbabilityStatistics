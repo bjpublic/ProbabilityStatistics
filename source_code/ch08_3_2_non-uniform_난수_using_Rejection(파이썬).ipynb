{
 "cells": [
  {
   "cell_type": "code",
   "execution_count": 2,
   "id": "74062719",
   "metadata": {},
   "outputs": [],
   "source": [
    "def pseudo_sample(x0 = 16809,\n",
    "                  mod = (2**31)-1,\n",
    "                  seed = 1234567,\n",
    "                  size = 1):\n",
    "    \"\"\"\n",
    "    유사 난수 생성(0과 1사이)\n",
    "    입력값\n",
    "      x0: 초기 x0값\n",
    "      mod: 난수 주기\n",
    "      seed: 랜덤 시드\n",
    "      size: 추출할 난수 개수\n",
    "    출력값\n",
    "      res: 0과 1사이 실수 난수 리스트\n",
    "    \"\"\"\n",
    "    res = []\n",
    "    x = (seed * x0 + 1)%mod\n",
    "    u = x/mod\n",
    "    res.append(u)\n",
    "    for i in range(1, size):\n",
    "        x = (seed * x + 1)%mod\n",
    "        u = x/mod\n",
    "        res.append(u)\n",
    "    return res\n",
    "    \n",
    "def uniform_cont(low=0,\n",
    "                 high=1,\n",
    "                 seed=1234567,\n",
    "                 size=1):\n",
    "    \"\"\"\n",
    "    균일분포(연속형)에서 난수 추출\n",
    "    입력값\n",
    "      low: 하한\n",
    "      hight: 상한\n",
    "      seed: 랜덤 시드\n",
    "      size: 추출 개수\n",
    "    출력값\n",
    "      res: 난수 리스트\n",
    "    \"\"\"\n",
    "    s_list = pseudo_sample(seed=seed, size=size)\n",
    "    res = []\n",
    "    for s in s_list:\n",
    "        val = low+(high-low)*s\n",
    "        res.append(val)\n",
    "    return res"
   ]
  },
  {
   "cell_type": "code",
   "execution_count": 90,
   "id": "26485a29",
   "metadata": {},
   "outputs": [],
   "source": [
    "e = 2.7182818284\n",
    "c = 14\n",
    "\n",
    "y = uniform_cont(low=0, high=10, seed=12345, size=20000)\n",
    "u = uniform_cont(low=0, high=1, seed=77777, size=20000)\n",
    "n = len(y)\n",
    "\n",
    "x_list = []\n",
    "\n",
    "for i in range(0,n):\n",
    "    accept_prob = (e**(-y[i]))/(c*(1/10))\n",
    "    if u[i] < accept_prob:\n",
    "        x = y[i]\n",
    "        x_list.append(x)"
   ]
  },
  {
   "cell_type": "code",
   "execution_count": 91,
   "id": "4881b5e9",
   "metadata": {},
   "outputs": [
    {
     "data": {
      "text/plain": [
       "1494"
      ]
     },
     "execution_count": 91,
     "metadata": {},
     "output_type": "execute_result"
    }
   ],
   "source": [
    "len(x_list)"
   ]
  },
  {
   "cell_type": "code",
   "execution_count": 94,
   "id": "fefffd6d",
   "metadata": {},
   "outputs": [
    {
     "data": {
      "image/png": "[encoded data removed]",
      "text/plain": [
       "<Figure size 432x288 with 1 Axes>"
      ]
     },
     "metadata": {
      "needs_background": "light"
     },
     "output_type": "display_data"
    }
   ],
   "source": [
    "import matplotlib.pyplot as plt\n",
    "\n",
    "plt.hist(x_list, bins=100)\n",
    "plt.show()"
   ]
  },
  {
   "cell_type": "markdown",
   "id": "c8078c7b",
   "metadata": {},
   "source": [
    "# 실제 분포와 비슷한지 확인"
   ]
  },
  {
   "cell_type": "code",
   "execution_count": 55,
   "id": "5bb9a76b",
   "metadata": {},
   "outputs": [],
   "source": [
    "import numpy as np\n",
    "\n",
    "np.random.seed(2022)\n",
    "\n",
    "x = np.random.exponential(scale=1, size=1500)"
   ]
  },
  {
   "cell_type": "code",
   "execution_count": 58,
   "id": "f76e3093",
   "metadata": {},
   "outputs": [
    {
     "data": {
      "image/png": "[encoded data removed]",
      "text/plain": [
       "<Figure size 432x288 with 1 Axes>"
      ]
     },
     "metadata": {
      "needs_background": "light"
     },
     "output_type": "display_data"
    }
   ],
   "source": [
    "import matplotlib.pyplot as plt\n",
    "\n",
    "plt.hist(x, bins=100)\n",
    "plt.show()"
   ]
  },
  {
   "cell_type": "code",
   "execution_count": null,
   "id": "ca0dfc0f",
   "metadata": {},
   "outputs": [],
   "source": []
  }
 ],
 "metadata": {
  "kernelspec": {
   "display_name": "Python 3 (ipykernel)",
   "language": "python",
   "name": "python3"
  },
  "language_info": {
   "codemirror_mode": {
    "name": "ipython",
    "version": 3
   },
   "file_extension": ".py",
   "mimetype": "text/x-python",
   "name": "python",
   "nbconvert_exporter": "python",
   "pygments_lexer": "ipython3",
   "version": "3.9.4"
  }
 },
 "nbformat": 4,
 "nbformat_minor": 5
}
