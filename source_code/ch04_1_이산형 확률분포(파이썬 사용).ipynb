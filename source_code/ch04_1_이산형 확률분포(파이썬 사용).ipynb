{
 "cells": [
  {
   "cell_type": "markdown",
   "id": "992b8396",
   "metadata": {},
   "source": [
    "# 이산형 균일 분포"
   ]
  },
  {
   "cell_type": "code",
   "execution_count": 1,
   "id": "f174229f",
   "metadata": {},
   "outputs": [
    {
     "name": "stdout",
     "output_type": "stream",
     "text": [
      "[1, 2, 3, 4, 5]\n"
     ]
    }
   ],
   "source": [
    "a = 1\n",
    "b = 5\n",
    "\n",
    "x_list = list(range(a, b+1))\n",
    "print(x_list)"
   ]
  },
  {
   "cell_type": "code",
   "execution_count": 2,
   "id": "7e3b4400",
   "metadata": {},
   "outputs": [],
   "source": [
    "p_list = []\n",
    "for x in x_list:\n",
    "    prob = 1/(b-a+1)\n",
    "    p_list.append(prob)"
   ]
  },
  {
   "cell_type": "code",
   "execution_count": 3,
   "id": "195e0837",
   "metadata": {},
   "outputs": [
    {
     "name": "stdout",
     "output_type": "stream",
     "text": [
      "[0.2, 0.2, 0.2, 0.2, 0.2]\n"
     ]
    }
   ],
   "source": [
    "print(p_list)"
   ]
  },
  {
   "cell_type": "code",
   "execution_count": 4,
   "id": "6089380f",
   "metadata": {},
   "outputs": [
    {
     "data": {
      "image/png": "[encoded data removed]",
      "text/plain": [
       "<Figure size 432x288 with 1 Axes>"
      ]
     },
     "metadata": {
      "needs_background": "light"
     },
     "output_type": "display_data"
    }
   ],
   "source": [
    "import matplotlib.pyplot as plt\n",
    "\n",
    "plt.bar(x_list, p_list)\n",
    "plt.show()"
   ]
  },
  {
   "cell_type": "markdown",
   "id": "6bdef65d",
   "metadata": {},
   "source": [
    "# 베르누이 분포"
   ]
  },
  {
   "cell_type": "code",
   "execution_count": 9,
   "id": "c82eb0bf",
   "metadata": {},
   "outputs": [],
   "source": [
    "p = 0.3\n",
    "x_list = [0, 1]\n",
    "p_list = []\n",
    "\n",
    "for x in x_list:\n",
    "    prob = (p**x)*((1-p)**(1-x))\n",
    "    p_list.append(prob)"
   ]
  },
  {
   "cell_type": "code",
   "execution_count": 10,
   "id": "17ba2313",
   "metadata": {},
   "outputs": [
    {
     "data": {
      "image/png": "[encoded data removed]",
      "text/plain": [
       "<Figure size 432x288 with 1 Axes>"
      ]
     },
     "metadata": {
      "needs_background": "light"
     },
     "output_type": "display_data"
    }
   ],
   "source": [
    "import matplotlib.pyplot as plt\n",
    "\n",
    "plt.bar(x_list, p_list)\n",
    "plt.show()"
   ]
  },
  {
   "cell_type": "markdown",
   "id": "931545ff",
   "metadata": {},
   "source": [
    "# 이항 분포"
   ]
  },
  {
   "cell_type": "code",
   "execution_count": 14,
   "id": "ad37d24e",
   "metadata": {},
   "outputs": [],
   "source": [
    "def factorial(x):\n",
    "    \"\"\"\n",
    "    팩토리얼 함수\n",
    "    입력값: 정수 x\n",
    "    출력값: x!\n",
    "    \"\"\"\n",
    "    x_list = list(range(1, x+1))\n",
    "    res = 1\n",
    "    for val in x_list:\n",
    "        res *= val\n",
    "    return res\n",
    "\n",
    "def combination(n, x):\n",
    "    \"\"\"\n",
    "    조합\n",
    "    입력값: n, x\n",
    "    출력값: nCx(실수)\n",
    "    \"\"\"\n",
    "    res = factorial(n)/(factorial(x)*factorial(n-x))\n",
    "    return res"
   ]
  },
  {
   "cell_type": "code",
   "execution_count": 15,
   "id": "ff95c5a5",
   "metadata": {},
   "outputs": [],
   "source": [
    "n = 10\n",
    "p = 0.3\n",
    "x_list = list(range(0, n+1))\n",
    "p_list = []\n",
    "\n",
    "for x in x_list:\n",
    "    prob = combination(n,x)*(p**x)*((1-p)**(n-x))\n",
    "    p_list.append(prob)"
   ]
  },
  {
   "cell_type": "code",
   "execution_count": 16,
   "id": "c1374f1c",
   "metadata": {},
   "outputs": [
    {
     "data": {
      "text/plain": [
       "[0.02824752489999998,\n",
       " 0.12106082099999993,\n",
       " 0.23347444049999988,\n",
       " 0.2668279319999998,\n",
       " 0.2001209489999999,\n",
       " 0.10291934519999994,\n",
       " 0.03675690899999999,\n",
       " 0.009001691999999995,\n",
       " 0.0014467004999999993,\n",
       " 0.00013778099999999996,\n",
       " 5.9048999999999975e-06]"
      ]
     },
     "execution_count": 16,
     "metadata": {},
     "output_type": "execute_result"
    }
   ],
   "source": [
    "p_list"
   ]
  },
  {
   "cell_type": "code",
   "execution_count": 17,
   "id": "46a00d96",
   "metadata": {},
   "outputs": [
    {
     "data": {
      "image/png": "[encoded data removed]",
      "text/plain": [
       "<Figure size 432x288 with 1 Axes>"
      ]
     },
     "metadata": {
      "needs_background": "light"
     },
     "output_type": "display_data"
    }
   ],
   "source": [
    "import matplotlib.pyplot as plt\n",
    "\n",
    "plt.bar(x_list, p_list)\n",
    "plt.show()"
   ]
  },
  {
   "cell_type": "markdown",
   "id": "5d7266cc",
   "metadata": {},
   "source": [
    "# 포아송 분포"
   ]
  },
  {
   "cell_type": "code",
   "execution_count": 21,
   "id": "d47ed2f4",
   "metadata": {},
   "outputs": [],
   "source": [
    "def factorial(x):\n",
    "    \"\"\"\n",
    "    팩토리얼 함수\n",
    "    입력값: 정수 x\n",
    "    출력값: x!\n",
    "    \"\"\"\n",
    "    x_list = list(range(1, x+1))\n",
    "    res = 1\n",
    "    for val in x_list:\n",
    "        res *= val\n",
    "    return res"
   ]
  },
  {
   "cell_type": "code",
   "execution_count": 22,
   "id": "b4ce9061",
   "metadata": {},
   "outputs": [],
   "source": [
    "e = 2.7182818284\n",
    "\n",
    "lamb = 2\n",
    "x_list = list(range(0, 10))\n",
    "p_list = []\n",
    "\n",
    "for x in x_list:\n",
    "    prob = ((e**(-lamb))*(lamb**x))/factorial(x)\n",
    "    p_list.append(prob)"
   ]
  },
  {
   "cell_type": "code",
   "execution_count": 23,
   "id": "69ded8ef",
   "metadata": {},
   "outputs": [
    {
     "name": "stdout",
     "output_type": "stream",
     "text": [
      "[0.13533528324249208, 0.27067056648498417, 0.27067056648498417, 0.18044704432332279, 0.09022352216166139, 0.03608940886466456, 0.012029802954888185, 0.0034370865585394814, 0.0008592716396348703, 0.0001909492532521934]\n"
     ]
    }
   ],
   "source": [
    "print(p_list)"
   ]
  },
  {
   "cell_type": "code",
   "execution_count": 24,
   "id": "c09233c5",
   "metadata": {},
   "outputs": [
    {
     "data": {
      "image/png": "[encoded data removed]",
      "text/plain": [
       "<Figure size 432x288 with 1 Axes>"
      ]
     },
     "metadata": {
      "needs_background": "light"
     },
     "output_type": "display_data"
    }
   ],
   "source": [
    "import matplotlib.pyplot as plt\n",
    "\n",
    "plt.bar(x_list, p_list)\n",
    "plt.show()"
   ]
  },
  {
   "cell_type": "markdown",
   "id": "734dd1ab",
   "metadata": {},
   "source": [
    "# 기하 분포"
   ]
  },
  {
   "cell_type": "code",
   "execution_count": 27,
   "id": "d3a9e970",
   "metadata": {},
   "outputs": [],
   "source": [
    "p = 0.7\n",
    "x_list = list(range(1, 10))\n",
    "p_list = []\n",
    "\n",
    "for x in x_list:\n",
    "    prob = p*((1-p)**(x-1))\n",
    "    p_list.append(prob)"
   ]
  },
  {
   "cell_type": "code",
   "execution_count": 28,
   "id": "e0050889",
   "metadata": {},
   "outputs": [
    {
     "name": "stdout",
     "output_type": "stream",
     "text": [
      "[0.7, 0.21000000000000002, 0.06300000000000001, 0.018900000000000007, 0.005670000000000003, 0.0017010000000000011, 0.0005103000000000004, 0.00015309000000000015, 4.592700000000005e-05]\n"
     ]
    }
   ],
   "source": [
    "print(p_list)"
   ]
  },
  {
   "cell_type": "code",
   "execution_count": 29,
   "id": "2cd78124",
   "metadata": {},
   "outputs": [
    {
     "data": {
      "image/png": "[encoded data removed]",
      "text/plain": [
       "<Figure size 432x288 with 1 Axes>"
      ]
     },
     "metadata": {
      "needs_background": "light"
     },
     "output_type": "display_data"
    }
   ],
   "source": [
    "import matplotlib.pyplot as plt\n",
    "\n",
    "plt.bar(x_list, p_list)\n",
    "plt.show()"
   ]
  },
  {
   "cell_type": "markdown",
   "id": "07e6b82a",
   "metadata": {},
   "source": [
    "# 음이항 분포"
   ]
  },
  {
   "cell_type": "code",
   "execution_count": 33,
   "id": "7435c19e",
   "metadata": {},
   "outputs": [],
   "source": [
    "def factorial(x):\n",
    "    \"\"\"\n",
    "    팩토리얼 함수\n",
    "    입력값: 정수 x\n",
    "    출력값: x!\n",
    "    \"\"\"\n",
    "    x_list = list(range(1, x+1))\n",
    "    res = 1\n",
    "    for val in x_list:\n",
    "        res *= val\n",
    "    return res\n",
    "\n",
    "def combination(n, x):\n",
    "    \"\"\"\n",
    "    조합\n",
    "    입력값: n, x\n",
    "    출력값: nCx(실수)\n",
    "    \"\"\"\n",
    "    res = factorial(n)/(factorial(x)*factorial(n-x))\n",
    "    return res"
   ]
  },
  {
   "cell_type": "code",
   "execution_count": 34,
   "id": "02190e40",
   "metadata": {},
   "outputs": [],
   "source": [
    "r = 5\n",
    "p = 0.6\n",
    "x_list = list(range(r, r+20))\n",
    "p_list = []\n",
    "\n",
    "for x in x_list:\n",
    "    prob = combination(x-1, r-1)*(p**r)*((1-p)**(x-r))\n",
    "    p_list.append(prob)"
   ]
  },
  {
   "cell_type": "code",
   "execution_count": 35,
   "id": "19ca74d8",
   "metadata": {},
   "outputs": [
    {
     "data": {
      "image/png": "[encoded data removed]",
      "text/plain": [
       "<Figure size 432x288 with 1 Axes>"
      ]
     },
     "metadata": {
      "needs_background": "light"
     },
     "output_type": "display_data"
    }
   ],
   "source": [
    "import matplotlib.pyplot as plt\n",
    "\n",
    "plt.bar(x_list, p_list)\n",
    "plt.show()"
   ]
  },
  {
   "cell_type": "code",
   "execution_count": null,
   "id": "1f7ab5e1",
   "metadata": {},
   "outputs": [],
   "source": []
  }
 ],
 "metadata": {
  "kernelspec": {
   "display_name": "Python 3 (ipykernel)",
   "language": "python",
   "name": "python3"
  },
  "language_info": {
   "codemirror_mode": {
    "name": "ipython",
    "version": 3
   },
   "file_extension": ".py",
   "mimetype": "text/x-python",
   "name": "python",
   "nbconvert_exporter": "python",
   "pygments_lexer": "ipython3",
   "version": "3.9.4"
  }
 },
 "nbformat": 4,
 "nbformat_minor": 5
}
